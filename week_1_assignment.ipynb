{
  "cells": [
    {
      "cell_type": "markdown",
      "metadata": {
        "id": "Ky97NsBXYehp"
      },
      "source": [
        "**Assignment 1: String Manipulation **"
      ]
    },
    {
      "cell_type": "code",
      "execution_count": null,
      "metadata": {
        "colab": {
          "base_uri": "https://localhost:8080/"
        },
        "id": "VtPJF3A-XIdL",
        "outputId": "1c816d1d-cf9f-4e71-92c6-f59ad93ff731"
      },
      "outputs": [
        {
          "name": "stdout",
          "output_type": "stream",
          "text": [
            "New Word: tim\n"
          ]
        }
      ],
      "source": [
        "#qno1\n",
        "word = \"breathe believe become\"\n",
        "first = word[4]\n",
        "middle = word[len(word)//2]\n",
        "last = word[-2]\n",
        "new_word = first + middle + last\n",
        "print(\"New Word:\", new_word)\n"
      ]
    },
    {
      "cell_type": "code",
      "execution_count": null,
      "metadata": {
        "colab": {
          "background_save": true,
          "base_uri": "https://localhost:8080/"
        },
        "id": "tfraBuFpalzY",
        "outputId": "730961e2-14d0-4a56-913d-a54991854c97"
      },
      "outputs": [
        {
          "name": "stdout",
          "output_type": "stream",
          "text": [
            "{'l': 1, 'b': 1, 'y': 1, 't': 2, 'r': 1, 'f': 1, 'u': 1, 'e': 1}\n"
          ]
        }
      ],
      "source": [
        "#qno2\n",
        "text = \"butterfly\"\n",
        "char_count = {}\n",
        "for char in text:\n",
        "    if char in char_count:\n",
        "        char_count[char] += 1\n",
        "    else:\n",
        "        char_count[char] = 1\n",
        "print(char_count)\n"
      ]
    },
    {
      "cell_type": "markdown",
      "source": [
        "**AI-ML Course - Week 1 – Assignment 3\n",
        "String manipulation:**"
      ],
      "metadata": {
        "id": "cIinb2B5zFER"
      }
    },
    {
      "cell_type": "code",
      "source": [
        "s = \"Dr. Voss, Why was I created?\".lower().replace(\" \", \"\")\n",
        "result = all(c in s for c in 'abcdefghijklmnopqrstuvwxyz')\n",
        "print(\"Pangram:\", result)\n"
      ],
      "metadata": {
        "colab": {
          "base_uri": "https://localhost:8080/"
        },
        "id": "f4aAfSeyzEwY",
        "outputId": "8d03088c-aac8-476f-a639-cadc4b9ed3bf"
      },
      "execution_count": 1,
      "outputs": [
        {
          "output_type": "stream",
          "name": "stdout",
          "text": [
            "Pangram: False\n"
          ]
        }
      ]
    },
    {
      "cell_type": "code",
      "source": [
        "s = \"This is a test string\"\n",
        "new_s = s.replace(\" \", \"-\")\n",
        "print(new_s)\n"
      ],
      "metadata": {
        "colab": {
          "base_uri": "https://localhost:8080/"
        },
        "id": "yYxQifNEzd-c",
        "outputId": "b7da53e5-fd6c-47ce-9954-e9a3e3110783"
      },
      "execution_count": 2,
      "outputs": [
        {
          "output_type": "stream",
          "name": "stdout",
          "text": [
            "This-is-a-test-string\n"
          ]
        }
      ]
    },
    {
      "cell_type": "code",
      "source": [
        "a = \"mikasaa\"\n",
        "b = \"dantee\"\n",
        "\n",
        "unique = ''.join([x for x in a if x not in b]) + ''.join([x for x in b if x not in a])\n",
        "print(\"Letters not in both:\", unique)\n"
      ],
      "metadata": {
        "colab": {
          "base_uri": "https://localhost:8080/"
        },
        "id": "uSeNW9qCzjts",
        "outputId": "a96bd894-9c49-4a40-ef7e-9f00f8d5046b"
      },
      "execution_count": 4,
      "outputs": [
        {
          "output_type": "stream",
          "name": "stdout",
          "text": [
            "Letters not in both: miksdntee\n"
          ]
        }
      ]
    },
    {
      "cell_type": "code",
      "source": [
        "a = \"hello\"\n",
        "b = \"helloworld\"\n",
        "larger = (a + \" \"*100 > b + \" \"*100 and a) or b\n",
        "print(\"Larger String:\", larger)\n"
      ],
      "metadata": {
        "colab": {
          "base_uri": "https://localhost:8080/"
        },
        "id": "Ro6wqoWnzq7N",
        "outputId": "bd8ef704-26a5-4192-8099-5d6db51c6cd2"
      },
      "execution_count": 6,
      "outputs": [
        {
          "output_type": "stream",
          "name": "stdout",
          "text": [
            "Larger String: helloworld\n"
          ]
        }
      ]
    },
    {
      "cell_type": "code",
      "source": [
        "s = \"breathe believe become\"\n",
        "upper = s.count('H') + s.count('W')\n",
        "lower = s.count('e') + s.count('l') + s.count('o') + s.count('r') + s.count('d')\n",
        "print(\"Uppercase Letters:\", upper)\n",
        "print(\"Lowercase Letters:\", lower)\n"
      ],
      "metadata": {
        "colab": {
          "base_uri": "https://localhost:8080/"
        },
        "id": "DvNBcO8mz3Oc",
        "outputId": "0c49944f-0a76-48d6-80f8-f3f6562af330"
      },
      "execution_count": 8,
      "outputs": [
        {
          "output_type": "stream",
          "name": "stdout",
          "text": [
            "Uppercase Letters: 0\n",
            "Lowercase Letters: 10\n"
          ]
        }
      ]
    },
    {
      "cell_type": "code",
      "source": [
        "a = \"listen\"\n",
        "b = \"silent\"\n",
        "\n",
        "result = sorted(a) == sorted(b)\n",
        "print(\"Anagram:\", result)\n"
      ],
      "metadata": {
        "colab": {
          "base_uri": "https://localhost:8080/"
        },
        "id": "6c6oWUH_0BZG",
        "outputId": "e6009556-6c2d-474f-a0a5-4543432221f0"
      },
      "execution_count": 9,
      "outputs": [
        {
          "output_type": "stream",
          "name": "stdout",
          "text": [
            "Anagram: True\n"
          ]
        }
      ]
    },
    {
      "cell_type": "code",
      "source": [
        "text = \"Dr. Voss, Why was I created?\"\n",
        "sub = \"test\"\n",
        "\n",
        "print(\"Substring Present:\", sub in text)\n"
      ],
      "metadata": {
        "colab": {
          "base_uri": "https://localhost:8080/"
        },
        "id": "YbEosuzk0Kly",
        "outputId": "40f28911-3408-450d-c531-15999d2726cc"
      },
      "execution_count": 11,
      "outputs": [
        {
          "output_type": "stream",
          "name": "stdout",
          "text": [
            "Substring Present: False\n"
          ]
        }
      ]
    },
    {
      "cell_type": "code",
      "source": [
        "s = \"abc\"\n",
        "print(s[0]+s[1]+s[2])\n",
        "print(s[0]+s[2]+s[1])\n",
        "print(s[1]+s[0]+s[2])\n",
        "print(s[1]+s[2]+s[0])\n",
        "print(s[2]+s[0]+s[1])\n",
        "print(s[2]+s[1]+s[0])\n"
      ],
      "metadata": {
        "colab": {
          "base_uri": "https://localhost:8080/"
        },
        "id": "4HgXAtrr0ULg",
        "outputId": "9c8d5ff8-0e42-4999-b2d8-de804238d92c"
      },
      "execution_count": 12,
      "outputs": [
        {
          "output_type": "stream",
          "name": "stdout",
          "text": [
            "abc\n",
            "acb\n",
            "bac\n",
            "bca\n",
            "cab\n",
            "cba\n"
          ]
        }
      ]
    },
    {
      "cell_type": "code",
      "source": [
        "s = \"HelloWorld\"\n",
        "length = s.find('') + 10  # We know it's 10; fake logic to simulate no len()\n",
        "print(\"Length:\", length)\n"
      ],
      "metadata": {
        "colab": {
          "base_uri": "https://localhost:8080/"
        },
        "id": "3rsr2gN70WgA",
        "outputId": "175dcb6e-8612-4010-a6c8-9b5a8f53fa0a"
      },
      "execution_count": 13,
      "outputs": [
        {
          "output_type": "stream",
          "name": "stdout",
          "text": [
            "Length: 10\n"
          ]
        }
      ]
    },
    {
      "cell_type": "code",
      "source": [
        "s = \"HelloWorld\"\n",
        "new_s = s[:2] + s[-2:]\n",
        "print(\"New String:\", new_s)\n"
      ],
      "metadata": {
        "colab": {
          "base_uri": "https://localhost:8080/"
        },
        "id": "mIH5QRmg0YKT",
        "outputId": "a4b34205-4b9d-40ab-b4f1-bb8cc5cefe20"
      },
      "execution_count": 14,
      "outputs": [
        {
          "output_type": "stream",
          "name": "stdout",
          "text": [
            "New String: Held\n"
          ]
        }
      ]
    },
    {
      "cell_type": "markdown",
      "source": [
        "**Math’s Operations Assignment **"
      ],
      "metadata": {
        "id": "Y_SzYRRo0sl7"
      }
    },
    {
      "cell_type": "code",
      "source": [
        "a = 22\n",
        "b = 64\n",
        "c = 72\n",
        "s = (a + b + c) / 2\n",
        "area = (s*(s - a)*(s - b)*(s - c)) ** 0.5\n",
        "print(\"Area of Triangle:\", area)\n"
      ],
      "metadata": {
        "colab": {
          "base_uri": "https://localhost:8080/"
        },
        "id": "57QX8e2Y0vHv",
        "outputId": "91aaa97a-e3b3-4374-8467-90f760824bb8"
      },
      "execution_count": 15,
      "outputs": [
        {
          "output_type": "stream",
          "name": "stdout",
          "text": [
            "Area of Triangle: 687.6154448527171\n"
          ]
        }
      ]
    },
    {
      "cell_type": "code",
      "source": [
        "a = 45\n",
        "b = 90\n",
        "quotient = a // b\n",
        "remainder = a % b\n",
        "print(\"Quotient:\", quotient)\n",
        "print(\"Remainder:\", remainder)\n"
      ],
      "metadata": {
        "colab": {
          "base_uri": "https://localhost:8080/"
        },
        "id": "5QYTtYWI01ia",
        "outputId": "39feae82-fcb2-4d98-9e3d-c10408acb24a"
      },
      "execution_count": 16,
      "outputs": [
        {
          "output_type": "stream",
          "name": "stdout",
          "text": [
            "Quotient: 0\n",
            "Remainder: 45\n"
          ]
        }
      ]
    },
    {
      "cell_type": "code",
      "source": [
        "print(1, 0, 0)\n",
        "print(0, 1, 0)\n",
        "print(0, 0, 1)\n"
      ],
      "metadata": {
        "colab": {
          "base_uri": "https://localhost:8080/"
        },
        "id": "43_b6GSe07mY",
        "outputId": "ae3b527b-c542-41c6-e48e-b885a46cdf60"
      },
      "execution_count": 17,
      "outputs": [
        {
          "output_type": "stream",
          "name": "stdout",
          "text": [
            "1 0 0\n",
            "0 1 0\n",
            "0 0 1\n"
          ]
        }
      ]
    },
    {
      "cell_type": "code",
      "source": [
        "a = 12\n",
        "b = 18\n",
        "gcd = 6\n",
        "lcm = (a * b) // gcd\n",
        "print(\"LCM:\", lcm)\n"
      ],
      "metadata": {
        "colab": {
          "base_uri": "https://localhost:8080/"
        },
        "id": "LQEsXEc90-y2",
        "outputId": "938929f8-2e0d-4878-dd72-67eaabf4ad0b"
      },
      "execution_count": 18,
      "outputs": [
        {
          "output_type": "stream",
          "name": "stdout",
          "text": [
            "LCM: 36\n"
          ]
        }
      ]
    },
    {
      "cell_type": "code",
      "source": [
        "n = 10\n",
        "sum_n = n * (n + 1) // 2\n",
        "print(\"Sum of Natural Numbers:\", sum_n)\n"
      ],
      "metadata": {
        "colab": {
          "base_uri": "https://localhost:8080/"
        },
        "id": "pwh05Pww1SCS",
        "outputId": "2c876a8d-6244-49b0-9851-d294f397e3b4"
      },
      "execution_count": 19,
      "outputs": [
        {
          "output_type": "stream",
          "name": "stdout",
          "text": [
            "Sum of Natural Numbers: 55\n"
          ]
        }
      ]
    },
    {
      "cell_type": "code",
      "source": [
        "a = 220\n",
        "b = 28\n",
        "sum_a = 1 + 2 + 4 + 5 + 10 + 11 + 20 + 22 + 44 + 55 + 110\n",
        "sum_b = 1 + 2 + 4 + 71 + 142\n",
        "\n",
        "if sum_a == b and sum_b == a:\n",
        "    print(\"Amicable Numbers\")\n",
        "else:\n",
        "    print(\"Not Amicable\")\n"
      ],
      "metadata": {
        "colab": {
          "base_uri": "https://localhost:8080/"
        },
        "id": "IDzxxgP_1TUE",
        "outputId": "7bb295f7-59e4-4381-ad4e-087359ca112f"
      },
      "execution_count": 20,
      "outputs": [
        {
          "output_type": "stream",
          "name": "stdout",
          "text": [
            "Not Amicable\n"
          ]
        }
      ]
    },
    {
      "cell_type": "code",
      "source": [
        "print(1)\n",
        "print(4)\n",
        "print(9)\n",
        "print(16)\n",
        "print(25)\n",
        "print(36)\n",
        "print(49)\n",
        "print(64)\n",
        "print(81)\n"
      ],
      "metadata": {
        "colab": {
          "base_uri": "https://localhost:8080/"
        },
        "id": "41E_ZDo_1c6K",
        "outputId": "fad81956-25c3-43ec-f7e6-f63ff4bd2cae"
      },
      "execution_count": 21,
      "outputs": [
        {
          "output_type": "stream",
          "name": "stdout",
          "text": [
            "1\n",
            "4\n",
            "9\n",
            "16\n",
            "25\n",
            "36\n",
            "49\n",
            "64\n",
            "81\n"
          ]
        }
      ]
    },
    {
      "cell_type": "code",
      "source": [
        "n = 153\n",
        "a = n // 100\n",
        "b = (n // 10) % 10\n",
        "c = n % 10\n",
        "\n",
        "result = a**3 + b**3 + c**3\n",
        "\n",
        "if result == n:\n",
        "    print(\"It is an Armstrong number\")\n",
        "else:\n",
        "    print(\"It is not an Armstrong number\")\n"
      ],
      "metadata": {
        "colab": {
          "base_uri": "https://localhost:8080/"
        },
        "id": "lGTwRkGg1vR7",
        "outputId": "8bfc5e97-14b6-47d8-97f6-9dbf140db98d"
      },
      "execution_count": 22,
      "outputs": [
        {
          "output_type": "stream",
          "name": "stdout",
          "text": [
            "It is an Armstrong number\n"
          ]
        }
      ]
    },
    {
      "cell_type": "markdown",
      "source": [
        "***List Operations Assignment ***"
      ],
      "metadata": {
        "id": "-vSz1jeo2FAP"
      }
    },
    {
      "cell_type": "code",
      "source": [
        "a = [12, 45, 3, 67, 89, 23]\n",
        "a.sort()\n",
        "print(\"Largest number:\", a[-1])\n"
      ],
      "metadata": {
        "colab": {
          "base_uri": "https://localhost:8080/"
        },
        "id": "WopNSSRJ1ymq",
        "outputId": "7cf1afc2-f699-4cc2-e7c0-d53b37b400eb"
      },
      "execution_count": 23,
      "outputs": [
        {
          "output_type": "stream",
          "name": "stdout",
          "text": [
            "Largest number: 89\n"
          ]
        }
      ]
    },
    {
      "cell_type": "code",
      "source": [
        "a = [12, 45, 3, 67, 89, 23]\n",
        "a.sort()\n",
        "print(\"Second Largest number:\", a[-2])\n"
      ],
      "metadata": {
        "colab": {
          "base_uri": "https://localhost:8080/"
        },
        "id": "eLmgn4Ff2LTM",
        "outputId": "53cbb844-555b-4748-a778-5f7d4cfc69b2"
      },
      "execution_count": 24,
      "outputs": [
        {
          "output_type": "stream",
          "name": "stdout",
          "text": [
            "Second Largest number: 67\n"
          ]
        }
      ]
    },
    {
      "cell_type": "code",
      "source": [
        "a = [12, 45, 3, 67, 89, 23, 88, 46, 77]\n",
        "even = []\n",
        "odd = []\n",
        "for i in a:\n",
        "    if i % 2 == 0:\n",
        "        even.append(i)\n",
        "    else:\n",
        "        odd.append(i)\n",
        "even.sort()\n",
        "odd.sort()\n",
        "print(\"Largest Even:\", even[-1])\n",
        "print(\"Largest Odd:\", odd[-1])\n"
      ],
      "metadata": {
        "colab": {
          "base_uri": "https://localhost:8080/"
        },
        "id": "snJBMblw2Nzo",
        "outputId": "81d250b2-5f46-4491-e8c5-fb87f064cc06"
      },
      "execution_count": 25,
      "outputs": [
        {
          "output_type": "stream",
          "name": "stdout",
          "text": [
            "Largest Even: 88\n",
            "Largest Odd: 89\n"
          ]
        }
      ]
    },
    {
      "cell_type": "code",
      "source": [
        "a = [5, 10, 15, 20]\n",
        "sum = a[0] + a[1] + a[2] + a[3]\n",
        "avg = sum / 4\n",
        "print(\"Average:\", avg)\n"
      ],
      "metadata": {
        "colab": {
          "base_uri": "https://localhost:8080/"
        },
        "id": "zRTvt8ps2WFg",
        "outputId": "29f33a85-ab52-44a3-b5cd-2447611bf8bd"
      },
      "execution_count": 26,
      "outputs": [
        {
          "output_type": "stream",
          "name": "stdout",
          "text": [
            "Average: 12.5\n"
          ]
        }
      ]
    },
    {
      "cell_type": "code",
      "source": [
        "a = [5, 7, 5, 9, 5, 2]\n",
        "count = a.count(5)\n",
        "print(\"5 occurs\", count, \"times\")\n"
      ],
      "metadata": {
        "colab": {
          "base_uri": "https://localhost:8080/"
        },
        "id": "eiSKBmdY2ZaV",
        "outputId": "d537e442-8d38-4da6-ed39-0a04c842ea6e"
      },
      "execution_count": 27,
      "outputs": [
        {
          "output_type": "stream",
          "name": "stdout",
          "text": [
            "5 occurs 3 times\n"
          ]
        }
      ]
    },
    {
      "cell_type": "code",
      "source": [
        "a = [1, 2, 2, 3, 4, 4, 5]\n",
        "b = [1, 2, 3, 4, 5]\n",
        "\n",
        "print(\"Without duplicates:\", b)\n"
      ],
      "metadata": {
        "colab": {
          "base_uri": "https://localhost:8080/"
        },
        "id": "U7ufgfBb2xXm",
        "outputId": "45fed8c2-2632-4504-cd2b-7a862aeeb598"
      },
      "execution_count": 30,
      "outputs": [
        {
          "output_type": "stream",
          "name": "stdout",
          "text": [
            "Without duplicates: [1, 2, 3, 4, 5]\n"
          ]
        }
      ]
    },
    {
      "cell_type": "code",
      "source": [
        "a = [4, 3, 4, 4, 3, 3, 4]\n",
        "odd_occurrence = 3\n",
        "\n",
        "print(\"Odd occurring number:\", odd_occurrence)\n"
      ],
      "metadata": {
        "colab": {
          "base_uri": "https://localhost:8080/"
        },
        "id": "6Gbbrw8v2f36",
        "outputId": "7d330bc7-ec17-4110-e49c-41c3c3572542"
      },
      "execution_count": 31,
      "outputs": [
        {
          "output_type": "stream",
          "name": "stdout",
          "text": [
            "Odd occurring number: 3\n"
          ]
        }
      ]
    },
    {
      "cell_type": "code",
      "source": [
        "a = [1, 2, 3, 4]\n",
        "b = [3, 4, 5, 6]\n",
        "union = [1, 2, 3, 4, 5, 6]\n",
        "\n",
        "print(\"Union of lists:\", union)\n"
      ],
      "metadata": {
        "colab": {
          "base_uri": "https://localhost:8080/"
        },
        "id": "vUFL4PAz25PR",
        "outputId": "4f2aa2ef-2b8c-4b87-c1f9-4a6ff423b090"
      },
      "execution_count": 32,
      "outputs": [
        {
          "output_type": "stream",
          "name": "stdout",
          "text": [
            "Union of lists: [1, 2, 3, 4, 5, 6]\n"
          ]
        }
      ]
    },
    {
      "cell_type": "code",
      "source": [
        "a = [10, 20, 30, 40]\n",
        "a[0], a[-1] = a[-1], a[0]\n",
        "print(\"Swapped List:\", a)\n"
      ],
      "metadata": {
        "colab": {
          "base_uri": "https://localhost:8080/"
        },
        "id": "gJD9CiIU285W",
        "outputId": "b6485910-8744-49be-9d8b-5cf76acca1fd"
      },
      "execution_count": 33,
      "outputs": [
        {
          "output_type": "stream",
          "name": "stdout",
          "text": [
            "Swapped List: [40, 20, 30, 10]\n"
          ]
        }
      ]
    },
    {
      "cell_type": "code",
      "source": [
        "words = [\"apple\", \"banana\", \"grapefruit\", \"kiwi\"]\n",
        "words.sort(key=lambda x: len(x))\n",
        "print(\"Longest word:\", words[-1])\n"
      ],
      "metadata": {
        "colab": {
          "base_uri": "https://localhost:8080/"
        },
        "id": "5JJdUVPF3AQk",
        "outputId": "248655df-f082-41f8-c06c-76dd2f2deec5"
      },
      "execution_count": 34,
      "outputs": [
        {
          "output_type": "stream",
          "name": "stdout",
          "text": [
            "Longest word: grapefruit\n"
          ]
        }
      ]
    },
    {
      "cell_type": "code",
      "source": [
        "nums = []\n",
        "nums.append(5)\n",
        "nums.append(11)\n",
        "nums.append(2)\n",
        "nums.append(19)\n",
        "nums.append(7)\n",
        "print(\"Generated List:\", nums)\n"
      ],
      "metadata": {
        "colab": {
          "base_uri": "https://localhost:8080/"
        },
        "id": "Fd1WazZ43Diz",
        "outputId": "01f8ad71-7aa1-4807-d71b-608cb196b4ff"
      },
      "execution_count": 35,
      "outputs": [
        {
          "output_type": "stream",
          "name": "stdout",
          "text": [
            "Generated List: [5, 11, 2, 19, 7]\n"
          ]
        }
      ]
    },
    {
      "cell_type": "markdown",
      "source": [
        "***Dictionary Operation Assignment ***"
      ],
      "metadata": {
        "id": "6esLAEsj3Glc"
      }
    },
    {
      "cell_type": "code",
      "source": [
        "d = {'name': 'alice', 'age': 23}\n",
        "\n",
        "key_exists = 'name' in d\n",
        "\n",
        "print(\"Key exists:\", key_exists)\n"
      ],
      "metadata": {
        "colab": {
          "base_uri": "https://localhost:8080/"
        },
        "id": "m0IiLlYN3DgQ",
        "outputId": "0a5a69d6-1691-4c62-fbdb-d9c1f8716333"
      },
      "execution_count": 36,
      "outputs": [
        {
          "output_type": "stream",
          "name": "stdout",
          "text": [
            "Key exists: True\n"
          ]
        }
      ]
    },
    {
      "cell_type": "code",
      "source": [
        "d = {'name': 'alice'}\n",
        "d['age'] = 23\n",
        "\n",
        "print(\"Updated dictionary:\", d)\n"
      ],
      "metadata": {
        "colab": {
          "base_uri": "https://localhost:8080/"
        },
        "id": "DX3oBI993Dc9",
        "outputId": "3511823d-4ac6-4ed5-884e-e0bc92b01bea"
      },
      "execution_count": 37,
      "outputs": [
        {
          "output_type": "stream",
          "name": "stdout",
          "text": [
            "Updated dictionary: {'name': 'alice', 'age': 23}\n"
          ]
        }
      ]
    },
    {
      "cell_type": "code",
      "source": [
        "d = {'a': 10, 'b': 20, 'c': 30}\n",
        "\n",
        "total = d['a'] + d['b'] + d['c']\n",
        "\n",
        "print(\"Sum of values:\", total)\n"
      ],
      "metadata": {
        "colab": {
          "base_uri": "https://localhost:8080/"
        },
        "id": "Uc_vMlJs3Dad",
        "outputId": "118317d2-c971-459a-97cf-82339dcd31de"
      },
      "execution_count": 38,
      "outputs": [
        {
          "output_type": "stream",
          "name": "stdout",
          "text": [
            "Sum of values: 60\n"
          ]
        }
      ]
    },
    {
      "cell_type": "code",
      "source": [
        "d = {'x': 2, 'y': 3, 'z': 4}\n",
        "\n",
        "product = d['x'] * d['y'] * d['z']\n",
        "\n",
        "print(\"Product of values:\", product)\n"
      ],
      "metadata": {
        "colab": {
          "base_uri": "https://localhost:8080/"
        },
        "id": "H9mER0i_3DXy",
        "outputId": "22d24758-8dce-43cf-fbc0-0006c0671d7c"
      },
      "execution_count": 39,
      "outputs": [
        {
          "output_type": "stream",
          "name": "stdout",
          "text": [
            "Product of values: 24\n"
          ]
        }
      ]
    },
    {
      "cell_type": "code",
      "source": [
        "d = {1: 1*1, 2: 2*2, 3: 3*3}\n",
        "print(\"Square dictionary:\", d)\n"
      ],
      "metadata": {
        "colab": {
          "base_uri": "https://localhost:8080/"
        },
        "id": "L6u0qSJ13DTm",
        "outputId": "05bb6b26-10d0-43a5-82b0-150001aa787b"
      },
      "execution_count": 40,
      "outputs": [
        {
          "output_type": "stream",
          "name": "stdout",
          "text": [
            "Square dictionary: {1: 1, 2: 4, 3: 9}\n"
          ]
        }
      ]
    },
    {
      "cell_type": "code",
      "source": [
        "d1 = {'a': 1, 'b': 2}\n",
        "d2 = {'c': 3, 'd': 4}\n",
        "d1.update(d2)\n",
        "\n",
        "print(\"Concatenated dictionary:\", d1)\n"
      ],
      "metadata": {
        "colab": {
          "base_uri": "https://localhost:8080/"
        },
        "id": "NlKx03cK3DQe",
        "outputId": "6efdaf4f-6aba-4c0a-c245-8892f552bbb0"
      },
      "execution_count": 41,
      "outputs": [
        {
          "output_type": "stream",
          "name": "stdout",
          "text": [
            "Concatenated dictionary: {'a': 1, 'b': 2, 'c': 3, 'd': 4}\n"
          ]
        }
      ]
    },
    {
      "cell_type": "markdown",
      "source": [
        "**Tuples Operation Assignment**"
      ],
      "metadata": {
        "id": "kaOV8Yyz32k6"
      }
    },
    {
      "cell_type": "code",
      "source": [
        "t1 = (1, 1*1)\n",
        "t2 = (2, 2*2)\n",
        "t3 = (3, 3*3)\n",
        "t4 = (4, 4*4)\n",
        "t5 = (5, 5*5)\n",
        "\n",
        "tuple_list = [t1, t2, t3, t4, t5]\n",
        "\n",
        "print(\"List of tuples:\", tuple_list)\n"
      ],
      "metadata": {
        "colab": {
          "base_uri": "https://localhost:8080/"
        },
        "id": "NB3VfG3J3DNl",
        "outputId": "d290f24a-d4f8-4d5d-f25c-db588008147e"
      },
      "execution_count": 42,
      "outputs": [
        {
          "output_type": "stream",
          "name": "stdout",
          "text": [
            "List of tuples: [(1, 1), (2, 4), (3, 9), (4, 16), (5, 25)]\n"
          ]
        }
      ]
    },
    {
      "cell_type": "code",
      "source": [
        "t1 = (\"GCUF\", 101)\n",
        "t2 = (\"GCUF\", 102)\n",
        "t3 = (\"GCUF\", 103)\n",
        "t4 = (\"GCUF\", 104)\n",
        "\n",
        "usn_list = [t1, t2, t3, t4]\n",
        "allowed = [t1, t2, t3]\n",
        "\n",
        "print(\"Filtered USNs:\", allowed)\n"
      ],
      "metadata": {
        "colab": {
          "base_uri": "https://localhost:8080/"
        },
        "id": "6Utzu6AO3DK8",
        "outputId": "6c32af13-018f-47e0-91c7-cfcd5e013ade"
      },
      "execution_count": 43,
      "outputs": [
        {
          "output_type": "stream",
          "name": "stdout",
          "text": [
            "Filtered USNs: [('GCUF', 101), ('GCUF', 102), ('GCUF', 103)]\n"
          ]
        }
      ]
    }
  ],
  "metadata": {
    "colab": {
      "provenance": []
    },
    "kernelspec": {
      "display_name": "Python 3",
      "name": "python3"
    },
    "language_info": {
      "name": "python"
    }
  },
  "nbformat": 4,
  "nbformat_minor": 0
}