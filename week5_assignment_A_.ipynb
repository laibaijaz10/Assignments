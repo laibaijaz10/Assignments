{
  "cells": [
    {
      "cell_type": "code",
      "execution_count": 42,
      "metadata": {
        "colab": {
          "base_uri": "https://localhost:8080/"
        },
        "id": "3vYOuSWJEW3y",
        "outputId": "a7a3526b-ba49-4c5a-98c9-9a5a08a74dc7"
      },
      "outputs": [
        {
          "output_type": "stream",
          "name": "stdout",
          "text": [
            "               List Year Date Recorded        Town                Address  \\\n",
            "Serial Number                                                               \n",
            "2020177             2020    04/14/2021     Ansonia          323 BEAVER ST   \n",
            "2020225             2020    05/26/2021     Ansonia         152 JACKSON ST   \n",
            "2020348             2020    09/13/2021     Ansonia        230 WAKELEE AVE   \n",
            "2020090             2020    12/14/2020     Ansonia            57 PLATT ST   \n",
            "200500              2020    09/07/2021        Avon           245 NEW ROAD   \n",
            "...                  ...           ...         ...                    ...   \n",
            "201166              2020    08/26/2021     Meriden  6006 MEETINGHOUSE VLG   \n",
            "200177              2020    06/09/2021  Middlebury       289 BURR HALL RD   \n",
            "200531              2020    04/05/2021  Middletown         87 WESTWOOD LA   \n",
            "200888              2020    07/29/2021  Middletown            PHEDON PKWY   \n",
            "200092              2020    11/02/2020  Middletown    1692 BARTHOLOMEW RD   \n",
            "\n",
            "               Assessed Value  Sale Amount  Sales Ratio Property Type  \\\n",
            "Serial Number                                                           \n",
            "2020177              133000.0     248400.0     0.535400   Residential   \n",
            "2020225              110500.0     239900.0     0.460600   Residential   \n",
            "2020348              150500.0     325000.0     0.463000    Commercial   \n",
            "2020090              127400.0     202500.0     0.629100   Residential   \n",
            "200500               217640.0     400000.0     0.544100   Residential   \n",
            "...                       ...          ...          ...           ...   \n",
            "201166                59430.0     135000.0     0.440200   Residential   \n",
            "200177              1144200.0    1676250.0     0.682595   Residential   \n",
            "200531               285040.0     400000.0     0.712600   Residential   \n",
            "200888                49220.0     100000.0     0.492200   Vacant Land   \n",
            "200092               170650.0     325000.0     0.525000   Residential   \n",
            "\n",
            "              Residential Type Non Use Code Assessor Remarks  OPM remarks  \\\n",
            "Serial Number                                                               \n",
            "2020177          Single Family          NaN              NaN          NaN   \n",
            "2020225           Three Family          NaN              NaN          NaN   \n",
            "2020348                    NaN          NaN              NaN          NaN   \n",
            "2020090             Two Family          NaN              NaN          NaN   \n",
            "200500           Single Family          NaN              NaN          NaN   \n",
            "...                        ...          ...              ...          ...   \n",
            "201166                   Condo          NaN              NaN          NaN   \n",
            "200177           Single Family          NaN              NaN          NaN   \n",
            "200531           Single Family          NaN              NaN          NaN   \n",
            "200888                     NaN          NaN              NaN          NaN   \n",
            "200092           Single Family          NaN              NaN          NaN   \n",
            "\n",
            "                                 Location  \n",
            "Serial Number                              \n",
            "2020177        POINT (-73.06822 41.35014)  \n",
            "2020225                               NaN  \n",
            "2020348                               NaN  \n",
            "2020090                               NaN  \n",
            "200500                                NaN  \n",
            "...                                   ...  \n",
            "201166                                NaN  \n",
            "200177                                NaN  \n",
            "200531                                NaN  \n",
            "200888                                NaN  \n",
            "200092                                NaN  \n",
            "\n",
            "[142 rows x 13 columns]\n"
          ]
        }
      ],
      "source": [
        "import pandas as pd\n",
        "import numpy as np\n",
        "from sklearn.linear_model import LinearRegression\n",
        "from sklearn.model_selection import train_test_split\n",
        "from sklearn.metrics import mean_absolute_error, mean_squared_error\n",
        "import math\n",
        "df = pd.read_csv('/content/Real_Estate_Sales_2001-2022_GL-Short.csv', index_col=\"Serial Number\") # Added the filepath to the read_csv function\n",
        "print(df)"
      ]
    },
    {
      "cell_type": "code",
      "execution_count": 43,
      "metadata": {
        "colab": {
          "base_uri": "https://localhost:8080/"
        },
        "id": "ka7RF3_5EdGf",
        "outputId": "7b2fe913-b837-4f89-8cb7-7ca2b085a328"
      },
      "outputs": [
        {
          "output_type": "stream",
          "name": "stdout",
          "text": [
            "<class 'pandas.core.frame.DataFrame'>\n",
            "Index: 142 entries, 2020177 to 200092\n",
            "Data columns (total 13 columns):\n",
            " #   Column            Non-Null Count  Dtype  \n",
            "---  ------            --------------  -----  \n",
            " 0   List Year         142 non-null    int64  \n",
            " 1   Date Recorded     142 non-null    object \n",
            " 2   Town              142 non-null    object \n",
            " 3   Address           142 non-null    object \n",
            " 4   Assessed Value    142 non-null    float64\n",
            " 5   Sale Amount       142 non-null    float64\n",
            " 6   Sales Ratio       142 non-null    float64\n",
            " 7   Property Type     142 non-null    object \n",
            " 8   Residential Type  115 non-null    object \n",
            " 9   Non Use Code      8 non-null      object \n",
            " 10  Assessor Remarks  14 non-null     object \n",
            " 11  OPM remarks       0 non-null      float64\n",
            " 12  Location          9 non-null      object \n",
            "dtypes: float64(4), int64(1), object(8)\n",
            "memory usage: 15.5+ KB\n",
            "None\n",
            "List Year             int64\n",
            "Date Recorded        object\n",
            "Town                 object\n",
            "Address              object\n",
            "Assessed Value      float64\n",
            "Sale Amount         float64\n",
            "Sales Ratio         float64\n",
            "Property Type        object\n",
            "Residential Type     object\n",
            "Non Use Code         object\n",
            "Assessor Remarks     object\n",
            "OPM remarks         float64\n",
            "Location             object\n",
            "dtype: object\n",
            "       List Year  Assessed Value   Sale Amount  Sales Ratio  OPM remarks\n",
            "count      142.0    1.420000e+02  1.420000e+02   142.000000          0.0\n",
            "mean      2020.0    2.327889e+05  3.853573e+05     0.589640          NaN\n",
            "std          0.0    3.529366e+05  5.086467e+05     0.160655          NaN\n",
            "min       2020.0    6.230000e+03  1.000000e+04     0.119700          NaN\n",
            "25%       2020.0    9.163250e+04  1.675000e+05     0.495175          NaN\n",
            "50%       2020.0    1.457750e+05  2.600000e+05     0.552550          NaN\n",
            "75%       2020.0    2.066500e+05  3.726250e+05     0.675575          NaN\n",
            "max       2020.0    2.623950e+06  3.900000e+06     1.283000          NaN\n",
            "(142, 13)\n"
          ]
        }
      ],
      "source": [
        "print(df.info())\n",
        "print(df.dtypes)\n",
        "print(df.describe())\n",
        "print(df.shape)\n"
      ]
    },
    {
      "cell_type": "code",
      "source": [
        "X = df[['Assessed Value']].values\n",
        "y = df['Sale Amount'].values\n",
        "\n",
        "X_train, X_test, y_train, y_test = train_test_split(X, y, test_size=0.1, random_state=42)\n",
        "model = LinearRegression()\n",
        "model.fit(X_train, y_train)\n",
        "intercept = model.intercept_\n",
        "slope = model.coef_[0]\n",
        "print(\"Intercept:\", intercept)\n",
        "print(\"Slope:\", slope)\n",
        "def predict_sale(assessed_value):\n",
        "    return intercept + slope * assessed_value\n",
        "\n",
        "print(predict_sale(150000))\n",
        "print(predict_sale(250000))\n",
        "print(predict_sale(500000))\n",
        "y_pred = model.predict(X_test)\n",
        "mae = mean_absolute_error(y_test, y_pred)\n",
        "mse = mean_squared_error(y_test, y_pred)\n",
        "rmse = math.sqrt(mse)\n",
        "\n",
        "print(\"MAE:\", mae)\n",
        "print(\"MSE:\", mse)\n",
        "print(\"RMSE:\", rmse)"
      ],
      "metadata": {
        "colab": {
          "base_uri": "https://localhost:8080/"
        },
        "id": "LtXgwhzkqq7M",
        "outputId": "cb2d29a3-6dc7-486f-dc6d-d50bbb115012"
      },
      "execution_count": 44,
      "outputs": [
        {
          "output_type": "stream",
          "name": "stdout",
          "text": [
            "Intercept: 39184.21213081997\n",
            "Slope: 1.536841922248889\n",
            "269710.5004681533\n",
            "423394.6926930422\n",
            "807605.1732552645\n",
            "MAE: 139999.37025662832\n",
            "MSE: 53563564913.9237\n",
            "RMSE: 231438.0368779594\n"
          ]
        }
      ]
    },
    {
      "cell_type": "markdown",
      "source": [
        "Task 2 – Linear Regression (Zameen.com PK Property Data)\n"
      ],
      "metadata": {
        "id": "nm9mAGrrr_R3"
      }
    },
    {
      "source": [
        "import pandas as pd\n",
        "import numpy as np\n",
        "from sklearn.linear_model import LinearRegression\n",
        "from sklearn.model_selection import train_test_split\n",
        "from sklearn.metrics import mean_absolute_error, mean_squared_error\n",
        "import math\n",
        "url = \"/content/zameencom-property-data-By-Kaggle (1).csv\"\n",
        "try:\n",
        "    df = pd.read_csv(url, index_col=\"property_id\")\n",
        "except pd.errors.ParserError:\n",
        "    print(\"Comma delimiter failed, trying semicolon...\")\n",
        "    df = pd.read_csv(url, index_col=\"property_id\", sep=';')\n",
        "\n",
        "\n",
        "print(df.head())\n",
        "print(\"\\nDataFrame Info:\")\n",
        "print(df.info())\n",
        "\n",
        "print(\"\\nData Types:\")\n",
        "print(df.dtypes)\n",
        "\n",
        "print(\"\\nSummary Statistics:\")\n",
        "print(df.describe())\n",
        "\n",
        "print(\"\\nShape of DataFrame:\")\n",
        "print(df.shape)"
      ],
      "cell_type": "code",
      "metadata": {
        "colab": {
          "base_uri": "https://localhost:8080/"
        },
        "id": "EDR8r6-xs43h",
        "outputId": "09f0f073-3e6c-465e-a026-fa616534b220"
      },
      "execution_count": 54,
      "outputs": [
        {
          "output_type": "stream",
          "name": "stdout",
          "text": [
            "Comma delimiter failed, trying semicolon...\n",
            "             location_id                                           page_url  \\\n",
            "property_id                                                                   \n",
            "347795                 8  https://www.zameen.com/Property/lahore_model_t...   \n",
            "482892                48  https://www.zameen.com/Property/lahore_multan_...   \n",
            "555962                75  https://www.zameen.com/Property/eden_eden_aven...   \n",
            "562843              3821  https://www.zameen.com/Property/gulberg_2_gulb...   \n",
            "686990              3522  https://www.zameen.com/Property/allama_iqbal_t...   \n",
            "\n",
            "            property_type      price           location    city province_name  \\\n",
            "property_id                                                                     \n",
            "347795              House  220000000         Model Town  Lahore        Punjab   \n",
            "482892              House   40000000        Multan Road  Lahore        Punjab   \n",
            "555962              House    9500000               Eden  Lahore        Punjab   \n",
            "562843              House  125000000            Gulberg  Lahore        Punjab   \n",
            "686990              House   21000000  Allama Iqbal Town  Lahore        Punjab   \n",
            "\n",
            "              latitude  longitude  baths      area   purpose  bedrooms  \\\n",
            "property_id                                                              \n",
            "347795       31.483869  74.325686      0   6 Kanal  For Sale         0   \n",
            "482892       31.431593  74.179980      5   1 Kanal  For Sale         5   \n",
            "555962       31.499348  74.416959      0   9 Marla  For Sale         3   \n",
            "562843       31.522069  74.355512      7   1 Kanal  For Sale         8   \n",
            "686990       31.506483  74.286017      5  11 Marla  For Sale         6   \n",
            "\n",
            "             date_added                  agency                    agent  \n",
            "property_id                                                               \n",
            "347795       07-17-2019  Real Biz International               Usama Khan  \n",
            "482892       10-06-2018             Khan Estate         mohsinkhan and B  \n",
            "555962       07-03-2019         Shahum Estate 2  Babar Hameed, Raja Omar  \n",
            "562843       04-04-2019                     NaN                      NaN  \n",
            "686990       04-04-2019                     NaN                      NaN  \n",
            "\n",
            "DataFrame Info:\n",
            "<class 'pandas.core.frame.DataFrame'>\n",
            "Index: 191393 entries, 347795 to 17468660\n",
            "Data columns (total 16 columns):\n",
            " #   Column         Non-Null Count   Dtype  \n",
            "---  ------         --------------   -----  \n",
            " 0   location_id    191393 non-null  int64  \n",
            " 1   page_url       191393 non-null  object \n",
            " 2   property_type  191393 non-null  object \n",
            " 3   price          191393 non-null  int64  \n",
            " 4   location       191393 non-null  object \n",
            " 5   city           191393 non-null  object \n",
            " 6   province_name  191393 non-null  object \n",
            " 7   latitude       191393 non-null  float64\n",
            " 8   longitude      191393 non-null  float64\n",
            " 9   baths          191393 non-null  int64  \n",
            " 10  area           191393 non-null  object \n",
            " 11  purpose        191393 non-null  object \n",
            " 12  bedrooms       191393 non-null  int64  \n",
            " 13  date_added     191393 non-null  object \n",
            " 14  agency         144014 non-null  object \n",
            " 15  agent          144013 non-null  object \n",
            "dtypes: float64(2), int64(4), object(10)\n",
            "memory usage: 24.8+ MB\n",
            "None\n",
            "\n",
            "Data Types:\n",
            "location_id        int64\n",
            "page_url          object\n",
            "property_type     object\n",
            "price              int64\n",
            "location          object\n",
            "city              object\n",
            "province_name     object\n",
            "latitude         float64\n",
            "longitude        float64\n",
            "baths              int64\n",
            "area              object\n",
            "purpose           object\n",
            "bedrooms           int64\n",
            "date_added        object\n",
            "agency            object\n",
            "agent             object\n",
            "dtype: object\n",
            "\n",
            "Summary Statistics:\n",
            "         location_id         price       latitude      longitude  \\\n",
            "count  191393.000000  1.913930e+05  191393.000000  191393.000000   \n",
            "mean     4224.580350  1.644655e+07      30.104593      71.572992   \n",
            "std      3719.125201  3.416412e+07       3.645941       3.080463   \n",
            "min         1.000000  0.000000e+00      11.052446      25.906027   \n",
            "25%      1057.000000  8.000000e+04      24.972287      67.152597   \n",
            "50%      3233.000000  7.300000e+06      31.463563      73.077743   \n",
            "75%      7182.000000  1.800000e+07      33.550869      74.228218   \n",
            "max     14246.000000  2.000000e+09      73.184088      80.161430   \n",
            "\n",
            "               baths       bedrooms  \n",
            "count  191393.000000  191393.000000  \n",
            "mean        2.865956       3.171516  \n",
            "std         2.435332       1.952403  \n",
            "min         0.000000       0.000000  \n",
            "25%         0.000000       2.000000  \n",
            "50%         3.000000       3.000000  \n",
            "75%         4.000000       4.000000  \n",
            "max       403.000000      68.000000  \n",
            "\n",
            "Shape of DataFrame:\n",
            "(191393, 16)\n"
          ]
        }
      ]
    },
    {
      "cell_type": "markdown",
      "source": [
        " Linear Regression – Bedrooms (X) vs Price (Y)\n"
      ],
      "metadata": {
        "id": "oHzTW4N0tG0z"
      }
    },
    {
      "cell_type": "code",
      "source": [
        "X = df[['bedrooms']].values\n",
        "y = df['price'].values\n",
        "X_train, X_test, y_train, y_test = train_test_split(X, y, test_size=0.25, random_state=42)\n",
        "model = LinearRegression()\n",
        "model.fit(X_train, y_train)\n",
        "intercept = model.intercept_\n",
        "slope = model.coef_[0]\n",
        "print(\"\\nIntercept (b0):\", intercept)\n",
        "print(\"Slope (b1):\", slope)\n",
        "\n",
        "def predict_price(bedrooms):\n",
        "    return intercept + slope * bedrooms\n",
        "print(\"\\nPredicted Prices:\")\n",
        "print(\"2 bedrooms → Rs.\", predict_price(2))\n",
        "print(\"3 bedrooms → Rs.\", predict_price(3))\n",
        "print(\"5 bedrooms → Rs.\", predict_price(5))\n",
        "\n",
        "y_pred = model.predict(X_test)\n",
        "mae = mean_absolute_error(y_test, y_pred)\n",
        "mse = mean_squared_error(y_test, y_pred)\n",
        "rmse = math.sqrt(mse)\n",
        "\n",
        "print(\"\\nEvaluation Metrics:\")\n",
        "print(\"Mean Absolute Error (MAE):\", mae)\n",
        "print(\"Mean Squared Error (MSE):\", mse)\n",
        "print(\"Root Mean Squared Error (RMSE):\", rmse)\n"
      ],
      "metadata": {
        "colab": {
          "base_uri": "https://localhost:8080/"
        },
        "id": "EP9ze-kutJQq",
        "outputId": "a9ded40a-91ea-41c3-f7fb-0973f1e684ae"
      },
      "execution_count": 58,
      "outputs": [
        {
          "output_type": "stream",
          "name": "stdout",
          "text": [
            "\n",
            "Intercept (b0): -378901.49997583963\n",
            "Slope (b1): 5300754.46136009\n",
            "\n",
            "Predicted Prices:\n",
            "2 bedrooms → Rs. 10222607.422744341\n",
            "3 bedrooms → Rs. 15523361.884104433\n",
            "5 bedrooms → Rs. 26124870.80682461\n",
            "\n",
            "Evaluation Metrics:\n",
            "Mean Absolute Error (MAE): 15265190.945633907\n",
            "Mean Squared Error (MSE): 1064123442514893.4\n",
            "Root Mean Squared Error (RMSE): 32620904.992272876\n"
          ]
        }
      ]
    },
    {
      "cell_type": "markdown",
      "source": [
        "Task 3 – Female Doctors (X) vs Female Dentists (Y)"
      ],
      "metadata": {
        "id": "-107c1Agtii4"
      }
    },
    {
      "cell_type": "code",
      "source": [
        "import pandas as pd\n",
        "import numpy as np\n",
        "from sklearn.linear_model import LinearRegression\n",
        "from sklearn.model_selection import train_test_split\n",
        "from sklearn.metrics import mean_absolute_error, mean_squared_error\n",
        "import math\n",
        "url = \"/content/number-of-registered-medical-and-dental-doctors-by-gender-in-pakistan.csv\"\n",
        "df = pd.read_csv(url, index_col=\"Years\")\n",
        "df['Female Doctors'] = pd.to_numeric(df['Female Doctors'].astype(str).str.replace(',', ''), errors='coerce')\n",
        "df['Female Dentists'] = pd.to_numeric(df['Female Dentists'].astype(str).str.replace(',', ''), errors='coerce')\n",
        "df.dropna(inplace=True)\n",
        "\n",
        "print(df.head())\n",
        "print(\"\\nDataFrame Info:\")\n",
        "print(df.info())\n",
        "\n",
        "print(\"\\nData Types:\")\n",
        "print(df.dtypes)\n",
        "\n",
        "print(\"\\nSummary Statistics:\")\n",
        "print(df.describe())\n",
        "\n",
        "print(\"\\nShape of DataFrame:\")\n",
        "print(df.shape)\n"
      ],
      "metadata": {
        "colab": {
          "base_uri": "https://localhost:8080/"
        },
        "id": "9wfZQL5VtjoN",
        "outputId": "a5994d71-6449-4d9c-bfae-bf9207ecbc9a"
      },
      "execution_count": 61,
      "outputs": [
        {
          "output_type": "stream",
          "name": "stdout",
          "text": [
            "       Female Doctors Male Doctors Total Doctors  Female Dentists  \\\n",
            "Years                                                               \n",
            "2008             3146        2,734         5,880              546   \n",
            "2009             2987        2,584         5,571              557   \n",
            "2010             3000        2,413         5,413              477   \n",
            "2011             4157        3,310         7,467              781   \n",
            "2012             4779        3,733         8,512              739   \n",
            "\n",
            "       Male Dentists Total Dentists  \n",
            "Years                                \n",
            "2008             251            797  \n",
            "2009             252            809  \n",
            "2010             209            686  \n",
            "2011             360          1,141  \n",
            "2012             304          1,043  \n",
            "\n",
            "DataFrame Info:\n",
            "<class 'pandas.core.frame.DataFrame'>\n",
            "Index: 11 entries, 2008 to 2018\n",
            "Data columns (total 6 columns):\n",
            " #   Column           Non-Null Count  Dtype \n",
            "---  ------           --------------  ----- \n",
            " 0   Female Doctors   11 non-null     int64 \n",
            " 1   Male Doctors     11 non-null     object\n",
            " 2   Total Doctors    11 non-null     object\n",
            " 3   Female Dentists  11 non-null     int64 \n",
            " 4   Male Dentists    11 non-null     int64 \n",
            " 5   Total Dentists   11 non-null     object\n",
            "dtypes: int64(3), object(3)\n",
            "memory usage: 616.0+ bytes\n",
            "None\n",
            "\n",
            "Data Types:\n",
            "Female Doctors      int64\n",
            "Male Doctors       object\n",
            "Total Doctors      object\n",
            "Female Dentists     int64\n",
            "Male Dentists       int64\n",
            "Total Dentists     object\n",
            "dtype: object\n",
            "\n",
            "Summary Statistics:\n",
            "       Female Doctors  Female Dentists  Male Dentists\n",
            "count       11.000000        11.000000      11.000000\n",
            "mean      4835.363636       965.909091     341.181818\n",
            "std       1637.908195       415.492829     102.672117\n",
            "min       2987.000000       477.000000     209.000000\n",
            "25%       3591.000000       648.000000     251.500000\n",
            "50%       4448.000000       781.000000     360.000000\n",
            "75%       5959.000000      1240.500000     373.000000\n",
            "max       7538.000000      1643.000000     532.000000\n",
            "\n",
            "Shape of DataFrame:\n",
            "(11, 6)\n"
          ]
        }
      ]
    },
    {
      "cell_type": "markdown",
      "source": [
        "Linear Regression – Female Doctors → Female Dentists\n",
        "Predict Female Dentists from Female Doctors\n",
        " Test Prediction & Evaluation"
      ],
      "metadata": {
        "id": "SLjmmVLtt9qR"
      }
    },
    {
      "cell_type": "code",
      "source": [
        "X = df[['Female Doctors']].values\n",
        "y = df['Female Dentists'].values\n",
        "X_train, X_test, y_train, y_test = train_test_split(X, y, test_size=0.3, random_state=42)\n",
        "model = LinearRegression()\n",
        "model.fit(X_train, y_train)\n",
        "intercept = model.intercept_\n",
        "slope = model.coef_[0]\n",
        "print(\"\\nIntercept (b0):\", intercept)\n",
        "print(\"Slope (b1):\", slope)\n",
        "def predict_dentists(female_doctors):\n",
        "    return intercept + slope * female_doctors\n",
        "print(\"\\nPredicted Female Dentists:\")\n",
        "print(\"10,000 doctors →\", predict_dentists(10000))\n",
        "print(\"15,000 doctors →\", predict_dentists(15000))\n",
        "print(\"20,000 doctors →\", predict_dentists(20000))\n",
        "y_pred = model.predict(X_test)\n",
        "mae = mean_absolute_error(y_test, y_pred)\n",
        "mse = mean_squared_error(y_test, y_pred)\n",
        "rmse = math.sqrt(mse)\n",
        "\n",
        "print(\"\\nEvaluation Metrics:\")\n",
        "print(\"Mean Absolute Error (MAE):\", mae)\n",
        "print(\"Mean Squared Error (MSE):\", mse)\n",
        "print(\"Root Mean Squared Error (RMSE):\", rmse)\n"
      ],
      "metadata": {
        "colab": {
          "base_uri": "https://localhost:8080/"
        },
        "id": "s--v0S8AuFkV",
        "outputId": "264a74d9-8715-401a-e3c4-7f4e449c3b7e"
      },
      "execution_count": 65,
      "outputs": [
        {
          "output_type": "stream",
          "name": "stdout",
          "text": [
            "\n",
            "Intercept (b0): -162.39243034209926\n",
            "Slope (b1): 0.2298490527787623\n",
            "\n",
            "Predicted Female Dentists:\n",
            "10,000 doctors → 2136.098097445524\n",
            "15,000 doctors → 3285.3433613393354\n",
            "20,000 doctors → 4434.5886252331475\n",
            "\n",
            "Evaluation Metrics:\n",
            "Mean Absolute Error (MAE): 53.82521122831909\n",
            "Mean Squared Error (MSE): 6349.9328450147\n",
            "Root Mean Squared Error (RMSE): 79.68646588357838\n"
          ]
        }
      ]
    },
    {
      "cell_type": "markdown",
      "source": [
        "Task 4 – Predicting Profit using Multiple Features"
      ],
      "metadata": {
        "id": "mTjUvxVquqdo"
      }
    },
    {
      "cell_type": "code",
      "source": [
        "# Step 1: Import libraries\n",
        "import pandas as pd\n",
        "import numpy as np\n",
        "import seaborn as sns\n",
        "import matplotlib.pyplot as plt\n",
        "from sklearn.linear_model import LinearRegression\n",
        "from sklearn.model_selection import train_test_split\n",
        "from sklearn.metrics import mean_absolute_error, mean_squared_error\n",
        "import math\n",
        "\n",
        "# Step 2: Load dataset\n",
        "url = \"/content/50_Startups.csv\"\n",
        "df = pd.read_csv(url)\n",
        "print(df.head())  # Print the first 5 rows\n",
        "\n",
        "# Step 3: Dataset Info\n",
        "print(\"\\nDataFrame Info:\")\n",
        "print(df.info())\n",
        "\n",
        "print(\"\\nData Types:\")\n",
        "print(df.dtypes)\n",
        "\n",
        "print(\"\\nSummary Statistics:\")\n",
        "print(df.describe())\n",
        "\n",
        "print(\"\\nShape of DataFrame:\")\n",
        "print(df.shape)\n"
      ],
      "metadata": {
        "colab": {
          "base_uri": "https://localhost:8080/"
        },
        "id": "Owr3RxC7uoJw",
        "outputId": "1fd9b099-d74f-44f6-9a26-8ec86bc90dc2"
      },
      "execution_count": 66,
      "outputs": [
        {
          "output_type": "stream",
          "name": "stdout",
          "text": [
            "   R&D Spend  Administration  Marketing Spend       State     Profit\n",
            "0  165349.20       136897.80        471784.10    New York  192261.83\n",
            "1  162597.70       151377.59        443898.53  California  191792.06\n",
            "2  153441.51       101145.55        407934.54     Florida  191050.39\n",
            "3  144372.41       118671.85        383199.62    New York  182901.99\n",
            "4  142107.34        91391.77        366168.42     Florida  166187.94\n",
            "\n",
            "DataFrame Info:\n",
            "<class 'pandas.core.frame.DataFrame'>\n",
            "RangeIndex: 50 entries, 0 to 49\n",
            "Data columns (total 5 columns):\n",
            " #   Column           Non-Null Count  Dtype  \n",
            "---  ------           --------------  -----  \n",
            " 0   R&D Spend        50 non-null     float64\n",
            " 1   Administration   50 non-null     float64\n",
            " 2   Marketing Spend  50 non-null     float64\n",
            " 3   State            50 non-null     object \n",
            " 4   Profit           50 non-null     float64\n",
            "dtypes: float64(4), object(1)\n",
            "memory usage: 2.1+ KB\n",
            "None\n",
            "\n",
            "Data Types:\n",
            "R&D Spend          float64\n",
            "Administration     float64\n",
            "Marketing Spend    float64\n",
            "State               object\n",
            "Profit             float64\n",
            "dtype: object\n",
            "\n",
            "Summary Statistics:\n",
            "           R&D Spend  Administration  Marketing Spend         Profit\n",
            "count      50.000000       50.000000        50.000000      50.000000\n",
            "mean    73721.615600   121344.639600    211025.097800  112012.639200\n",
            "std     45902.256482    28017.802755    122290.310726   40306.180338\n",
            "min         0.000000    51283.140000         0.000000   14681.400000\n",
            "25%     39936.370000   103730.875000    129300.132500   90138.902500\n",
            "50%     73051.080000   122699.795000    212716.240000  107978.190000\n",
            "75%    101602.800000   144842.180000    299469.085000  139765.977500\n",
            "max    165349.200000   182645.560000    471784.100000  192261.830000\n",
            "\n",
            "Shape of DataFrame:\n",
            "(50, 5)\n"
          ]
        }
      ]
    },
    {
      "cell_type": "markdown",
      "source": [
        " Set Independent & Dependent Variables\n",
        " Correlation Analysis using Heatmap\n",
        " Train-Test Split (90/10)\n",
        " Train the Model\n",
        " Intercept and Coefficients\n",
        "  Predict Profit from Test Set\n",
        "  Metric Evaluation"
      ],
      "metadata": {
        "id": "t_Zoa7Bbu7eV"
      }
    },
    {
      "cell_type": "code",
      "source": [
        "X = df[['R&D Spend', 'Administration', 'Marketing Spend']].values\n",
        "y = df['Profit'].values"
      ],
      "metadata": {
        "id": "xtlv_MIXvNEL"
      },
      "execution_count": 70,
      "outputs": []
    },
    {
      "source": [
        "numeric_df = df.select_dtypes(include=np.number)\n",
        "sns.heatmap(numeric_df.corr(), annot=True, cmap=\"coolwarm\")\n",
        "plt.title(\"Correlation Heatmap\")\n",
        "plt.show()"
      ],
      "cell_type": "code",
      "metadata": {
        "colab": {
          "base_uri": "https://localhost:8080/",
          "height": 395
        },
        "id": "ZJ_M9rP5vbXm",
        "outputId": "c947b595-0c38-4632-820d-b4816a8a5dd1"
      },
      "execution_count": 69,
      "outputs": [
        {
          "output_type": "display_data",
          "data": {
            "text/plain": [
              "<Figure size 800x400 with 2 Axes>"
            ],
            "image/png": "[encoded data removed]"
          },
          "metadata": {}
        }
      ]
    },
    {
      "cell_type": "code",
      "source": [
        "X_train, X_test, y_train, y_test = train_test_split(X, y, test_size=0.1, random_state=42)\n",
        "model = LinearRegression()\n",
        "model.fit(X_train, y_train)\n",
        "print(\"\\nIntercept (b0):\", model.intercept_)\n",
        "print(\"Slopes (b1, b2, b3):\", model.coef_)\n",
        "y_pred = model.predict(X_test)\n",
        "print(\"\\nActual vs Predicted Profits:\")\n",
        "for actual, predicted in zip(y_test, y_pred):\n",
        "    print(f\"Actual: {actual:.2f} | Predicted: {predicted:.2f}\")\n",
        "\n",
        "mae = mean_absolute_error(y_test, y_pred)\n",
        "mse = mean_squared_error(y_test, y_pred)\n",
        "rmse = math.sqrt(mse)\n",
        "print(\"\\nEvaluation Metrics:\")\n",
        "print(\"Mean Absolute Error (MAE):\", mae)\n",
        "print(\"Mean Squared Error (MSE):\", mse)\n",
        "print(\"Root Mean Squared Error (RMSE):\", rmse)"
      ],
      "metadata": {
        "colab": {
          "base_uri": "https://localhost:8080/"
        },
        "id": "6RP5OrXxvZla",
        "outputId": "160fbeaf-bd1f-408e-df31-0944fe438654"
      },
      "execution_count": 74,
      "outputs": [
        {
          "output_type": "stream",
          "name": "stdout",
          "text": [
            "\n",
            "Intercept (b0): 48990.20118055891\n",
            "Slopes (b1, b2, b3): [ 0.81076728 -0.03122602  0.03141705]\n",
            "\n",
            "Actual vs Predicted Profits:\n",
            "Actual: 134307.35 | Predicted: 127281.63\n",
            "Actual: 81005.76 | Predicted: 83158.94\n",
            "Actual: 99937.59 | Predicted: 98505.35\n",
            "Actual: 64926.08 | Predicted: 45984.16\n",
            "Actual: 125370.37 | Predicted: 130082.58\n",
            "\n",
            "Evaluation Metrics:\n",
            "Mean Absolute Error (MAE): 6853.052041966487\n",
            "Mean Squared Error (MSE): 87409853.4108027\n",
            "Root Mean Squared Error (RMSE): 9349.323687347802\n"
          ]
        }
      ]
    }
  ],
  "metadata": {
    "colab": {
      "provenance": []
    },
    "kernelspec": {
      "display_name": "Python 3",
      "name": "python3"
    },
    "language_info": {
      "name": "python"
    }
  },
  "nbformat": 4,
  "nbformat_minor": 0
}