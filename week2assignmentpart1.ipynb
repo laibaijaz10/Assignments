{
  "nbformat": 4,
  "nbformat_minor": 0,
  "metadata": {
    "colab": {
      "provenance": []
    },
    "kernelspec": {
      "name": "python3",
      "display_name": "Python 3"
    },
    "language_info": {
      "name": "python"
    }
  },
  "cells": [
    {
      "cell_type": "code",
      "source": [
        "import pandas as pd\n",
        "import numpy as np\n",
        "df = pd.read_csv('/content/Real_Estate_Sales_2001-2022_GL-Short.csv')\n",
        "print(df.head())\n"
      ],
      "metadata": {
        "colab": {
          "base_uri": "https://localhost:8080/"
        },
        "id": "wAomfUJ02uQo",
        "outputId": "db9b8ed4-a8c7-4588-a5dc-932dc2f18bc5"
      },
      "execution_count": null,
      "outputs": [
        {
          "output_type": "stream",
          "name": "stdout",
          "text": [
            "   Serial Number  List Year Date Recorded     Town          Address  \\\n",
            "0        2020177       2020    04/14/2021  Ansonia    323 BEAVER ST   \n",
            "1        2020225       2020    05/26/2021  Ansonia   152 JACKSON ST   \n",
            "2        2020348       2020    09/13/2021  Ansonia  230 WAKELEE AVE   \n",
            "3        2020090       2020    12/14/2020  Ansonia      57 PLATT ST   \n",
            "4         200500       2020    09/07/2021     Avon     245 NEW ROAD   \n",
            "\n",
            "   Assessed Value  Sale Amount  Sales Ratio Property Type Residential Type  \\\n",
            "0        133000.0     248400.0       0.5354   Residential    Single Family   \n",
            "1        110500.0     239900.0       0.4606   Residential     Three Family   \n",
            "2        150500.0     325000.0       0.4630    Commercial              NaN   \n",
            "3        127400.0     202500.0       0.6291   Residential       Two Family   \n",
            "4        217640.0     400000.0       0.5441   Residential    Single Family   \n",
            "\n",
            "  Non Use Code Assessor Remarks  OPM remarks                    Location  \n",
            "0          NaN              NaN          NaN  POINT (-73.06822 41.35014)  \n",
            "1          NaN              NaN          NaN                         NaN  \n",
            "2          NaN              NaN          NaN                         NaN  \n",
            "3          NaN              NaN          NaN                         NaN  \n",
            "4          NaN              NaN          NaN                         NaN  \n"
          ]
        }
      ]
    },
    {
      "cell_type": "code",
      "source": [
        "print(df.describe())\n"
      ],
      "metadata": {
        "colab": {
          "base_uri": "https://localhost:8080/"
        },
        "id": "isuNtVZ_4MIG",
        "outputId": "7007be2d-7919-4f70-ff63-57f5f9379059"
      },
      "execution_count": null,
      "outputs": [
        {
          "output_type": "stream",
          "name": "stdout",
          "text": [
            "       Serial Number  List Year  Assessed Value   Sale Amount  Sales Ratio  \\\n",
            "count   1.420000e+02      142.0    1.420000e+02  1.420000e+02   142.000000   \n",
            "mean    6.650655e+05     2020.0    2.327889e+05  3.853573e+05     0.589640   \n",
            "std     2.875689e+06        0.0    3.529366e+05  5.086467e+05     0.160655   \n",
            "min     2.000100e+04     2020.0    6.230000e+03  1.000000e+04     0.119700   \n",
            "25%     2.000562e+05     2020.0    9.163250e+04  1.675000e+05     0.495175   \n",
            "50%     2.002020e+05     2020.0    1.457750e+05  2.600000e+05     0.552550   \n",
            "75%     2.007042e+05     2020.0    2.066500e+05  3.726250e+05     0.675575   \n",
            "max     2.000028e+07     2020.0    2.623950e+06  3.900000e+06     1.283000   \n",
            "\n",
            "       OPM remarks  \n",
            "count          0.0  \n",
            "mean           NaN  \n",
            "std            NaN  \n",
            "min            NaN  \n",
            "25%            NaN  \n",
            "50%            NaN  \n",
            "75%            NaN  \n",
            "max            NaN  \n"
          ]
        }
      ]
    },
    {
      "cell_type": "code",
      "source": [
        "sale_amount = df['Sale Amount'].to_numpy()\n",
        "serial_number = df['Serial Number'].to_numpy()\n",
        "list_year = df['List Year'].to_numpy()\n",
        "town = df['Town'].to_numpy()\n",
        "assessed_value = df['Assessed Value'].to_numpy()\n",
        "print(\"Sale Amount:\\n\", sale_amount[:5])\n",
        "print(\"\\nSerial Number:\\n\", serial_number[:5])\n",
        "print(\"\\nList Year:\\n\", list_year[:5])\n",
        "print(\"\\nTown:\\n\", town[:5])\n",
        "print(\"\\nAssessed Value:\\n\", assessed_value[:5])\n"
      ],
      "metadata": {
        "colab": {
          "base_uri": "https://localhost:8080/"
        },
        "id": "KQ8VT1r86bFd",
        "outputId": "4fbb465d-33e7-4c89-d696-180b0b48052a"
      },
      "execution_count": null,
      "outputs": [
        {
          "output_type": "stream",
          "name": "stdout",
          "text": [
            "Sale Amount:\n",
            " [248400. 239900. 325000. 202500. 400000.]\n",
            "\n",
            "Serial Number:\n",
            " [2020177 2020225 2020348 2020090  200500]\n",
            "\n",
            "List Year:\n",
            " [2020 2020 2020 2020 2020]\n",
            "\n",
            "Town:\n",
            " ['Ansonia' 'Ansonia' 'Ansonia' 'Ansonia' 'Avon']\n",
            "\n",
            "Assessed Value:\n",
            " [133000. 110500. 150500. 127400. 217640.]\n"
          ]
        }
      ]
    },
    {
      "cell_type": "code",
      "source": [
        "import numpy as np\n",
        "# Sale Amount\n",
        "sale_amount_mean = np.mean(sale_amount)\n",
        "sale_amount_median = np.median(sale_amount)\n",
        "sale_amount_std = np.std(sale_amount)\n",
        "sale_amount_variance = np.var(sale_amount)\n",
        "sale_amount_min = np.min(sale_amount)\n",
        "sale_amount_max = np.max(sale_amount)\n",
        "sale_amount_range = sale_amount_max - sale_amount_min\n",
        "sale_amount_sum = np.sum(sale_amount)\n",
        "sale_amount_count = len(sale_amount)\n",
        "\n",
        "# Serial Number Stats\n",
        "serial_number_mean = np.mean(serial_number)\n",
        "serial_number_median = np.median(serial_number)\n",
        "serial_number_std = np.std(serial_number)\n",
        "serial_number_variance = np.var(serial_number)\n",
        "serial_number_min = np.min(serial_number)\n",
        "serial_number_max = np.max(serial_number)\n",
        "serial_number_range = serial_number_max - serial_number_min\n",
        "serial_number_sum = np.sum(serial_number)\n",
        "serial_number_count = len(serial_number)\n",
        "\n",
        "# List Year Stats\n",
        "list_year_mean = np.mean(list_year)\n",
        "list_year_median = np.median(list_year)\n",
        "list_year_std = np.std(list_year)\n",
        "list_year_variance = np.var(list_year)\n",
        "list_year_min = np.min(list_year)\n",
        "list_year_max = np.max(list_year)\n",
        "list_year_range = list_year_max - list_year_min\n",
        "list_year_sum = np.sum(list_year)\n",
        "list_year_count = len(list_year)\n",
        "\n",
        "# Assessed Value Stats\n",
        "assessed_value_mean = np.mean(assessed_value)\n",
        "assessed_value_median = np.median(assessed_value)\n",
        "assessed_value_std = np.std(assessed_value)\n",
        "assessed_value_variance = np.var(assessed_value)\n",
        "assessed_value_min = np.min(assessed_value)\n",
        "assessed_value_max = np.max(assessed_value)\n",
        "assessed_value_range = assessed_value_max - assessed_value_min\n",
        "assessed_value_sum = np.sum(assessed_value)\n",
        "assessed_value_count = len(assessed_value)\n",
        "\n",
        "# Displaying results\n",
        "print(\"Sale Amount Stats:\")\n",
        "print(f\"Mean: {sale_amount_mean}, Median: {sale_amount_median}, Std Dev: {sale_amount_std}\")\n",
        "print(f\"Variance: {sale_amount_variance}, Min: {sale_amount_min}, Max: {sale_amount_max}\")\n",
        "print(f\"Range: {sale_amount_range}, Sum: {sale_amount_sum}, Count: {sale_amount_count}\")\n",
        "print(\"\\n\")\n",
        "\n",
        "print(\"Serial Number Stats:\")\n",
        "print(f\"Mean: {serial_number_mean}, Median: {serial_number_median}, Std Dev: {serial_number_std}\")\n",
        "print(f\"Variance: {serial_number_variance}, Min: {serial_number_min}, Max: {serial_number_max}\")\n",
        "print(f\"Range: {serial_number_range}, Sum: {serial_number_sum}, Count: {serial_number_count}\")\n",
        "print(\"\\n\")\n",
        "\n",
        "print(\"List Year Stats:\")\n",
        "print(f\"Mean: {list_year_mean}, Median: {list_year_median}, Std Dev: {list_year_std}\")\n",
        "print(f\"Variance: {list_year_variance}, Min: {list_year_min}, Max: {list_year_max}\")\n",
        "print(f\"Range: {list_year_range}, Sum: {list_year_sum}, Count: {list_year_count}\")\n",
        "print(\"\\n\")\n",
        "\n",
        "print(\"Assessed Value Stats:\")\n",
        "print(f\"Mean: {assessed_value_mean}, Median: {assessed_value_median}, Std Dev: {assessed_value_std}\")\n",
        "print(f\"Variance: {assessed_value_variance}, Min: {assessed_value_min}, Max: {assessed_value_max}\")\n",
        "print(f\"Range: {assessed_value_range}, Sum: {assessed_value_sum}, Count: {assessed_value_count}\")\n"
      ],
      "metadata": {
        "colab": {
          "base_uri": "https://localhost:8080/"
        },
        "id": "yArojOMI8Qh7",
        "outputId": "8e730788-0841-4765-b7cb-ede91a7ef3fd"
      },
      "execution_count": null,
      "outputs": [
        {
          "output_type": "stream",
          "name": "stdout",
          "text": [
            "Sale Amount Stats:\n",
            "Mean: 385357.3309859155, Median: 260000.0, Std Dev: 506852.5086482638\n",
            "Variance: 256899465523.03836, Min: 10000.0, Max: 3900000.0\n",
            "Range: 3890000.0, Sum: 54720741.0, Count: 142\n",
            "\n",
            "\n",
            "Serial Number Stats:\n",
            "Mean: 665065.4507042253, Median: 200202.0, Std Dev: 2865545.5540674077\n",
            "Variance: 8211351322435.487, Min: 20001, Max: 20000275\n",
            "Range: 19980274, Sum: 94439294, Count: 142\n",
            "\n",
            "\n",
            "List Year Stats:\n",
            "Mean: 2020.0, Median: 2020.0, Std Dev: 0.0\n",
            "Variance: 0.0, Min: 2020, Max: 2020\n",
            "Range: 0, Sum: 286840, Count: 142\n",
            "\n",
            "\n",
            "Assessed Value Stats:\n",
            "Mean: 232788.94366197183, Median: 145775.0, Std Dev: 351691.70278331934\n",
            "Variance: 123687053806.63062, Min: 6230.0, Max: 2623950.0\n",
            "Range: 2617720.0, Sum: 33056030.0, Count: 142\n"
          ]
        }
      ]
    },
    {
      "cell_type": "code",
      "source": [
        "mode_sale_amount = df['Sale Amount'].mode()\n",
        "print(\"Mode of Sale Amount:\")\n",
        "print(mode_sale_amount)\n"
      ],
      "metadata": {
        "colab": {
          "base_uri": "https://localhost:8080/"
        },
        "id": "tGupXvUnAa6_",
        "outputId": "5f4f9d1a-553c-4cda-b9dd-a0972701c3c9"
      },
      "execution_count": null,
      "outputs": [
        {
          "output_type": "stream",
          "name": "stdout",
          "text": [
            "Mode of Sale Amount:\n",
            "0    260000.0\n",
            "1    325000.0\n",
            "Name: Sale Amount, dtype: float64\n"
          ]
        }
      ]
    },
    {
      "source": [
        "sale_amount = df['Sale Amount'].values\n",
        "assessed_value = df['Assessed Value'].values\n",
        "\n",
        "# 1. Addition\n",
        "addition_operator = sale_amount + assessed_value\n",
        "addition_method = np.add(sale_amount, assessed_value)\n",
        "\n",
        "print(\"Addition (using operator '+'):\", addition_operator[:10])\n",
        "print(\"Addition (using np.add() method):\", addition_method[:10])\n",
        "\n",
        "# 2. Subtraction\n",
        "subtraction_operator = sale_amount - assessed_value\n",
        "subtraction_method = np.subtract(sale_amount, assessed_value)\n",
        "\n",
        "print(\"\\nSubtraction (using operator '-'):\", subtraction_operator[:10])\n",
        "print(\"Subtraction (using np.subtract() method):\", subtraction_method[:10])\n",
        "# 3. Multiplication\n",
        "multiplication_operator = sale_amount * assessed_value\n",
        "multiplication_method = np.multiply(sale_amount, assessed_value)\n",
        "\n",
        "print(\"\\nMultiplication (using operator '*'):\", multiplication_operator[:10])\n",
        "print(\"Multiplication (using np.multiply() method):\", multiplication_method[:10])"
      ],
      "cell_type": "code",
      "metadata": {
        "colab": {
          "base_uri": "https://localhost:8080/"
        },
        "id": "KZ0PZ1kG9G9Z",
        "outputId": "921dcc68-158d-44a9-ce26-f400036b7ba0"
      },
      "execution_count": null,
      "outputs": [
        {
          "output_type": "stream",
          "name": "stdout",
          "text": [
            "Addition (using operator '+'): [ 381400.  350400.  475500.  329900.  617640. 1303490.  618530.  401030.\n",
            "  165590.  331390.]\n",
            "Addition (using np.add() method): [ 381400.  350400.  475500.  329900.  617640. 1303490.  618530.  401030.\n",
            "  165590.  331390.]\n",
            "\n",
            "Subtraction (using operator '-'): [115400. 129400. 174500.  75100. 182360. 246510. 211470.  84970.  34410.\n",
            "  50190.]\n",
            "Subtraction (using np.subtract() method): [115400. 129400. 174500.  75100. 182360. 246510. 211470.  84970.  34410.\n",
            "  50190.]\n",
            "\n",
            "Multiplication (using operator '*'): [3.3037200e+10 2.6508950e+10 4.8912500e+10 2.5798500e+10 8.7056000e+10\n",
            " 4.0957975e+11 8.4464950e+10 3.8401290e+10 6.5590000e+09 2.6825074e+10]\n",
            "Multiplication (using np.multiply() method): [3.3037200e+10 2.6508950e+10 4.8912500e+10 2.5798500e+10 8.7056000e+10\n",
            " 4.0957975e+11 8.4464950e+10 3.8401290e+10 6.5590000e+09 2.6825074e+10]\n"
          ]
        }
      ]
    },
    {
      "cell_type": "code",
      "source": [
        "sale_amount = df['Sale Amount'].values\n",
        "assessed_value = df['Assessed Value'].values\n",
        "two_d_array = np.column_stack((sale_amount, assessed_value))\n",
        "print(\"2D Array (Sale Amount and Assessed Value):\")\n",
        "print(two_d_array[:10])"
      ],
      "metadata": {
        "colab": {
          "base_uri": "https://localhost:8080/"
        },
        "id": "qWFsJykV9aJe",
        "outputId": "1d4d6a08-f0e7-4681-ab78-30d5c44f97dd"
      },
      "execution_count": null,
      "outputs": [
        {
          "output_type": "stream",
          "name": "stdout",
          "text": [
            "2D Array (Sale Amount and Assessed Value):\n",
            "[[248400. 133000.]\n",
            " [239900. 110500.]\n",
            " [325000. 150500.]\n",
            " [202500. 127400.]\n",
            " [400000. 217640.]\n",
            " [775000. 528490.]\n",
            " [415000. 203530.]\n",
            " [243000. 158030.]\n",
            " [100000.  65590.]\n",
            " [190790. 140600.]]\n"
          ]
        }
      ]
    },
    {
      "cell_type": "code",
      "source": [
        "sale_amount = df['Sale Amount'].values\n",
        "assessed_value = df['Assessed Value'].values\n",
        "list_year = df['List Year'].values\n",
        "three_d_array = np.stack((sale_amount, assessed_value, list_year), axis=1)\n",
        "print(\"3D Array (Sale Amount, Assessed Value, and List Year):\")\n",
        "print(three_d_array[:10])"
      ],
      "metadata": {
        "colab": {
          "base_uri": "https://localhost:8080/"
        },
        "id": "8xhYIsg99voA",
        "outputId": "85a0daa2-2e82-4336-f810-60f60ff81af5"
      },
      "execution_count": null,
      "outputs": [
        {
          "output_type": "stream",
          "name": "stdout",
          "text": [
            "3D Array (Sale Amount, Assessed Value, and List Year):\n",
            "[[248400. 133000.   2020.]\n",
            " [239900. 110500.   2020.]\n",
            " [325000. 150500.   2020.]\n",
            " [202500. 127400.   2020.]\n",
            " [400000. 217640.   2020.]\n",
            " [775000. 528490.   2020.]\n",
            " [415000. 203530.   2020.]\n",
            " [243000. 158030.   2020.]\n",
            " [100000.  65590.   2020.]\n",
            " [190790. 140600.   2020.]]\n"
          ]
        }
      ]
    },
    {
      "cell_type": "code",
      "source": [
        "print(\"Iterating Sale Amount array using np.nditer:\")\n",
        "sale_amount_iter = np.nditer(sale_amount)\n",
        "for item in sale_amount_iter:\n",
        "    print(item)\n"
      ],
      "metadata": {
        "colab": {
          "base_uri": "https://localhost:8080/"
        },
        "id": "KIip9nwE-UmO",
        "outputId": "6cf6fc66-fbc3-4186-f5f5-da97db674ebf"
      },
      "execution_count": null,
      "outputs": [
        {
          "output_type": "stream",
          "name": "stdout",
          "text": [
            "Iterating Sale Amount array using np.nditer:\n",
            "248400.0\n",
            "239900.0\n",
            "325000.0\n",
            "202500.0\n",
            "400000.0\n",
            "775000.0\n",
            "415000.0\n",
            "243000.0\n",
            "100000.0\n",
            "190790.0\n",
            "307000.0\n",
            "365000.0\n",
            "325000.0\n",
            "445000.0\n",
            "106000.0\n",
            "273750.0\n",
            "147000.0\n",
            "355000.0\n",
            "290000.0\n",
            "460000.0\n",
            "86501.0\n",
            "320000.0\n",
            "240000.0\n",
            "129900.0\n",
            "100000.0\n",
            "44900.0\n",
            "276000.0\n",
            "38500.0\n",
            "175000.0\n",
            "190000.0\n",
            "190000.0\n",
            "537000.0\n",
            "275000.0\n",
            "540000.0\n",
            "128000.0\n",
            "425000.0\n",
            "292500.0\n",
            "250000.0\n",
            "85000.0\n",
            "42750.0\n",
            "65000.0\n",
            "480000.0\n",
            "208000.0\n",
            "322000.0\n",
            "195000.0\n",
            "394000.0\n",
            "360000.0\n",
            "270000.0\n",
            "309000.0\n",
            "90000.0\n",
            "184499.0\n",
            "650000.0\n",
            "1140000.0\n",
            "873000.0\n",
            "373500.0\n",
            "260000.0\n",
            "175000.0\n",
            "439900.0\n",
            "95001.0\n",
            "225000.0\n",
            "128000.0\n",
            "260000.0\n",
            "235000.0\n",
            "160000.0\n",
            "215000.0\n",
            "360500.0\n",
            "165000.0\n",
            "291000.0\n",
            "247000.0\n",
            "275000.0\n",
            "243000.0\n",
            "124000.0\n",
            "475000.0\n",
            "370000.0\n",
            "144000.0\n",
            "290000.0\n",
            "205000.0\n",
            "330000.0\n",
            "252000.0\n",
            "189900.0\n",
            "206000.0\n",
            "650000.0\n",
            "575000.0\n",
            "400000.0\n",
            "765000.0\n",
            "69000.0\n",
            "399000.0\n",
            "315000.0\n",
            "345000.0\n",
            "72500.0\n",
            "628000.0\n",
            "199000.0\n",
            "315000.0\n",
            "2350000.0\n",
            "870000.0\n",
            "1364000.0\n",
            "3900000.0\n",
            "2850000.0\n",
            "1920000.0\n",
            "60000.0\n",
            "36000.0\n",
            "123800.0\n",
            "10000.0\n",
            "330000.0\n",
            "260000.0\n",
            "670000.0\n",
            "260000.0\n",
            "160000.0\n",
            "252000.0\n",
            "245000.0\n",
            "240000.0\n",
            "350000.0\n",
            "16500.0\n",
            "110000.0\n",
            "102000.0\n",
            "66900.0\n",
            "645000.0\n",
            "229900.0\n",
            "190000.0\n",
            "345000.0\n",
            "200000.0\n",
            "2175000.0\n",
            "475000.0\n",
            "501000.0\n",
            "249900.0\n",
            "165000.0\n",
            "210000.0\n",
            "250000.0\n",
            "435000.0\n",
            "250000.0\n",
            "284400.0\n",
            "307000.0\n",
            "150000.0\n",
            "325000.0\n",
            "305000.0\n",
            "114900.0\n",
            "145000.0\n",
            "135000.0\n",
            "1676250.0\n",
            "400000.0\n",
            "100000.0\n",
            "325000.0\n"
          ]
        }
      ]
    },
    {
      "cell_type": "code",
      "source": [
        "print(\"\\nIterating with np.ndenumerate():\")\n",
        "for index, item in np.ndenumerate(sale_amount):\n",
        "    print(f\"Index: {index}, Value: {item}\")\n"
      ],
      "metadata": {
        "colab": {
          "base_uri": "https://localhost:8080/"
        },
        "id": "kjDe5nJ9-p3I",
        "outputId": "86995d05-b750-47ce-e238-c47c0d7cd350"
      },
      "execution_count": null,
      "outputs": [
        {
          "output_type": "stream",
          "name": "stdout",
          "text": [
            "\n",
            "Iterating with np.ndenumerate():\n",
            "Index: (0,), Value: 248400.0\n",
            "Index: (1,), Value: 239900.0\n",
            "Index: (2,), Value: 325000.0\n",
            "Index: (3,), Value: 202500.0\n",
            "Index: (4,), Value: 400000.0\n",
            "Index: (5,), Value: 775000.0\n",
            "Index: (6,), Value: 415000.0\n",
            "Index: (7,), Value: 243000.0\n",
            "Index: (8,), Value: 100000.0\n",
            "Index: (9,), Value: 190790.0\n",
            "Index: (10,), Value: 307000.0\n",
            "Index: (11,), Value: 365000.0\n",
            "Index: (12,), Value: 325000.0\n",
            "Index: (13,), Value: 445000.0\n",
            "Index: (14,), Value: 106000.0\n",
            "Index: (15,), Value: 273750.0\n",
            "Index: (16,), Value: 147000.0\n",
            "Index: (17,), Value: 355000.0\n",
            "Index: (18,), Value: 290000.0\n",
            "Index: (19,), Value: 460000.0\n",
            "Index: (20,), Value: 86501.0\n",
            "Index: (21,), Value: 320000.0\n",
            "Index: (22,), Value: 240000.0\n",
            "Index: (23,), Value: 129900.0\n",
            "Index: (24,), Value: 100000.0\n",
            "Index: (25,), Value: 44900.0\n",
            "Index: (26,), Value: 276000.0\n",
            "Index: (27,), Value: 38500.0\n",
            "Index: (28,), Value: 175000.0\n",
            "Index: (29,), Value: 190000.0\n",
            "Index: (30,), Value: 190000.0\n",
            "Index: (31,), Value: 537000.0\n",
            "Index: (32,), Value: 275000.0\n",
            "Index: (33,), Value: 540000.0\n",
            "Index: (34,), Value: 128000.0\n",
            "Index: (35,), Value: 425000.0\n",
            "Index: (36,), Value: 292500.0\n",
            "Index: (37,), Value: 250000.0\n",
            "Index: (38,), Value: 85000.0\n",
            "Index: (39,), Value: 42750.0\n",
            "Index: (40,), Value: 65000.0\n",
            "Index: (41,), Value: 480000.0\n",
            "Index: (42,), Value: 208000.0\n",
            "Index: (43,), Value: 322000.0\n",
            "Index: (44,), Value: 195000.0\n",
            "Index: (45,), Value: 394000.0\n",
            "Index: (46,), Value: 360000.0\n",
            "Index: (47,), Value: 270000.0\n",
            "Index: (48,), Value: 309000.0\n",
            "Index: (49,), Value: 90000.0\n",
            "Index: (50,), Value: 184499.0\n",
            "Index: (51,), Value: 650000.0\n",
            "Index: (52,), Value: 1140000.0\n",
            "Index: (53,), Value: 873000.0\n",
            "Index: (54,), Value: 373500.0\n",
            "Index: (55,), Value: 260000.0\n",
            "Index: (56,), Value: 175000.0\n",
            "Index: (57,), Value: 439900.0\n",
            "Index: (58,), Value: 95001.0\n",
            "Index: (59,), Value: 225000.0\n",
            "Index: (60,), Value: 128000.0\n",
            "Index: (61,), Value: 260000.0\n",
            "Index: (62,), Value: 235000.0\n",
            "Index: (63,), Value: 160000.0\n",
            "Index: (64,), Value: 215000.0\n",
            "Index: (65,), Value: 360500.0\n",
            "Index: (66,), Value: 165000.0\n",
            "Index: (67,), Value: 291000.0\n",
            "Index: (68,), Value: 247000.0\n",
            "Index: (69,), Value: 275000.0\n",
            "Index: (70,), Value: 243000.0\n",
            "Index: (71,), Value: 124000.0\n",
            "Index: (72,), Value: 475000.0\n",
            "Index: (73,), Value: 370000.0\n",
            "Index: (74,), Value: 144000.0\n",
            "Index: (75,), Value: 290000.0\n",
            "Index: (76,), Value: 205000.0\n",
            "Index: (77,), Value: 330000.0\n",
            "Index: (78,), Value: 252000.0\n",
            "Index: (79,), Value: 189900.0\n",
            "Index: (80,), Value: 206000.0\n",
            "Index: (81,), Value: 650000.0\n",
            "Index: (82,), Value: 575000.0\n",
            "Index: (83,), Value: 400000.0\n",
            "Index: (84,), Value: 765000.0\n",
            "Index: (85,), Value: 69000.0\n",
            "Index: (86,), Value: 399000.0\n",
            "Index: (87,), Value: 315000.0\n",
            "Index: (88,), Value: 345000.0\n",
            "Index: (89,), Value: 72500.0\n",
            "Index: (90,), Value: 628000.0\n",
            "Index: (91,), Value: 199000.0\n",
            "Index: (92,), Value: 315000.0\n",
            "Index: (93,), Value: 2350000.0\n",
            "Index: (94,), Value: 870000.0\n",
            "Index: (95,), Value: 1364000.0\n",
            "Index: (96,), Value: 3900000.0\n",
            "Index: (97,), Value: 2850000.0\n",
            "Index: (98,), Value: 1920000.0\n",
            "Index: (99,), Value: 60000.0\n",
            "Index: (100,), Value: 36000.0\n",
            "Index: (101,), Value: 123800.0\n",
            "Index: (102,), Value: 10000.0\n",
            "Index: (103,), Value: 330000.0\n",
            "Index: (104,), Value: 260000.0\n",
            "Index: (105,), Value: 670000.0\n",
            "Index: (106,), Value: 260000.0\n",
            "Index: (107,), Value: 160000.0\n",
            "Index: (108,), Value: 252000.0\n",
            "Index: (109,), Value: 245000.0\n",
            "Index: (110,), Value: 240000.0\n",
            "Index: (111,), Value: 350000.0\n",
            "Index: (112,), Value: 16500.0\n",
            "Index: (113,), Value: 110000.0\n",
            "Index: (114,), Value: 102000.0\n",
            "Index: (115,), Value: 66900.0\n",
            "Index: (116,), Value: 645000.0\n",
            "Index: (117,), Value: 229900.0\n",
            "Index: (118,), Value: 190000.0\n",
            "Index: (119,), Value: 345000.0\n",
            "Index: (120,), Value: 200000.0\n",
            "Index: (121,), Value: 2175000.0\n",
            "Index: (122,), Value: 475000.0\n",
            "Index: (123,), Value: 501000.0\n",
            "Index: (124,), Value: 249900.0\n",
            "Index: (125,), Value: 165000.0\n",
            "Index: (126,), Value: 210000.0\n",
            "Index: (127,), Value: 250000.0\n",
            "Index: (128,), Value: 435000.0\n",
            "Index: (129,), Value: 250000.0\n",
            "Index: (130,), Value: 284400.0\n",
            "Index: (131,), Value: 307000.0\n",
            "Index: (132,), Value: 150000.0\n",
            "Index: (133,), Value: 325000.0\n",
            "Index: (134,), Value: 305000.0\n",
            "Index: (135,), Value: 114900.0\n",
            "Index: (136,), Value: 145000.0\n",
            "Index: (137,), Value: 135000.0\n",
            "Index: (138,), Value: 1676250.0\n",
            "Index: (139,), Value: 400000.0\n",
            "Index: (140,), Value: 100000.0\n",
            "Index: (141,), Value: 325000.0\n"
          ]
        }
      ]
    },
    {
      "cell_type": "code",
      "source": [
        "print(\"\\n7 Common Properties of 'Sale Amount' Array:\")\n",
        "print(\"ndim:\", sale_amount.ndim)\n",
        "print(\"shape:\", sale_amount.shape)\n",
        "print(\"size:\", sale_amount.size)\n",
        "print(\"dtype:\", sale_amount.dtype)\n",
        "print(\"itemsize:\", sale_amount.itemsize)\n",
        "print(\"nbytes:\", sale_amount.nbytes)\n",
        "print(\"Transpose:\", sale_amount.T)\n"
      ],
      "metadata": {
        "colab": {
          "base_uri": "https://localhost:8080/"
        },
        "id": "9kJi-z0S-tp0",
        "outputId": "b093f980-0bea-4942-c9d5-d571bf4430e2"
      },
      "execution_count": null,
      "outputs": [
        {
          "output_type": "stream",
          "name": "stdout",
          "text": [
            "\n",
            "7 Common Properties of 'Sale Amount' Array:\n",
            "ndim: 1\n",
            "shape: (142,)\n",
            "size: 142\n",
            "dtype: float64\n",
            "itemsize: 8\n",
            "nbytes: 1136\n",
            "Transpose: [ 248400.  239900.  325000.  202500.  400000.  775000.  415000.  243000.\n",
            "  100000.  190790.  307000.  365000.  325000.  445000.  106000.  273750.\n",
            "  147000.  355000.  290000.  460000.   86501.  320000.  240000.  129900.\n",
            "  100000.   44900.  276000.   38500.  175000.  190000.  190000.  537000.\n",
            "  275000.  540000.  128000.  425000.  292500.  250000.   85000.   42750.\n",
            "   65000.  480000.  208000.  322000.  195000.  394000.  360000.  270000.\n",
            "  309000.   90000.  184499.  650000. 1140000.  873000.  373500.  260000.\n",
            "  175000.  439900.   95001.  225000.  128000.  260000.  235000.  160000.\n",
            "  215000.  360500.  165000.  291000.  247000.  275000.  243000.  124000.\n",
            "  475000.  370000.  144000.  290000.  205000.  330000.  252000.  189900.\n",
            "  206000.  650000.  575000.  400000.  765000.   69000.  399000.  315000.\n",
            "  345000.   72500.  628000.  199000.  315000. 2350000.  870000. 1364000.\n",
            " 3900000. 2850000. 1920000.   60000.   36000.  123800.   10000.  330000.\n",
            "  260000.  670000.  260000.  160000.  252000.  245000.  240000.  350000.\n",
            "   16500.  110000.  102000.   66900.  645000.  229900.  190000.  345000.\n",
            "  200000. 2175000.  475000.  501000.  249900.  165000.  210000.  250000.\n",
            "  435000.  250000.  284400.  307000.  150000.  325000.  305000.  114900.\n",
            "  145000.  135000. 1676250.  400000.  100000.  325000.]\n"
          ]
        }
      ]
    },
    {
      "cell_type": "code",
      "source": [
        "sale_assessed_2d = np.stack((sale_amount, df['Assessed Value'].values), axis=1)\n",
        "sliced_array_10 = sale_assessed_2d[2:7, 1:4]\n",
        "print(\"\\nSliced Array (Rows 3-7, Columns 2-4):\")\n",
        "print(sliced_array_10)\n"
      ],
      "metadata": {
        "colab": {
          "base_uri": "https://localhost:8080/"
        },
        "id": "2xVYfkwt-wni",
        "outputId": "82459cf3-2fb3-4cb4-9963-9d0fceb7d2fe"
      },
      "execution_count": null,
      "outputs": [
        {
          "output_type": "stream",
          "name": "stdout",
          "text": [
            "\n",
            "Sliced Array (Rows 3-7, Columns 2-4):\n",
            "[[150500.]\n",
            " [127400.]\n",
            " [217640.]\n",
            " [528490.]\n",
            " [203530.]]\n"
          ]
        }
      ]
    },
    {
      "cell_type": "code",
      "source": [
        "assessed_2d = np.stack((df['Assessed Value'].values, df['Assessed Value'].values), axis=1)\n",
        "sliced_array_11 = assessed_2d[1:8, 2:5]\n",
        "print(\"\\nSliced Array (Rows 2-8, Columns 3-5):\")\n",
        "print(sliced_array_11)\n"
      ],
      "metadata": {
        "colab": {
          "base_uri": "https://localhost:8080/"
        },
        "id": "CVvblrmB--60",
        "outputId": "7dc99dde-8ce6-4900-b30a-fae0cd0f2b5a"
      },
      "execution_count": null,
      "outputs": [
        {
          "output_type": "stream",
          "name": "stdout",
          "text": [
            "\n",
            "Sliced Array (Rows 2-8, Columns 3-5):\n",
            "[]\n"
          ]
        }
      ]
    },
    {
      "cell_type": "code",
      "source": [
        "sin_values = np.sin(assessed_2d)\n",
        "cos_values = np.cos(assessed_2d)\n",
        "\n",
        "print(\"\\nSin Values (2D Array of Assessed Value):\")\n",
        "print(sin_values[:10])\n",
        "\n",
        "print(\"\\nCos Values (2D Array of Assessed Value):\")\n",
        "print(cos_values[:10])\n"
      ],
      "metadata": {
        "colab": {
          "base_uri": "https://localhost:8080/"
        },
        "id": "VDaKoKLY_Lo_",
        "outputId": "ccfbf649-426f-4b42-cd7e-a9ebeb6beaaa"
      },
      "execution_count": null,
      "outputs": [
        {
          "output_type": "stream",
          "name": "stdout",
          "text": [
            "\n",
            "Sin Values (2D Array of Assessed Value):\n",
            "[[-0.62490534 -0.62490534]\n",
            " [-0.69007689 -0.69007689]\n",
            " [-0.90765504 -0.90765504]\n",
            " [ 0.84516887  0.84516887]\n",
            " [ 0.11401427  0.11401427]\n",
            " [-0.958746   -0.958746  ]\n",
            " [-0.93966696 -0.93966696]\n",
            " [ 0.99936842  0.99936842]\n",
            " [-0.17058333 -0.17058333]\n",
            " [ 0.91775143  0.91775143]]\n",
            "\n",
            "Cos Values (2D Array of Assessed Value):\n",
            "[[-0.78070053 -0.78070053]\n",
            " [-0.72373606 -0.72373606]\n",
            " [ 0.41971695  0.41971695]\n",
            " [-0.53449938 -0.53449938]\n",
            " [-0.99347911 -0.99347911]\n",
            " [ 0.28426416  0.28426416]\n",
            " [ 0.34209063  0.34209063]\n",
            " [-0.03553532 -0.03553532]\n",
            " [ 0.98534325  0.98534325]\n",
            " [ 0.39715527  0.39715527]]\n"
          ]
        }
      ]
    }
  ]
}