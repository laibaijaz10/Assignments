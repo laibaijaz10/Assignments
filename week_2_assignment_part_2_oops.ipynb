{
  "cells": [
    {
      "cell_type": "code",
      "execution_count": null,
      "metadata": {
        "colab": {
          "base_uri": "https://localhost:8080/"
        },
        "id": "njGmk-zZ0ZgE",
        "outputId": "4f47bf84-f2f8-461c-88cc-bcc9cff7c586"
      },
      "outputs": [
        {
          "name": "stdout",
          "output_type": "stream",
          "text": [
            "dante is 24 years old.\n"
          ]
        }
      ],
      "source": [
        "from datetime import datetime\n",
        "\n",
        "class Person:\n",
        "    def __init__(self, name, country, date_of_birth):\n",
        "        self.name = name\n",
        "        self.country = country\n",
        "        self.date_of_birth = date_of_birth\n",
        "\n",
        "    def calculate_age(self):\n",
        "        today = datetime.now()\n",
        "        birth_date = datetime.strptime(self.date_of_birth, \"%Y-%m-%d\")\n",
        "        age = today.year - birth_date.year - ((today.month, today.day) < (birth_date.month, birth_date.day))\n",
        "        return age\n",
        "\n",
        "# Example usage\n",
        "person1 = Person(\"dante\", \"japan\", \"2000-05-15\")\n",
        "print(f\"{person1.name} is {person1.calculate_age()} years old.\")\n"
      ]
    },
    {
      "cell_type": "code",
      "execution_count": null,
      "metadata": {
        "colab": {
          "base_uri": "https://localhost:8080/"
        },
        "id": "ZlIEmcXH3NrS",
        "outputId": "5b8b698a-c6d2-4d59-e6ad-35c060815164"
      },
      "outputs": [
        {
          "name": "stdout",
          "output_type": "stream",
          "text": [
            "8\n",
            "6\n",
            "12\n",
            "4.0\n"
          ]
        }
      ],
      "source": [
        "class Calculator:\n",
        "    def add(self, a, b):\n",
        "        return a + b\n",
        "\n",
        "    def subtract(self, a, b):\n",
        "        return a - b\n",
        "\n",
        "    def multiply(self, a, b):\n",
        "        return a * b\n",
        "\n",
        "    def divide(self, a, b):\n",
        "        if b != 0:\n",
        "            return a / b\n",
        "        else:\n",
        "            return \"Cannot divide by zero!\"\n",
        "\n",
        "\n",
        "calc = Calculator()\n",
        "print(calc.add(5, 3))\n",
        "print(calc.subtract(10, 4))\n",
        "print(calc.multiply(2, 6))\n",
        "print(calc.divide(8, 2))"
      ]
    },
    {
      "cell_type": "code",
      "execution_count": null,
      "metadata": {
        "colab": {
          "background_save": true,
          "base_uri": "https://localhost:8080/"
        },
        "id": "pIHLgC-U3TJp",
        "outputId": "897c9494-c1c3-4d0a-d30b-283ee1246d6f"
      },
      "outputs": [
        {
          "name": "stdout",
          "output_type": "stream",
          "text": [
            "8\n",
            "6\n",
            "12\n",
            "None\n"
          ]
        }
      ],
      "source": [
        "from abc import ABC, abstractmethod\n",
        "\n",
        "class ICalculator(ABC):\n",
        "    @abstractmethod\n",
        "    def add(self, a, b): pass\n",
        "\n",
        "    @abstractmethod\n",
        "    def subtract(self, a, b): pass\n",
        "\n",
        "    @abstractmethod\n",
        "    def multiply(self, a, b): pass\n",
        "\n",
        "    @abstractmethod\n",
        "    def divide(self, a, b): pass\n",
        "\n",
        "class CalculatorImpl(ICalculator):\n",
        "    def add(self, a, b):\n",
        "        return a + b\n",
        "\n",
        "    def subtract(self, a, b):\n",
        "        return a - b\n",
        "\n",
        "    def multiply(self, a, b):\n",
        "        return a * b\n",
        "\n",
        "    def divide(self, a, b):\n",
        "        if b != 0:\n",
        "            return a / b\n",
        "        return \"Cannot divide by zero\"\n",
        "\n",
        "\n",
        "calc = CalculatorImpl()\n",
        "print(\"Add:\", calc.add(4, 2))\n"
      ]
    },
    {
      "cell_type": "code",
      "execution_count": null,
      "metadata": {
        "id": "vyMJ8I6S3dqa"
      },
      "outputs": [],
      "source": [
        "class Customer:\n",
        "    def __init__(self, record_id, first_name, last_name, email, phone, owner, company_id, last_activity,\n",
        "                 status, marketing_status, created_date, company):\n",
        "        self.record_id = record_id\n",
        "        self.first_name = first_name\n",
        "        self.last_name = last_name\n",
        "        self.email = email\n",
        "        self.phone = phone\n",
        "        self.owner = owner\n",
        "        self.company_id = company_id\n",
        "        self.last_activity = last_activity\n",
        "        self.status = status\n",
        "        self.marketing_status = marketing_status\n",
        "        self.created_date = created_date\n",
        "        self.company = company\n",
        "\n",
        "# Creating 5 customers\n",
        "c1 = Customer(1, \"Ali\", \"Raza\", \"ali@gmail.com\", \"1234567890\", \"Zain\", 101, \"2023-01-01\", \"New\", \"Subscribed\", \"2023-01-01\", \"TechCorp\")\n",
        "c2 = Customer(2, \"Sara\", \"Khan\", \"sara@gmail.com\", \"1234567891\", \"Zain\", 102, \"2023-01-03\", \"Contacted\", \"Subscribed\", \"2023-01-02\", \"Innova\")\n",
        "c3 = Customer(3, \"Usman\", \"Ali\", \"usman@gmail.com\", \"1234567892\", \"Areeba\", 103, \"2023-01-05\", \"Qualified\", \"Not Subscribed\", \"2023-01-03\", \"SoftLab\")\n",
        "c4 = Customer(4, \"Hina\", \"Shah\", \"hina@gmail.com\", \"1234567893\", \"Areeba\", 104, \"2023-01-06\", \"New\", \"Subscribed\", \"2023-01-04\", \"BizEdge\")\n",
        "c5 = Customer(5, \"Omar\", \"Farooq\", \"omar@gmail.com\", \"1234567894\", \"Zain\", 105, \"2023-01-07\", \"Lost\", \"Not Subscribed\", \"2023-01-05\", \"NextGen\")\n"
      ]
    },
    {
      "cell_type": "code",
      "execution_count": null,
      "metadata": {
        "colab": {
          "base_uri": "https://localhost:8080/"
        },
        "id": "PCH0OEcD3mJT",
        "outputId": "64a2e54a-1234-4c59-b7ce-74cc04b5dfd7"
      },
      "outputs": [
        {
          "name": "stdout",
          "output_type": "stream",
          "text": [
            "Stack items: [10, 20, 30]\n",
            "Popped: 30\n",
            "Stack items: [10, 20]\n"
          ]
        }
      ],
      "source": [
        "class Stack:\n",
        "    def __init__(self):\n",
        "        self.items = []\n",
        "\n",
        "    def push(self, item):\n",
        "        self.items.append(item)\n",
        "\n",
        "    def pop(self):\n",
        "        if not self.is_empty():\n",
        "            return self.items.pop()\n",
        "        return \"Stack is empty\"\n",
        "\n",
        "    def is_empty(self):\n",
        "        return len(self.items) == 0\n",
        "\n",
        "    def display(self):\n",
        "        print(\"Stack items:\", self.items)\n",
        "\n",
        "# Example\n",
        "s = Stack()\n",
        "s.push(10)\n",
        "s.push(20)\n",
        "s.push(30)\n",
        "s.display()\n",
        "print(\"Popped:\", s.pop())\n",
        "s.display()\n"
      ]
    },
    {
      "cell_type": "code",
      "execution_count": null,
      "metadata": {
        "colab": {
          "base_uri": "https://localhost:8080/"
        },
        "id": "cxewXq5d4vzA",
        "outputId": "f3696138-d5b6-4363-df8d-1e7bbb7f5e2e"
      },
      "outputs": [
        {
          "name": "stdout",
          "output_type": "stream",
          "text": [
            "Queue items: ['A', 'B', 'C']\n",
            "Dequeued: A\n",
            "Queue items: ['B', 'C']\n"
          ]
        }
      ],
      "source": [
        "class Queue:\n",
        "    def __init__(self):\n",
        "        self.items = []\n",
        "\n",
        "    def enqueue(self, item):\n",
        "        self.items.append(item)\n",
        "\n",
        "    def dequeue(self):\n",
        "        if not self.is_empty():\n",
        "            return self.items.pop(0)\n",
        "        return \"Queue is empty\"\n",
        "\n",
        "    def is_empty(self):\n",
        "        return len(self.items) == 0\n",
        "\n",
        "    def display(self):\n",
        "        print(\"Queue items:\", self.items)\n",
        "\n",
        "# Example\n",
        "q = Queue()\n",
        "q.enqueue(\"A\")\n",
        "q.enqueue(\"B\")\n",
        "q.enqueue(\"C\")\n",
        "q.display()\n",
        "print(\"Dequeued:\", q.dequeue())\n",
        "q.display()\n"
      ]
    },
    {
      "cell_type": "code",
      "execution_count": null,
      "metadata": {
        "colab": {
          "base_uri": "https://localhost:8080/"
        },
        "id": "vP_Dkbhv43zH",
        "outputId": "da5acc6d-556c-47ef-88ca-6ebe304dd8fa"
      },
      "outputs": [
        {
          "name": "stdout",
          "output_type": "stream",
          "text": [
            "Name: JONES, ID: E7499, Department: MARKETING, Salary: 45000\n",
            "MARTIN's Salary with Overtime: 55000.0\n"
          ]
        }
      ],
      "source": [
        "class Employee:\n",
        "    def __init__(self, name, emp_id, salary, department):\n",
        "        self.emp_name = name\n",
        "        self.emp_id = emp_id\n",
        "        self.emp_salary = salary\n",
        "        self.emp_department = department\n",
        "\n",
        "    def emp_assign_department(self, new_department):\n",
        "        self.emp_department = new_department\n",
        "\n",
        "    def calculate_emp_salary(self, hours_worked):\n",
        "        if hours_worked > 50:\n",
        "            overtime = hours_worked - 50\n",
        "            overtime_amount = overtime * (self.emp_salary / 50)\n",
        "            total_salary = self.emp_salary + overtime_amount\n",
        "        else:\n",
        "            total_salary = self.emp_salary\n",
        "        return total_salary\n",
        "\n",
        "    def print_employee_details(self):\n",
        "        print(f\"Name: {self.emp_name}, ID: {self.emp_id}, Department: {self.emp_department}, Salary: {self.emp_salary}\")\n",
        "\n",
        "#Employees\n",
        "emp1 = Employee(\"ADAMS\", \"E7876\", 50000, \"ACCOUNTING\")\n",
        "emp2 = Employee(\"JONES\", \"E7499\", 45000, \"RESEARCH\")\n",
        "emp3 = Employee(\"MARTIN\", \"E7900\", 50000, \"SALES\")\n",
        "emp4 = Employee(\"SMITH\", \"E7698\", 55000, \"OPERATIONS\")\n",
        "\n",
        "#department\n",
        "emp2.emp_assign_department(\"MARKETING\")\n",
        "emp2.print_employee_details()\n",
        "salary_with_overtime = emp3.calculate_emp_salary(55)\n",
        "print(f\"{emp3.emp_name}'s Salary with Overtime: {salary_with_overtime}\")\n"
      ]
    },
    {
      "cell_type": "code",
      "execution_count": 1,
      "metadata": {
        "id": "dFdteOHG7uF8",
        "colab": {
          "base_uri": "https://localhost:8080/"
        },
        "outputId": "f63a2f45-de9c-4f13-c935-1cbf6eb8e13f"
      },
      "outputs": [
        {
          "output_type": "stream",
          "name": "stdout",
          "text": [
            "Table 5 reserved successfully.\n",
            "Table 3 reserved successfully.\n",
            "Order placed for Table 5: ['Biryani', 'Pepsi']\n",
            "Order placed for Table 3: ['Zinger Burger', 'Pepsi']\n",
            "\n",
            "--- Food Lounge Menu ---\n",
            "Biryani: Rs.350\n",
            "Zinger Burger: Rs.450\n",
            "Pepsi: Rs.70\n",
            "\n",
            "--- Reserved Tables ---\n",
            "[5, 3]\n",
            "\n",
            "--- Customer Orders ---\n",
            "Table 5: ['Biryani', 'Pepsi']\n",
            "Table 3: ['Zinger Burger', 'Pepsi']\n"
          ]
        }
      ],
      "source": [
        "class Restaurant:\n",
        "    def __init__(self, name):\n",
        "        self.name = name\n",
        "        self.menu_items = {}  # item: price\n",
        "        self.booked_tables = []  # list of reserved table numbers\n",
        "        self.customer_orders = {}  # table_number: [items]\n",
        "\n",
        "    def add_item_to_menu(self, item_name, price):\n",
        "        self.menu_items[item_name] = price\n",
        "\n",
        "    def print_menu(self):\n",
        "        print(f\"\\n--- {self.name} Menu ---\")\n",
        "        for item, price in self.menu_items.items():\n",
        "            print(f\"{item}: Rs.{price}\")\n",
        "\n",
        "    def book_table(self, table_number):\n",
        "        if table_number not in self.booked_tables:\n",
        "            self.booked_tables.append(table_number)\n",
        "            print(f\"Table {table_number} reserved successfully.\")\n",
        "        else:\n",
        "            print(f\"Table {table_number} is already reserved.\")\n",
        "\n",
        "    def print_table_reservations(self):\n",
        "        print(\"\\n--- Reserved Tables ---\")\n",
        "        print(self.booked_tables)\n",
        "\n",
        "    def customer_order(self, table_number, items):\n",
        "        if table_number in self.booked_tables:\n",
        "            self.customer_orders[table_number] = items\n",
        "            print(f\"Order placed for Table {table_number}: {items}\")\n",
        "        else:\n",
        "            print(f\"Table {table_number} is not reserved. Cannot take order.\")\n",
        "\n",
        "    def print_customer_orders(self):\n",
        "        print(\"\\n--- Customer Orders ---\")\n",
        "        for table, items in self.customer_orders.items():\n",
        "            print(f\"Table {table}: {items}\")\n",
        "\n",
        "# Example usage\n",
        "r = Restaurant(\"Food Lounge\")\n",
        "r.add_item_to_menu(\"Biryani\", 350)\n",
        "r.add_item_to_menu(\"Zinger Burger\", 450)\n",
        "r.add_item_to_menu(\"Pepsi\", 70)\n",
        "\n",
        "r.book_table(5)\n",
        "r.book_table(3)\n",
        "\n",
        "r.customer_order(5, [\"Biryani\", \"Pepsi\"])\n",
        "r.customer_order(3, [\"Zinger Burger\", \"Pepsi\"])\n",
        "\n",
        "r.print_menu()\n",
        "r.print_table_reservations()\n",
        "r.print_customer_orders()\n"
      ]
    },
    {
      "cell_type": "code",
      "source": [
        "import datetime\n",
        "\n",
        "class BankAccount:\n",
        "    def __init__(self, account_number, customer_name, date_of_opening, balance=0):\n",
        "        self.account_number = account_number\n",
        "        self.customer_name = customer_name\n",
        "        self.date_of_opening = date_of_opening\n",
        "        self.balance = balance\n",
        "        self.transaction_history = []\n",
        "\n",
        "    def deposit(self, amount):\n",
        "        self.balance += amount\n",
        "        self.transaction_history.append(f\"{datetime.datetime.now()}: Deposited {amount}\")\n",
        "        print(f\"{amount} deposited successfully.\")\n",
        "\n",
        "    def withdraw(self, amount):\n",
        "        if amount > self.balance:\n",
        "            print(\"Insufficient balance!\")\n",
        "        else:\n",
        "            self.balance -= amount\n",
        "            self.transaction_history.append(f\"{datetime.datetime.now()}: Withdrew {amount}\")\n",
        "            print(f\"{amount} withdrawn successfully.\")\n",
        "\n",
        "    def check_balance(self):\n",
        "        print(f\"Current balance: {self.balance}\")\n",
        "        return self.balance\n",
        "\n",
        "    def show_transaction_history(self):\n",
        "        print(\"Transaction History:\")\n",
        "        for transaction in self.transaction_history:\n",
        "            print(transaction)\n",
        "\n",
        "account1 = BankAccount(\"123456\", \"Laiba Ijaz\", \"2023-01-01\", 10000)\n",
        "account1.deposit(5000)\n",
        "account1.withdraw(2000)\n",
        "account1.check_balance()\n",
        "account1.show_transaction_history()\n"
      ],
      "metadata": {
        "colab": {
          "base_uri": "https://localhost:8080/"
        },
        "id": "9N1aj-Vi6-XE",
        "outputId": "d8983d73-20f2-4a17-c0b7-9cd07bc4e9fb"
      },
      "execution_count": 2,
      "outputs": [
        {
          "output_type": "stream",
          "name": "stdout",
          "text": [
            "5000 deposited successfully.\n",
            "2000 withdrawn successfully.\n",
            "Current balance: 13000\n",
            "Transaction History:\n",
            "2025-04-19 16:40:56.351433: Deposited 5000\n",
            "2025-04-19 16:40:56.351574: Withdrew 2000\n"
          ]
        }
      ]
    },
    {
      "cell_type": "code",
      "source": [
        "# Single Inheritance\n",
        "class Universe:\n",
        "    def show_universe(self):\n",
        "        return \"Universe\"\n",
        "\n",
        "class Earth(Universe):\n",
        "    def show_earth(self):\n",
        "        return \"Earth\"\n",
        "\n",
        "# Multilevel Inheritance\n",
        "class Asia(Earth):\n",
        "    def show_asia(self):\n",
        "        return \"Asia\"\n",
        "\n",
        "class Pakistan(Asia):\n",
        "    def show_country(self):\n",
        "        return \"Pakistan\"\n",
        "\n",
        "\n",
        "class NorthAmerica:\n",
        "    def show_north_america(self):\n",
        "        return \"North America\"\n",
        "\n",
        "class USA(Asia, NorthAmerica):\n",
        "    def show_usa(self):\n",
        "        return \"USA\"\n",
        "\n",
        "\n",
        "class Canada(NorthAmerica):\n",
        "    def show_canada(self):\n",
        "        return \"Canada\"\n",
        "\n",
        "# Hybrid Inheritance (Combination)\n",
        "class Jupiter(Universe, NorthAmerica):\n",
        "    def show_jupiter(self):\n",
        "        return \"Jupiter\"\n",
        "\n",
        "# Create objects and test\n",
        "pak = Pakistan()\n",
        "print(pak.show_country())\n",
        "print(pak.show_asia())\n",
        "print(pak.show_earth())\n",
        "print(pak.show_universe())\n",
        "\n",
        "usa = USA()\n",
        "print(usa.show_usa())\n",
        "print(usa.show_north_america())\n",
        "print(usa.show_earth())\n",
        "\n",
        "can = Canada()\n",
        "print(can.show_canada())\n",
        "print(can.show_north_america())\n",
        "\n",
        "jup = Jupiter()\n",
        "print(jup.show_jupiter())\n",
        "print(jup.show_universe())\n"
      ],
      "metadata": {
        "colab": {
          "base_uri": "https://localhost:8080/"
        },
        "id": "FiUH9qeC7ZAA",
        "outputId": "8c020f7a-8673-4742-e229-9782006281c3"
      },
      "execution_count": 3,
      "outputs": [
        {
          "output_type": "stream",
          "name": "stdout",
          "text": [
            "Pakistan\n",
            "Asia\n",
            "Earth\n",
            "Universe\n",
            "USA\n",
            "North America\n",
            "Earth\n",
            "Canada\n",
            "North America\n",
            "Jupiter\n",
            "Universe\n"
          ]
        }
      ]
    },
    {
      "cell_type": "code",
      "source": [
        "class Employee:\n",
        "    def show_employee(self):\n",
        "        return \"Employee\"\n",
        "\n",
        "class Manager(Employee):\n",
        "    def show_manager(self):\n",
        "        return \"Manager\"\n",
        "\n",
        "\n",
        "class FinanceManager(Manager):\n",
        "    def show_finance(self):\n",
        "        return \"financial Manager\"\n",
        "\n",
        "class CXO(FinanceManager):\n",
        "    def show_cxo(self):\n",
        "        return \"CXO\"\n",
        "\n",
        "\n",
        "class OperationManager:\n",
        "    def show_operations(self):\n",
        "        return \"Operation Manager\"\n",
        "\n",
        "class CTO(CXO, OperationManager):\n",
        "    def show_cto(self):\n",
        "        return \"CTO\"\n",
        "\n",
        "\n",
        "class CIO(OperationManager):\n",
        "    def show_cio(self):\n",
        "        return \"CIO\"\n",
        "\n",
        "\n",
        "class FounderChairman(CTO, CIO):\n",
        "    def show_founder(self):\n",
        "        return \"Founder-Chairman\"\n",
        "\n",
        "\n",
        "founder = FounderChairman()\n",
        "print(founder.show_founder())\n",
        "print(founder.show_cto())\n",
        "print(founder.show_cxo())\n",
        "print(founder.show_finance())\n",
        "print(founder.show_manager())\n",
        "print(founder.show_employee())\n",
        "print(founder.show_operations())\n",
        "print(founder.show_cio())\n"
      ],
      "metadata": {
        "colab": {
          "base_uri": "https://localhost:8080/"
        },
        "id": "gls4TD0y7xLE",
        "outputId": "bc5a9083-50be-43e8-d7d9-bca68d23dd60"
      },
      "execution_count": 4,
      "outputs": [
        {
          "output_type": "stream",
          "name": "stdout",
          "text": [
            "Founder-Chairman\n",
            "CTO\n",
            "CXO\n",
            "financial Manager\n",
            "Manager\n",
            "Employee\n",
            "Operation Manager\n",
            "CIO\n"
          ]
        }
      ]
    },
    {
      "cell_type": "code",
      "source": [
        "class Computer:\n",
        "    brand = \"GenericBrand\"\n",
        "\n",
        "    def __init__(self, ram):\n",
        "        self.ram = ram\n",
        "\n",
        "    def computer_info(self):\n",
        "        return f\"Computer with {self.ram}GB RAM\"\n",
        "\n",
        "    @staticmethod\n",
        "    def static_computer():\n",
        "        return \"Computers\"\n",
        "\n",
        "    @classmethod\n",
        "    def brand_name(cls):\n",
        "        return f\"Brand: {cls.brand}\"\n",
        "\n",
        "class Phone:\n",
        "    brand = \"SmartPhone\"\n",
        "\n",
        "    def __init__(self, sim_slots):\n",
        "        self.sim_slots = sim_slots\n",
        "\n",
        "    def phone_info(self):\n",
        "        return f\"Phone with {self.sim_slots} SIM slots\"\n",
        "\n",
        "    @staticmethod\n",
        "    def static_phone():\n",
        "        return \"Phones\"\n",
        "\n",
        "    @classmethod\n",
        "    def brand_name(cls):\n",
        "        return f\"Brand: {cls.brand}\"\n",
        "class SmartPhone(Computer, Phone):\n",
        "    def __init__(self, ram, sim_slots, os):\n",
        "        Computer.__init__(self, ram)\n",
        "        Phone.__init__(self, sim_slots)\n",
        "        self.os = os\n",
        "\n",
        "    def smartphone_info(self):\n",
        "        return f\"SmartPhone with {self.ram}GB RAM, {self.sim_slots} SIMs, running {self.os}\"\n",
        "class Tablet(SmartPhone):\n",
        "    def tablet_info(self):\n",
        "        return f\"Tablet: {self.smartphone_info()}\"\n",
        "class SmartWatch(SmartPhone):\n",
        "    def watch_info(self):\n",
        "        return f\"SmartWatch: {self.smartphone_info()}\"\n",
        "class FitnessBand(SmartPhone):\n",
        "    def band_info(self):\n",
        "        return f\"Fitness Band: {self.smartphone_info()}\"\n",
        "tablet = Tablet(8, 1, \"Android\")\n",
        "watch = SmartWatch(2, 1, \"WatchOS\")\n",
        "band = FitnessBand(1, 0, \"FitOS\")\n",
        "\n",
        "print(tablet.tablet_info())\n",
        "print(watch.watch_info())\n",
        "print(band.band_info())\n",
        "\n",
        "print(SmartPhone.static_computer())\n",
        "print(SmartPhone.static_phone())\n",
        "print(SmartPhone.brand_name())\n"
      ],
      "metadata": {
        "colab": {
          "base_uri": "https://localhost:8080/"
        },
        "id": "vslvDBMV8Y3P",
        "outputId": "83c3ea1f-0e2f-4ae0-eafa-b9eb729b7072"
      },
      "execution_count": 7,
      "outputs": [
        {
          "output_type": "stream",
          "name": "stdout",
          "text": [
            "Tablet: SmartPhone with 8GB RAM, 1 SIMs, running Android\n",
            "SmartWatch: SmartPhone with 2GB RAM, 1 SIMs, running WatchOS\n",
            "Fitness Band: SmartPhone with 1GB RAM, 0 SIMs, running FitOS\n",
            "Computers\n",
            "Phones\n",
            "Brand: GenericBrand\n"
          ]
        }
      ]
    },
    {
      "cell_type": "code",
      "source": [
        "class Bird:\n",
        "    species_type = \"Aves\"\n",
        "\n",
        "    def __init__(self, name):\n",
        "        self.name = name\n",
        "\n",
        "    def features(self):\n",
        "        return f\"{self.name} has feathers and lays eggs.\"\n",
        "\n",
        "    @classmethod\n",
        "    def get_species_type(cls):\n",
        "        return f\"All birds belong to: {cls.species_type}\"\n",
        "\n",
        "    @staticmethod\n",
        "    def bird_info():\n",
        "        return \"Birds are warm-blooded vertebrates with feathers.\"\n",
        "class FlyingBird(Bird):\n",
        "    def can_fly(self):\n",
        "        return f\"{self.name} can fly high in the sky.\"\n",
        "\n",
        "class Robin(FlyingBird):\n",
        "    def special_feature(self):\n",
        "        return f\"{self.name} is known for singing.\"\n",
        "\n",
        "class Swallow(FlyingBird):\n",
        "    def special_feature(self):\n",
        "        return f\"{self.name} is known for fast and agile flying.\"\n",
        "class NonFlyingBird(Bird):\n",
        "    def can_fly(self):\n",
        "        return f\"{self.name} cannot fly.\"\n",
        "\n",
        "class Penguin(NonFlyingBird):\n",
        "    def special_feature(self):\n",
        "        return f\"{self.name} swims very well.\"\n",
        "\n",
        "class Kiwi(NonFlyingBird):\n",
        "    def special_feature(self):\n",
        "        return f\"{self.name} is a nocturnal bird from New Zealand.\"\n",
        "# Flying Birds\n",
        "robin = Robin(\"Robin\")\n",
        "print(robin.features())\n",
        "print(robin.can_fly())\n",
        "print(robin.special_feature())\n",
        "print(robin.get_species_type())\n",
        "print(Bird.bird_info())\n",
        "\n",
        "print(\"---------------------------\")\n",
        "\n",
        "swallow = Swallow(\"Swallow\")\n",
        "print(swallow.features())\n",
        "print(swallow.can_fly())\n",
        "print(swallow.special_feature())\n",
        "\n",
        "print(\"---------------------------\")\n",
        "\n",
        "# Non-Flying Birds\n",
        "penguin = Penguin(\"Penguin\")\n",
        "print(penguin.features())\n",
        "print(penguin.can_fly())\n",
        "print(penguin.special_feature())\n",
        "\n",
        "print(\"---------------------------\")\n",
        "\n",
        "kiwi = Kiwi(\"Kiwi\")\n",
        "print(kiwi.features())\n",
        "print(kiwi.can_fly())\n",
        "print(kiwi.special_feature())\n"
      ],
      "metadata": {
        "colab": {
          "base_uri": "https://localhost:8080/"
        },
        "id": "UWIbGZ4R9AnP",
        "outputId": "e3c59ac5-c9ad-4a54-ea0b-96ccfaaaea9f"
      },
      "execution_count": 8,
      "outputs": [
        {
          "output_type": "stream",
          "name": "stdout",
          "text": [
            "Robin has feathers and lays eggs.\n",
            "Robin can fly high in the sky.\n",
            "Robin is known for singing.\n",
            "All birds belong to: Aves\n",
            "Birds are warm-blooded vertebrates with feathers.\n",
            "---------------------------\n",
            "Swallow has feathers and lays eggs.\n",
            "Swallow can fly high in the sky.\n",
            "Swallow is known for fast and agile flying.\n",
            "---------------------------\n",
            "Penguin has feathers and lays eggs.\n",
            "Penguin cannot fly.\n",
            "Penguin swims very well.\n",
            "---------------------------\n",
            "Kiwi has feathers and lays eggs.\n",
            "Kiwi cannot fly.\n",
            "Kiwi is a nocturnal bird from New Zealand.\n"
          ]
        }
      ]
    },
    {
      "cell_type": "code",
      "source": [
        "class FamilyMember:\n",
        "    family_name = \"OurAwesomeFamily\"\n",
        "    count = 0\n",
        "\n",
        "    def __init__(self, name, talent=\"being awesome\"):\n",
        "        self.name = name\n",
        "        self.talent = talent\n",
        "        self.connected_to = []\n",
        "        FamilyMember.count += 1\n",
        "\n",
        "    def greet(self):\n",
        "        print(f\"{self.name} says hello!\")\n",
        "\n",
        "    def connect(self, other):\n",
        "        self.connected_to.append(other)\n",
        "        other.connected_to.append(self)\n",
        "        print(f\"{self.name} connected with {other.name}\")\n",
        "\n",
        "    @classmethod\n",
        "    def family_size(cls):\n",
        "        return f\"Total members: {cls.count}\"\n",
        "\n",
        "    @staticmethod\n",
        "    def welcome():\n",
        "        return \"Welcome to our family!\"\n",
        "\n",
        "    # Property for talent\n",
        "    @property\n",
        "    def special_talent(self):\n",
        "        return f\"{self.name}'s talent: {self.talent}\"\n",
        "\n",
        "    @special_talent.setter\n",
        "    def special_talent(self, new_talent):\n",
        "        self.talent = new_talent\n",
        "        print(f\"{self.name}'s talent updated to: {self.talent}\")\n",
        "\n",
        "\n",
        "class Father(FamilyMember):\n",
        "    def provide(self):\n",
        "        print(f\"{self.name} provides love and care.\")\n",
        "\n",
        "\n",
        "class Mother(FamilyMember):\n",
        "    def nurture(self):\n",
        "        print(f\"{self.name} nurtures the family.\")\n",
        "\n",
        "\n",
        "class Child(Father, Mother):  # Multiple Inheritance\n",
        "    def learn(self):\n",
        "        print(f\"{self.name} is learning new things.\")\n",
        "\n",
        "\n",
        "class Grandparent(FamilyMember):\n",
        "    def story(self):\n",
        "        print(f\"{self.name} tells a wise story.\")\n",
        "\n",
        "\n",
        "# Create family objects\n",
        "dad = Father(\"danial\", \"fixing things\")\n",
        "mom = Mother(\"Junaid\", \"cooking\")\n",
        "child = Child(\"alina\", \"drawing\")\n",
        "grandpa = Grandparent(\"George\", \"gardening\")\n",
        "\n",
        "# Use methods\n",
        "dad.provide()\n",
        "mom.nurture()\n",
        "child.learn()\n",
        "grandpa.story()\n",
        "\n",
        "# Use property\n",
        "print(dad.special_talent)\n",
        "mom.special_talent = \"baking\"\n",
        "print(mom.special_talent)\n",
        "\n",
        "# Connect family\n",
        "child.connect(dad)\n",
        "child.connect(mom)\n",
        "\n",
        "# Class and static method\n",
        "print(FamilyMember.family_size())\n",
        "print(FamilyMember.welcome())\n"
      ],
      "metadata": {
        "colab": {
          "base_uri": "https://localhost:8080/"
        },
        "id": "vv9vMWBM_t65",
        "outputId": "ef6ab26c-ad36-472e-8add-c75b4362fb33"
      },
      "execution_count": 9,
      "outputs": [
        {
          "output_type": "stream",
          "name": "stdout",
          "text": [
            "danial provides love and care.\n",
            "Junaid nurtures the family.\n",
            "alina is learning new things.\n",
            "George tells a wise story.\n",
            "danial's talent: fixing things\n",
            "Junaid's talent updated to: baking\n",
            "Junaid's talent: baking\n",
            "alina connected with danial\n",
            "alina connected with Junaid\n",
            "Total members: 4\n",
            "Welcome to our family!\n"
          ]
        }
      ]
    },
    {
      "cell_type": "code",
      "source": [
        "class Animal:\n",
        "    kingdom = \"Animalia\"\n",
        "    count = 0\n",
        "\n",
        "    def __init__(self, name, food=\"something tasty\"):\n",
        "        self.name = name\n",
        "        self.food = food\n",
        "        Animal.count += 1\n",
        "\n",
        "    def describe(self):\n",
        "        return f\"This is a {self.name}.\"\n",
        "\n",
        "    @staticmethod\n",
        "    def get_kingdom():\n",
        "        return \"These animals belong to Animalia.\"\n",
        "\n",
        "    @classmethod\n",
        "    def total_species(cls):\n",
        "        return f\"Total species: {cls.count}\"\n",
        "\n",
        "    @property\n",
        "    def favorite_food(self):\n",
        "        return f\"{self.name} loves to eat {self.food}.\"\n",
        "\n",
        "    @favorite_food.setter\n",
        "    def favorite_food(self, new_food):\n",
        "        self.food = new_food\n",
        "        print(f\"{self.name} now enjoys {self.food}.\")\n",
        "\n",
        "\n",
        "class Vertebrate(Animal):\n",
        "    has_backbone = True\n",
        "\n",
        "class Mammal(Vertebrate):\n",
        "    has_fur = True\n",
        "    gives_milk = True\n",
        "\n",
        "class Bird(Vertebrate):\n",
        "    has_feathers = True\n",
        "    lays_eggs = True\n",
        "\n",
        "class Dinosaur(Vertebrate):\n",
        "    era = \"Mesozoic\"\n",
        "    is_extinct = True\n",
        "\n",
        "class Platypus(Mammal):\n",
        "    lays_eggs = True\n",
        "    has_venom = True\n",
        "dog = Mammal(\"Dog\")\n",
        "bird = Bird(\"Parrot\")\n",
        "dino = Dinosaur(\"T-Rex\")\n",
        "perry = Platypus(\"Perry\", \"shrimp\")\n",
        "print(dog.favorite_food)\n",
        "bird.favorite_food = \"seeds\"\n",
        "print(bird.favorite_food)\n",
        "print(dino.era)\n",
        "print(perry.lays_eggs)\n",
        "print(Animal.total_species())\n",
        "print(Animal.get_kingdom())\n"
      ],
      "metadata": {
        "colab": {
          "base_uri": "https://localhost:8080/"
        },
        "id": "_5tTyfI1AaQM",
        "outputId": "26a5fcb6-9854-4066-edb1-99c017d7376a"
      },
      "execution_count": 10,
      "outputs": [
        {
          "output_type": "stream",
          "name": "stdout",
          "text": [
            "Dog loves to eat something tasty.\n",
            "Parrot now enjoys seeds.\n",
            "Parrot loves to eat seeds.\n",
            "Mesozoic\n",
            "True\n",
            "Total species: 4\n",
            "These animals belong to Animalia.\n"
          ]
        }
      ]
    },
    {
      "cell_type": "code",
      "source": [
        "class Animal:\n",
        "    def __init__(self, name, species):\n",
        "        self.name = name\n",
        "        self.species = species\n",
        "\n",
        "class Pet:\n",
        "    def __init__(self, owner):\n",
        "        self.owner = owner\n",
        "\n",
        "class Dog(Animal, Pet):\n",
        "    def __init__(self, name, species, breed, owner):\n",
        "        Animal.__init__(self, name, species)\n",
        "        Pet.__init__(self, owner)\n",
        "        self.breed = breed\n",
        "\n",
        "    def info(self):\n",
        "        print(f\"{self.name} is a {self.breed} owned by {self.owner}.\")\n",
        "\n",
        "d = Dog(\"Buddy\", \"Canine\", \"Labrador\", \"Arop\")\n",
        "d.info()\n",
        "class Animal:\n",
        "    def __init__(self, name):\n",
        "        self.name = name\n",
        "\n",
        "class Mammal(Animal):\n",
        "    pass\n",
        "\n",
        "class Dog(Mammal):\n",
        "    def speak(self):\n",
        "        print(f\"{self.name} says woof!\")\n",
        "\n",
        "d = Dog(\"Max\")\n",
        "d.speak()\n",
        "class Animal:\n",
        "    def __init__(self, name):\n",
        "        self.name = name\n",
        "\n",
        "class Dog(Animal):\n",
        "    def bark(self):\n",
        "        print(f\"{self.name} barks!\")\n",
        "\n",
        "class Cat(Animal):\n",
        "    def meow(self):\n",
        "        print(f\"{self.name} meows!\")\n",
        "\n",
        "d = Dog(\"Rex\")\n",
        "c = Cat(\"Mimi\")\n",
        "d.bark()\n",
        "c.meow()\n"
      ],
      "metadata": {
        "colab": {
          "base_uri": "https://localhost:8080/"
        },
        "id": "Ym0OxQbYBOzo",
        "outputId": "3d4c5be1-2be5-4dab-ffb0-59fca5a7024b"
      },
      "execution_count": 11,
      "outputs": [
        {
          "output_type": "stream",
          "name": "stdout",
          "text": [
            "Buddy is a Labrador owned by Ali.\n",
            "Max says woof!\n",
            "Rex barks!\n",
            "Mimi meows!\n"
          ]
        }
      ]
    }
  ],
  "metadata": {
    "colab": {
      "provenance": []
    },
    "kernelspec": {
      "display_name": "Python 3",
      "name": "python3"
    },
    "language_info": {
      "name": "python"
    }
  },
  "nbformat": 4,
  "nbformat_minor": 0
}