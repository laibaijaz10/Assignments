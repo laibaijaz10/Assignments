{
  "nbformat": 4,
  "nbformat_minor": 0,
  "metadata": {
    "colab": {
      "provenance": []
    },
    "kernelspec": {
      "name": "python3",
      "display_name": "Python 3"
    },
    "language_info": {
      "name": "python"
    }
  },
  "cells": [
    {
      "cell_type": "markdown",
      "source": [
        "# **Question 1: Create DataFrame from Dictionary**"
      ],
      "metadata": {
        "id": "wxzwr4YF6fEw"
      }
    },
    {
      "cell_type": "code",
      "execution_count": 2,
      "metadata": {
        "colab": {
          "base_uri": "https://localhost:8080/"
        },
        "id": "VAlQAvN46dzN",
        "outputId": "742b0c1a-c091-462c-fbf9-07fd56626066"
      },
      "outputs": [
        {
          "output_type": "stream",
          "name": "stdout",
          "text": [
            "    X   Y   Z\n",
            "0  78  84  86\n",
            "1  85  94  97\n",
            "2  96  89  96\n",
            "3  80  83  72\n",
            "4  86  86  83\n"
          ]
        }
      ],
      "source": [
        "import pandas as pd\n",
        "import numpy as np\n",
        "data = {'X': [78, 85, 96, 80, 86],\n",
        "        'Y': [84, 94, 89, 83, 86],\n",
        "        'Z': [86, 97, 96, 72, 83]}\n",
        "\n",
        "df1 = pd.DataFrame(data)\n",
        "print(df1)\n"
      ]
    },
    {
      "cell_type": "markdown",
      "source": [
        "#**✅ Question 2: Create DataFrame**\n"
      ],
      "metadata": {
        "id": "Ql_35tv16mXQ"
      }
    },
    {
      "cell_type": "code",
      "source": [
        "exam_data = {\n",
        "    'name': ['Anastasia', 'Dima', 'Katherine', 'James', 'Emily',\n",
        "             'Michael', 'Matthew', 'Laura', 'Kevin', 'Jonas'],\n",
        "    'score': [12.5, 9, 16.5, np.nan, 9, 20, 14.5, np.nan, 8, 19],\n",
        "    'attempts': [1, 3, 2, 3, 2, 3, 1, 1, 2, 1],\n",
        "    'qualify': ['yes', 'no', 'yes', 'no', 'no',\n",
        "                'yes', 'yes', 'no', 'no', 'yes']\n",
        "}\n",
        "labels = ['a', 'b', 'c', 'd', 'e', 'f', 'g', 'h', 'i', 'j']\n",
        "\n",
        "df2 = pd.DataFrame(exam_data, index=labels)\n",
        "print(df2)\n",
        "print(df2.info())\n",
        "print(df2.loc[['b', 'd', 'f', 'g'], ['name', 'score']])\n",
        "print(df2[df2['attempts'] > 2])\n",
        "print(\"Rows:\", df2.shape[0])\n",
        "print(\"Columns:\", df2.shape[1])\n",
        "print(df2[(df2['score'] >= 15) & (df2['score'] <= 20)])\n",
        "print(df2[(df2['attempts'] < 2) & (df2['score'] > 15)])\n",
        "df2.loc['d', 'score'] = 11.5\n",
        "print(df2)\n",
        "print(\"Mean Score:\", df2['score'].mean())\n"
      ],
      "metadata": {
        "colab": {
          "base_uri": "https://localhost:8080/"
        },
        "id": "Fg5TPs6b6kBV",
        "outputId": "981b599a-05dc-4f38-c904-0ae36661616b"
      },
      "execution_count": 4,
      "outputs": [
        {
          "output_type": "stream",
          "name": "stdout",
          "text": [
            "        name  score  attempts qualify\n",
            "a  Anastasia   12.5         1     yes\n",
            "b       Dima    9.0         3      no\n",
            "c  Katherine   16.5         2     yes\n",
            "d      James    NaN         3      no\n",
            "e      Emily    9.0         2      no\n",
            "f    Michael   20.0         3     yes\n",
            "g    Matthew   14.5         1     yes\n",
            "h      Laura    NaN         1      no\n",
            "i      Kevin    8.0         2      no\n",
            "j      Jonas   19.0         1     yes\n",
            "<class 'pandas.core.frame.DataFrame'>\n",
            "Index: 10 entries, a to j\n",
            "Data columns (total 4 columns):\n",
            " #   Column    Non-Null Count  Dtype  \n",
            "---  ------    --------------  -----  \n",
            " 0   name      10 non-null     object \n",
            " 1   score     8 non-null      float64\n",
            " 2   attempts  10 non-null     int64  \n",
            " 3   qualify   10 non-null     object \n",
            "dtypes: float64(1), int64(1), object(2)\n",
            "memory usage: 400.0+ bytes\n",
            "None\n",
            "      name  score\n",
            "b     Dima    9.0\n",
            "d    James    NaN\n",
            "f  Michael   20.0\n",
            "g  Matthew   14.5\n",
            "      name  score  attempts qualify\n",
            "b     Dima    9.0         3      no\n",
            "d    James    NaN         3      no\n",
            "f  Michael   20.0         3     yes\n",
            "Rows: 10\n",
            "Columns: 4\n",
            "        name  score  attempts qualify\n",
            "c  Katherine   16.5         2     yes\n",
            "f    Michael   20.0         3     yes\n",
            "j      Jonas   19.0         1     yes\n",
            "    name  score  attempts qualify\n",
            "j  Jonas   19.0         1     yes\n",
            "        name  score  attempts qualify\n",
            "a  Anastasia   12.5         1     yes\n",
            "b       Dima    9.0         3      no\n",
            "c  Katherine   16.5         2     yes\n",
            "d      James   11.5         3      no\n",
            "e      Emily    9.0         2      no\n",
            "f    Michael   20.0         3     yes\n",
            "g    Matthew   14.5         1     yes\n",
            "h      Laura    NaN         1      no\n",
            "i      Kevin    8.0         2      no\n",
            "j      Jonas   19.0         1     yes\n",
            "Mean Score: 13.333333333333334\n"
          ]
        }
      ]
    },
    {
      "cell_type": "code",
      "source": [
        "df2.loc['k'] = ['Ali', 13.0, 1, 'yes']  # Add new row\n",
        "print(df2)\n",
        "\n",
        "df2 = df2.drop('k')  # Remove it\n",
        "print(\"\\nAfter removing row 'k':\")\n",
        "print(df2)\n"
      ],
      "metadata": {
        "colab": {
          "base_uri": "https://localhost:8080/"
        },
        "id": "8OD231Hb7rLY",
        "outputId": "d0c22a9e-affd-4cb8-d471-e3bdf9934b92"
      },
      "execution_count": 5,
      "outputs": [
        {
          "output_type": "stream",
          "name": "stdout",
          "text": [
            "        name  score  attempts qualify\n",
            "a  Anastasia   12.5         1     yes\n",
            "b       Dima    9.0         3      no\n",
            "c  Katherine   16.5         2     yes\n",
            "d      James   11.5         3      no\n",
            "e      Emily    9.0         2      no\n",
            "f    Michael   20.0         3     yes\n",
            "g    Matthew   14.5         1     yes\n",
            "h      Laura    NaN         1      no\n",
            "i      Kevin    8.0         2      no\n",
            "j      Jonas   19.0         1     yes\n",
            "k        Ali   13.0         1     yes\n",
            "\n",
            "After removing row 'k':\n",
            "        name  score  attempts qualify\n",
            "a  Anastasia   12.5         1     yes\n",
            "b       Dima    9.0         3      no\n",
            "c  Katherine   16.5         2     yes\n",
            "d      James   11.5         3      no\n",
            "e      Emily    9.0         2      no\n",
            "f    Michael   20.0         3     yes\n",
            "g    Matthew   14.5         1     yes\n",
            "h      Laura    NaN         1      no\n",
            "i      Kevin    8.0         2      no\n",
            "j      Jonas   19.0         1     yes\n"
          ]
        }
      ]
    },
    {
      "cell_type": "code",
      "source": [
        "print(df2.sort_values(by=['name', 'score'], ascending=[False, True]))\n"
      ],
      "metadata": {
        "colab": {
          "base_uri": "https://localhost:8080/"
        },
        "id": "jjXfSAH47rI_",
        "outputId": "9920e52b-a3f8-412d-8b6f-9b8d4c2ec4fb"
      },
      "execution_count": 6,
      "outputs": [
        {
          "output_type": "stream",
          "name": "stdout",
          "text": [
            "        name  score  attempts qualify\n",
            "f    Michael   20.0         3     yes\n",
            "g    Matthew   14.5         1     yes\n",
            "h      Laura    NaN         1      no\n",
            "i      Kevin    8.0         2      no\n",
            "c  Katherine   16.5         2     yes\n",
            "j      Jonas   19.0         1     yes\n",
            "d      James   11.5         3      no\n",
            "e      Emily    9.0         2      no\n",
            "b       Dima    9.0         3      no\n",
            "a  Anastasia   12.5         1     yes\n"
          ]
        }
      ]
    },
    {
      "cell_type": "code",
      "source": [
        "df2['qualify'] = df2['qualify'].map({'yes': True, 'no': False})\n",
        "print(df2)\n"
      ],
      "metadata": {
        "colab": {
          "base_uri": "https://localhost:8080/"
        },
        "id": "1lO70k4N7rGy",
        "outputId": "38fcd156-d14f-47e5-a944-25dca7de9cb1"
      },
      "execution_count": 7,
      "outputs": [
        {
          "output_type": "stream",
          "name": "stdout",
          "text": [
            "        name  score  attempts  qualify\n",
            "a  Anastasia   12.5         1     True\n",
            "b       Dima    9.0         3    False\n",
            "c  Katherine   16.5         2     True\n",
            "d      James   11.5         3    False\n",
            "e      Emily    9.0         2    False\n",
            "f    Michael   20.0         3     True\n",
            "g    Matthew   14.5         1     True\n",
            "h      Laura    NaN         1    False\n",
            "i      Kevin    8.0         2    False\n",
            "j      Jonas   19.0         1     True\n"
          ]
        }
      ]
    },
    {
      "cell_type": "code",
      "source": [
        "df2['name'] = df2['name'].replace('James', 'Suresh')\n",
        "print(df2)\n"
      ],
      "metadata": {
        "colab": {
          "base_uri": "https://localhost:8080/"
        },
        "id": "PhggUCIn7rEq",
        "outputId": "97c99afe-6a7c-43e1-b9ad-499c16762c97"
      },
      "execution_count": 8,
      "outputs": [
        {
          "output_type": "stream",
          "name": "stdout",
          "text": [
            "        name  score  attempts  qualify\n",
            "a  Anastasia   12.5         1     True\n",
            "b       Dima    9.0         3    False\n",
            "c  Katherine   16.5         2     True\n",
            "d     Suresh   11.5         3    False\n",
            "e      Emily    9.0         2    False\n",
            "f    Michael   20.0         3     True\n",
            "g    Matthew   14.5         1     True\n",
            "h      Laura    NaN         1    False\n",
            "i      Kevin    8.0         2    False\n",
            "j      Jonas   19.0         1     True\n"
          ]
        }
      ]
    },
    {
      "cell_type": "code",
      "source": [
        "df2 = df2.drop('attempts', axis=1)\n",
        "print(df2)\n"
      ],
      "metadata": {
        "colab": {
          "base_uri": "https://localhost:8080/"
        },
        "id": "uU5xpoQE7rCi",
        "outputId": "3acf6123-aedc-47a3-a62d-739a0a362887"
      },
      "execution_count": 9,
      "outputs": [
        {
          "output_type": "stream",
          "name": "stdout",
          "text": [
            "        name  score  qualify\n",
            "a  Anastasia   12.5     True\n",
            "b       Dima    9.0    False\n",
            "c  Katherine   16.5     True\n",
            "d     Suresh   11.5    False\n",
            "e      Emily    9.0    False\n",
            "f    Michael   20.0     True\n",
            "g    Matthew   14.5     True\n",
            "h      Laura    NaN    False\n",
            "i      Kevin    8.0    False\n",
            "j      Jonas   19.0     True\n"
          ]
        }
      ]
    },
    {
      "cell_type": "code",
      "source": [
        "df2.to_csv(\"output_dataframe.tsv\", sep='\\t')\n",
        "print(\"DataFrame saved to 'output_dataframe.tsv'\")\n"
      ],
      "metadata": {
        "colab": {
          "base_uri": "https://localhost:8080/"
        },
        "id": "yFVQ4hUi7rAJ",
        "outputId": "4ef7a1e1-a6a1-4acb-9975-5501c30e063b"
      },
      "execution_count": 10,
      "outputs": [
        {
          "output_type": "stream",
          "name": "stdout",
          "text": [
            "DataFrame saved to 'output_dataframe.tsv'\n"
          ]
        }
      ]
    },
    {
      "cell_type": "code",
      "source": [
        "df2.to_csv(\"output_dataframe.tsv\", sep='\\t')\n",
        "print(\"DataFrame saved to 'output_dataframe.tsv'\")\n"
      ],
      "metadata": {
        "colab": {
          "base_uri": "https://localhost:8080/"
        },
        "id": "ijkKG-zF7q9y",
        "outputId": "c67912b2-de41-477c-c5a6-01804cc833cb"
      },
      "execution_count": 11,
      "outputs": [
        {
          "output_type": "stream",
          "name": "stdout",
          "text": [
            "DataFrame saved to 'output_dataframe.tsv'\n"
          ]
        }
      ]
    }
  ]
}