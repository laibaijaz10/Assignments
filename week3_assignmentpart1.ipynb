{
  "nbformat": 4,
  "nbformat_minor": 0,
  "metadata": {
    "colab": {
      "provenance": []
    },
    "kernelspec": {
      "name": "python3",
      "display_name": "Python 3"
    },
    "language_info": {
      "name": "python"
    }
  },
  "cells": [
    {
      "source": [
        "import pandas as pd\n",
        "df = pd.read_csv('/content/Real_Estate_Sales_2001-2022_GL-Short.csv', index_col=\"Serial Number\") # Added the filepath to the read_csv function\n",
        "print(df)"
      ],
      "cell_type": "code",
      "metadata": {
        "colab": {
          "base_uri": "https://localhost:8080/"
        },
        "id": "3vYOuSWJEW3y",
        "outputId": "dc6eb674-883e-4f78-fe47-b90f5d3661e6"
      },
      "execution_count": 4,
      "outputs": [
        {
          "output_type": "stream",
          "name": "stdout",
          "text": [
            "               List Year Date Recorded        Town                Address  \\\n",
            "Serial Number                                                               \n",
            "2020177             2020    04/14/2021     Ansonia          323 BEAVER ST   \n",
            "2020225             2020    05/26/2021     Ansonia         152 JACKSON ST   \n",
            "2020348             2020    09/13/2021     Ansonia        230 WAKELEE AVE   \n",
            "2020090             2020    12/14/2020     Ansonia            57 PLATT ST   \n",
            "200500              2020    09/07/2021        Avon           245 NEW ROAD   \n",
            "...                  ...           ...         ...                    ...   \n",
            "201166              2020    08/26/2021     Meriden  6006 MEETINGHOUSE VLG   \n",
            "200177              2020    06/09/2021  Middlebury       289 BURR HALL RD   \n",
            "200531              2020    04/05/2021  Middletown         87 WESTWOOD LA   \n",
            "200888              2020    07/29/2021  Middletown            PHEDON PKWY   \n",
            "200092              2020    11/02/2020  Middletown    1692 BARTHOLOMEW RD   \n",
            "\n",
            "               Assessed Value  Sale Amount  Sales Ratio Property Type  \\\n",
            "Serial Number                                                           \n",
            "2020177              133000.0     248400.0     0.535400   Residential   \n",
            "2020225              110500.0     239900.0     0.460600   Residential   \n",
            "2020348              150500.0     325000.0     0.463000    Commercial   \n",
            "2020090              127400.0     202500.0     0.629100   Residential   \n",
            "200500               217640.0     400000.0     0.544100   Residential   \n",
            "...                       ...          ...          ...           ...   \n",
            "201166                59430.0     135000.0     0.440200   Residential   \n",
            "200177              1144200.0    1676250.0     0.682595   Residential   \n",
            "200531               285040.0     400000.0     0.712600   Residential   \n",
            "200888                49220.0     100000.0     0.492200   Vacant Land   \n",
            "200092               170650.0     325000.0     0.525000   Residential   \n",
            "\n",
            "              Residential Type Non Use Code Assessor Remarks  OPM remarks  \\\n",
            "Serial Number                                                               \n",
            "2020177          Single Family          NaN              NaN          NaN   \n",
            "2020225           Three Family          NaN              NaN          NaN   \n",
            "2020348                    NaN          NaN              NaN          NaN   \n",
            "2020090             Two Family          NaN              NaN          NaN   \n",
            "200500           Single Family          NaN              NaN          NaN   \n",
            "...                        ...          ...              ...          ...   \n",
            "201166                   Condo          NaN              NaN          NaN   \n",
            "200177           Single Family          NaN              NaN          NaN   \n",
            "200531           Single Family          NaN              NaN          NaN   \n",
            "200888                     NaN          NaN              NaN          NaN   \n",
            "200092           Single Family          NaN              NaN          NaN   \n",
            "\n",
            "                                 Location  \n",
            "Serial Number                              \n",
            "2020177        POINT (-73.06822 41.35014)  \n",
            "2020225                               NaN  \n",
            "2020348                               NaN  \n",
            "2020090                               NaN  \n",
            "200500                                NaN  \n",
            "...                                   ...  \n",
            "201166                                NaN  \n",
            "200177                                NaN  \n",
            "200531                                NaN  \n",
            "200888                                NaN  \n",
            "200092                                NaN  \n",
            "\n",
            "[142 rows x 13 columns]\n"
          ]
        }
      ]
    },
    {
      "cell_type": "code",
      "source": [
        "print(df.info())\n",
        "print(df.dtypes)\n",
        "print(df.describe())\n",
        "print(df.shape)\n"
      ],
      "metadata": {
        "colab": {
          "base_uri": "https://localhost:8080/"
        },
        "id": "ka7RF3_5EdGf",
        "outputId": "757151de-34bf-4d9e-ad57-adf31d134ca3"
      },
      "execution_count": 5,
      "outputs": [
        {
          "output_type": "stream",
          "name": "stdout",
          "text": [
            "<class 'pandas.core.frame.DataFrame'>\n",
            "Index: 142 entries, 2020177 to 200092\n",
            "Data columns (total 13 columns):\n",
            " #   Column            Non-Null Count  Dtype  \n",
            "---  ------            --------------  -----  \n",
            " 0   List Year         142 non-null    int64  \n",
            " 1   Date Recorded     142 non-null    object \n",
            " 2   Town              142 non-null    object \n",
            " 3   Address           142 non-null    object \n",
            " 4   Assessed Value    142 non-null    float64\n",
            " 5   Sale Amount       142 non-null    float64\n",
            " 6   Sales Ratio       142 non-null    float64\n",
            " 7   Property Type     142 non-null    object \n",
            " 8   Residential Type  115 non-null    object \n",
            " 9   Non Use Code      8 non-null      object \n",
            " 10  Assessor Remarks  14 non-null     object \n",
            " 11  OPM remarks       0 non-null      float64\n",
            " 12  Location          9 non-null      object \n",
            "dtypes: float64(4), int64(1), object(8)\n",
            "memory usage: 15.5+ KB\n",
            "None\n",
            "List Year             int64\n",
            "Date Recorded        object\n",
            "Town                 object\n",
            "Address              object\n",
            "Assessed Value      float64\n",
            "Sale Amount         float64\n",
            "Sales Ratio         float64\n",
            "Property Type        object\n",
            "Residential Type     object\n",
            "Non Use Code         object\n",
            "Assessor Remarks     object\n",
            "OPM remarks         float64\n",
            "Location             object\n",
            "dtype: object\n",
            "       List Year  Assessed Value   Sale Amount  Sales Ratio  OPM remarks\n",
            "count      142.0    1.420000e+02  1.420000e+02   142.000000          0.0\n",
            "mean      2020.0    2.327889e+05  3.853573e+05     0.589640          NaN\n",
            "std          0.0    3.529366e+05  5.086467e+05     0.160655          NaN\n",
            "min       2020.0    6.230000e+03  1.000000e+04     0.119700          NaN\n",
            "25%       2020.0    9.163250e+04  1.675000e+05     0.495175          NaN\n",
            "50%       2020.0    1.457750e+05  2.600000e+05     0.552550          NaN\n",
            "75%       2020.0    2.066500e+05  3.726250e+05     0.675575          NaN\n",
            "max       2020.0    2.623950e+06  3.900000e+06     1.283000          NaN\n",
            "(142, 13)\n"
          ]
        }
      ]
    },
    {
      "cell_type": "code",
      "source": [
        "#parameters\n",
        "print(df.to_string(index=False, na_rep=\"No Data\", max_rows=10, justify='center'))\n"
      ],
      "metadata": {
        "colab": {
          "base_uri": "https://localhost:8080/"
        },
        "id": "9hwsyUU3Er2H",
        "outputId": "47cd3121-d470-4991-b821-b58b85fe9473"
      },
      "execution_count": 6,
      "outputs": [
        {
          "output_type": "stream",
          "name": "stdout",
          "text": [
            " List Year Date Recorded    Town           Address         Assessed Value  Sale Amount  Sales Ratio Property Type Residential Type Non Use Code Assessor Remarks  OPM remarks          Location         \n",
            "   2020      04/14/2021     Ansonia         323 BEAVER ST     133000.0      248400.0     0.535400    Residential   Single Family     No Data        No Data        No Data    POINT (-73.06822 41.35014)\n",
            "   2020      05/26/2021     Ansonia        152 JACKSON ST     110500.0      239900.0     0.460600    Residential    Three Family     No Data        No Data        No Data                       No Data\n",
            "   2020      09/13/2021     Ansonia       230 WAKELEE AVE     150500.0      325000.0     0.463000     Commercial         No Data     No Data        No Data        No Data                       No Data\n",
            "   2020      12/14/2020     Ansonia           57 PLATT ST     127400.0      202500.0     0.629100    Residential      Two Family     No Data        No Data        No Data                       No Data\n",
            "   2020      09/07/2021        Avon          245 NEW ROAD     217640.0      400000.0     0.544100    Residential   Single Family     No Data        No Data        No Data                       No Data\n",
            "       ...           ...        ...                   ...             ...          ...          ...           ...              ...          ...              ...          ...                        ...\n",
            "   2020      08/26/2021     Meriden 6006 MEETINGHOUSE VLG      59430.0      135000.0     0.440200    Residential           Condo     No Data        No Data        No Data                       No Data\n",
            "   2020      06/09/2021  Middlebury      289 BURR HALL RD    1144200.0     1676250.0     0.682595    Residential   Single Family     No Data        No Data        No Data                       No Data\n",
            "   2020      04/05/2021  Middletown        87 WESTWOOD LA     285040.0      400000.0     0.712600    Residential   Single Family     No Data        No Data        No Data                       No Data\n",
            "   2020      07/29/2021  Middletown           PHEDON PKWY      49220.0      100000.0     0.492200    Vacant Land         No Data     No Data        No Data        No Data                       No Data\n",
            "   2020      11/02/2020  Middletown   1692 BARTHOLOMEW RD     170650.0      325000.0     0.525000    Residential   Single Family     No Data        No Data        No Data                       No Data\n"
          ]
        }
      ]
    },
    {
      "cell_type": "code",
      "source": [
        "print(df.head(7))\n"
      ],
      "metadata": {
        "colab": {
          "base_uri": "https://localhost:8080/"
        },
        "id": "sQ19es2fEvtx",
        "outputId": "5b85706c-3342-4ed2-cf3c-96a971036397"
      },
      "execution_count": 7,
      "outputs": [
        {
          "output_type": "stream",
          "name": "stdout",
          "text": [
            "               List Year Date Recorded         Town           Address  \\\n",
            "Serial Number                                                           \n",
            "2020177             2020    04/14/2021      Ansonia     323 BEAVER ST   \n",
            "2020225             2020    05/26/2021      Ansonia    152 JACKSON ST   \n",
            "2020348             2020    09/13/2021      Ansonia   230 WAKELEE AVE   \n",
            "2020090             2020    12/14/2020      Ansonia       57 PLATT ST   \n",
            "200500              2020    09/07/2021         Avon      245 NEW ROAD   \n",
            "200121              2020    12/15/2020         Avon      63 NORTHGATE   \n",
            "20058               2020    06/01/2021  Barkhamsted  46 RATLUM MTN RD   \n",
            "\n",
            "               Assessed Value  Sale Amount  Sales Ratio Property Type  \\\n",
            "Serial Number                                                           \n",
            "2020177              133000.0     248400.0     0.535400   Residential   \n",
            "2020225              110500.0     239900.0     0.460600   Residential   \n",
            "2020348              150500.0     325000.0     0.463000    Commercial   \n",
            "2020090              127400.0     202500.0     0.629100   Residential   \n",
            "200500               217640.0     400000.0     0.544100   Residential   \n",
            "200121               528490.0     775000.0     0.681900   Residential   \n",
            "20058                203530.0     415000.0     0.490434   Residential   \n",
            "\n",
            "              Residential Type Non Use Code  \\\n",
            "Serial Number                                 \n",
            "2020177          Single Family          NaN   \n",
            "2020225           Three Family          NaN   \n",
            "2020348                    NaN          NaN   \n",
            "2020090             Two Family          NaN   \n",
            "200500           Single Family          NaN   \n",
            "200121           Single Family          NaN   \n",
            "20058            Single Family          NaN   \n",
            "\n",
            "                                Assessor Remarks  OPM remarks  \\\n",
            "Serial Number                                                   \n",
            "2020177                                      NaN          NaN   \n",
            "2020225                                      NaN          NaN   \n",
            "2020348                                      NaN          NaN   \n",
            "2020090                                      NaN          NaN   \n",
            "200500                                       NaN          NaN   \n",
            "200121                                       NaN          NaN   \n",
            "20058          2003 COLONIAL, 2140 SFLA, 2.99 AC          NaN   \n",
            "\n",
            "                                 Location  \n",
            "Serial Number                              \n",
            "2020177        POINT (-73.06822 41.35014)  \n",
            "2020225                               NaN  \n",
            "2020348                               NaN  \n",
            "2020090                               NaN  \n",
            "200500                                NaN  \n",
            "200121         POINT (-72.89675 41.79445)  \n",
            "20058                                 NaN  \n"
          ]
        }
      ]
    },
    {
      "cell_type": "code",
      "source": [
        "print(df.tail(9))\n"
      ],
      "metadata": {
        "colab": {
          "base_uri": "https://localhost:8080/"
        },
        "id": "wZ8CS36HEvrz",
        "outputId": "febc83b2-5c6b-4769-8a32-7a785a6278d9"
      },
      "execution_count": 8,
      "outputs": [
        {
          "output_type": "stream",
          "name": "stdout",
          "text": [
            "               List Year Date Recorded        Town                Address  \\\n",
            "Serial Number                                                               \n",
            "200784              2020    05/17/2021     Meriden         69 LINSLEY AVE   \n",
            "200961              2020    07/01/2021     Meriden       52 ROYAL OAK CIR   \n",
            "201015              2020    07/16/2021     Meriden     209 BLACKSTONE VLG   \n",
            "201123              2020    08/16/2021     Meriden           30 LA MIRAGE   \n",
            "201166              2020    08/26/2021     Meriden  6006 MEETINGHOUSE VLG   \n",
            "200177              2020    06/09/2021  Middlebury       289 BURR HALL RD   \n",
            "200531              2020    04/05/2021  Middletown         87 WESTWOOD LA   \n",
            "200888              2020    07/29/2021  Middletown            PHEDON PKWY   \n",
            "200092              2020    11/02/2020  Middletown    1692 BARTHOLOMEW RD   \n",
            "\n",
            "               Assessed Value  Sale Amount  Sales Ratio Property Type  \\\n",
            "Serial Number                                                           \n",
            "200784               165830.0     325000.0     0.510200    Apartments   \n",
            "200961               130340.0     305000.0     0.427300   Residential   \n",
            "201015                37240.0     114900.0     0.324100   Residential   \n",
            "201123                74060.0     145000.0     0.510700   Residential   \n",
            "201166                59430.0     135000.0     0.440200   Residential   \n",
            "200177              1144200.0    1676250.0     0.682595   Residential   \n",
            "200531               285040.0     400000.0     0.712600   Residential   \n",
            "200888                49220.0     100000.0     0.492200   Vacant Land   \n",
            "200092               170650.0     325000.0     0.525000   Residential   \n",
            "\n",
            "              Residential Type Non Use Code Assessor Remarks  OPM remarks  \\\n",
            "Serial Number                                                               \n",
            "200784                     NaN          NaN              NaN          NaN   \n",
            "200961           Single Family          NaN              NaN          NaN   \n",
            "201015                   Condo          NaN              NaN          NaN   \n",
            "201123                   Condo          NaN              NaN          NaN   \n",
            "201166                   Condo          NaN              NaN          NaN   \n",
            "200177           Single Family          NaN              NaN          NaN   \n",
            "200531           Single Family          NaN              NaN          NaN   \n",
            "200888                     NaN          NaN              NaN          NaN   \n",
            "200092           Single Family          NaN              NaN          NaN   \n",
            "\n",
            "              Location  \n",
            "Serial Number           \n",
            "200784             NaN  \n",
            "200961             NaN  \n",
            "201015             NaN  \n",
            "201123             NaN  \n",
            "201166             NaN  \n",
            "200177             NaN  \n",
            "200531             NaN  \n",
            "200888             NaN  \n",
            "200092             NaN  \n"
          ]
        }
      ]
    },
    {
      "cell_type": "code",
      "source": [
        "print(df[\"Town\"])\n",
        "print(df[\"Residential Type\"])\n"
      ],
      "metadata": {
        "colab": {
          "base_uri": "https://localhost:8080/"
        },
        "id": "b2ExlRfYEvpq",
        "outputId": "18b7a78f-ea55-4bbd-ce75-8ace2c8fd140"
      },
      "execution_count": 9,
      "outputs": [
        {
          "output_type": "stream",
          "name": "stdout",
          "text": [
            "Serial Number\n",
            "2020177       Ansonia\n",
            "2020225       Ansonia\n",
            "2020348       Ansonia\n",
            "2020090       Ansonia\n",
            "200500           Avon\n",
            "              ...    \n",
            "201166        Meriden\n",
            "200177     Middlebury\n",
            "200531     Middletown\n",
            "200888     Middletown\n",
            "200092     Middletown\n",
            "Name: Town, Length: 142, dtype: object\n",
            "Serial Number\n",
            "2020177    Single Family\n",
            "2020225     Three Family\n",
            "2020348              NaN\n",
            "2020090       Two Family\n",
            "200500     Single Family\n",
            "               ...      \n",
            "201166             Condo\n",
            "200177     Single Family\n",
            "200531     Single Family\n",
            "200888               NaN\n",
            "200092     Single Family\n",
            "Name: Residential Type, Length: 142, dtype: object\n"
          ]
        }
      ]
    },
    {
      "cell_type": "code",
      "source": [
        "print(df[[\"Town\", \"Date Recorded\"]])\n"
      ],
      "metadata": {
        "colab": {
          "base_uri": "https://localhost:8080/"
        },
        "id": "i6EG5DO2EvnU",
        "outputId": "c41fc88a-2408-42a7-8fe3-d5bb680a7fe7"
      },
      "execution_count": 10,
      "outputs": [
        {
          "output_type": "stream",
          "name": "stdout",
          "text": [
            "                     Town Date Recorded\n",
            "Serial Number                          \n",
            "2020177           Ansonia    04/14/2021\n",
            "2020225           Ansonia    05/26/2021\n",
            "2020348           Ansonia    09/13/2021\n",
            "2020090           Ansonia    12/14/2020\n",
            "200500               Avon    09/07/2021\n",
            "...                   ...           ...\n",
            "201166            Meriden    08/26/2021\n",
            "200177         Middlebury    06/09/2021\n",
            "200531         Middletown    04/05/2021\n",
            "200888         Middletown    07/29/2021\n",
            "200092         Middletown    11/02/2020\n",
            "\n",
            "[142 rows x 2 columns]\n"
          ]
        }
      ]
    },
    {
      "cell_type": "code",
      "source": [
        "print(df.loc[200008])\n"
      ],
      "metadata": {
        "colab": {
          "base_uri": "https://localhost:8080/"
        },
        "id": "Oq7pSlafEvk_",
        "outputId": "64608ef0-1b8f-4bea-eeca-f7bba550c164"
      },
      "execution_count": 11,
      "outputs": [
        {
          "output_type": "stream",
          "name": "stdout",
          "text": [
            "List Year                       2020\n",
            "Date Recorded             10/21/2020\n",
            "Town                       Bethlehem\n",
            "Address             34 HIGHLAND ROAD\n",
            "Assessed Value               82000.0\n",
            "Sale Amount                 106000.0\n",
            "Sales Ratio                   0.7735\n",
            "Property Type            Residential\n",
            "Residential Type       Single Family\n",
            "Non Use Code                     NaN\n",
            "Assessor Remarks                 NaN\n",
            "OPM remarks                      NaN\n",
            "Location                         NaN\n",
            "Name: 200008, dtype: object\n"
          ]
        }
      ]
    },
    {
      "cell_type": "code",
      "source": [
        "print(df.loc[[200305, 200207, 20000048]])\n"
      ],
      "metadata": {
        "colab": {
          "base_uri": "https://localhost:8080/"
        },
        "id": "ItHqYdZbEviq",
        "outputId": "053992ff-af9a-48b1-f0d5-6182e62ed1eb"
      },
      "execution_count": 12,
      "outputs": [
        {
          "output_type": "stream",
          "name": "stdout",
          "text": [
            "               List Year Date Recorded        Town  \\\n",
            "Serial Number                                        \n",
            "200305              2020    02/22/2021    Branford   \n",
            "200207              2020    11/23/2020     Bristol   \n",
            "20000048            2020    11/04/2020  Brookfield   \n",
            "\n",
            "                                      Address  Assessed Value  Sale Amount  \\\n",
            "Serial Number                                                                \n",
            "200305             49 ROSE ST TOWERS UNIT 402         97800.0     147000.0   \n",
            "200207         BROAD PLACE LOTS 225-6 AND 224          8400.0      38500.0   \n",
            "20000048                  101 OBTUSE RD SOUTH        378680.0     537000.0   \n",
            "\n",
            "               Sales Ratio Property Type Residential Type Non Use Code  \\\n",
            "Serial Number                                                            \n",
            "200305            0.665300   Residential            Condo          NaN   \n",
            "200207            0.218100   Vacant Land              NaN   25 - Other   \n",
            "20000048          0.705177   Residential    Single Family          NaN   \n",
            "\n",
            "                Assessor Remarks  OPM remarks                    Location  \n",
            "Serial Number                                                              \n",
            "200305                       NaN          NaN                         NaN  \n",
            "200207         MULTIPLE LOT SALE          NaN  POINT (-72.90406 41.66996)  \n",
            "20000048                     NaN          NaN                         NaN  \n"
          ]
        }
      ]
    },
    {
      "cell_type": "code",
      "source": [
        "print(df.loc[2020090:200121])\n"
      ],
      "metadata": {
        "colab": {
          "base_uri": "https://localhost:8080/"
        },
        "id": "ypsK6sR-Eve0",
        "outputId": "a3249784-0c41-4047-9472-04b060624e03"
      },
      "execution_count": 13,
      "outputs": [
        {
          "output_type": "stream",
          "name": "stdout",
          "text": [
            "               List Year Date Recorded     Town       Address  Assessed Value  \\\n",
            "Serial Number                                                                   \n",
            "2020090             2020    12/14/2020  Ansonia   57 PLATT ST        127400.0   \n",
            "200500              2020    09/07/2021     Avon  245 NEW ROAD        217640.0   \n",
            "200121              2020    12/15/2020     Avon  63 NORTHGATE        528490.0   \n",
            "\n",
            "               Sale Amount  Sales Ratio Property Type Residential Type  \\\n",
            "Serial Number                                                            \n",
            "2020090           202500.0       0.6291   Residential       Two Family   \n",
            "200500            400000.0       0.5441   Residential    Single Family   \n",
            "200121            775000.0       0.6819   Residential    Single Family   \n",
            "\n",
            "              Non Use Code Assessor Remarks  OPM remarks  \\\n",
            "Serial Number                                              \n",
            "2020090                NaN              NaN          NaN   \n",
            "200500                 NaN              NaN          NaN   \n",
            "200121                 NaN              NaN          NaN   \n",
            "\n",
            "                                 Location  \n",
            "Serial Number                              \n",
            "2020090                               NaN  \n",
            "200500                                NaN  \n",
            "200121         POINT (-72.89675 41.79445)  \n"
          ]
        }
      ]
    },
    {
      "cell_type": "code",
      "source": [
        "print(df.loc[df[\"Sale Amount\"] > 202500])\n"
      ],
      "metadata": {
        "colab": {
          "base_uri": "https://localhost:8080/"
        },
        "id": "Si2j56lfEvcg",
        "outputId": "bca04c04-579a-4f5d-93c5-268067304f9b"
      },
      "execution_count": 14,
      "outputs": [
        {
          "output_type": "stream",
          "name": "stdout",
          "text": [
            "               List Year Date Recorded        Town              Address  \\\n",
            "Serial Number                                                             \n",
            "2020177             2020    04/14/2021     Ansonia        323 BEAVER ST   \n",
            "2020225             2020    05/26/2021     Ansonia       152 JACKSON ST   \n",
            "2020348             2020    09/13/2021     Ansonia      230 WAKELEE AVE   \n",
            "200500              2020    09/07/2021        Avon         245 NEW ROAD   \n",
            "200121              2020    12/15/2020        Avon         63 NORTHGATE   \n",
            "...                  ...           ...         ...                  ...   \n",
            "200784              2020    05/17/2021     Meriden       69 LINSLEY AVE   \n",
            "200961              2020    07/01/2021     Meriden     52 ROYAL OAK CIR   \n",
            "200177              2020    06/09/2021  Middlebury     289 BURR HALL RD   \n",
            "200531              2020    04/05/2021  Middletown       87 WESTWOOD LA   \n",
            "200092              2020    11/02/2020  Middletown  1692 BARTHOLOMEW RD   \n",
            "\n",
            "               Assessed Value  Sale Amount  Sales Ratio Property Type  \\\n",
            "Serial Number                                                           \n",
            "2020177              133000.0     248400.0     0.535400   Residential   \n",
            "2020225              110500.0     239900.0     0.460600   Residential   \n",
            "2020348              150500.0     325000.0     0.463000    Commercial   \n",
            "200500               217640.0     400000.0     0.544100   Residential   \n",
            "200121               528490.0     775000.0     0.681900   Residential   \n",
            "...                       ...          ...          ...           ...   \n",
            "200784               165830.0     325000.0     0.510200    Apartments   \n",
            "200961               130340.0     305000.0     0.427300   Residential   \n",
            "200177              1144200.0    1676250.0     0.682595   Residential   \n",
            "200531               285040.0     400000.0     0.712600   Residential   \n",
            "200092               170650.0     325000.0     0.525000   Residential   \n",
            "\n",
            "              Residential Type Non Use Code Assessor Remarks  OPM remarks  \\\n",
            "Serial Number                                                               \n",
            "2020177          Single Family          NaN              NaN          NaN   \n",
            "2020225           Three Family          NaN              NaN          NaN   \n",
            "2020348                    NaN          NaN              NaN          NaN   \n",
            "200500           Single Family          NaN              NaN          NaN   \n",
            "200121           Single Family          NaN              NaN          NaN   \n",
            "...                        ...          ...              ...          ...   \n",
            "200784                     NaN          NaN              NaN          NaN   \n",
            "200961           Single Family          NaN              NaN          NaN   \n",
            "200177           Single Family          NaN              NaN          NaN   \n",
            "200531           Single Family          NaN              NaN          NaN   \n",
            "200092           Single Family          NaN              NaN          NaN   \n",
            "\n",
            "                                 Location  \n",
            "Serial Number                              \n",
            "2020177        POINT (-73.06822 41.35014)  \n",
            "2020225                               NaN  \n",
            "2020348                               NaN  \n",
            "200500                                NaN  \n",
            "200121         POINT (-72.89675 41.79445)  \n",
            "...                                   ...  \n",
            "200784                                NaN  \n",
            "200961                                NaN  \n",
            "200177                                NaN  \n",
            "200531                                NaN  \n",
            "200092                                NaN  \n",
            "\n",
            "[94 rows x 13 columns]\n"
          ]
        }
      ]
    },
    {
      "cell_type": "code",
      "source": [
        "print(df.loc[df[\"Town\"] == \"Ansonia\"])\n"
      ],
      "metadata": {
        "colab": {
          "base_uri": "https://localhost:8080/"
        },
        "id": "50J2PHU0EvaM",
        "outputId": "f945147a-606f-4c92-fab0-db386e996ab0"
      },
      "execution_count": 15,
      "outputs": [
        {
          "output_type": "stream",
          "name": "stdout",
          "text": [
            "               List Year Date Recorded     Town          Address  \\\n",
            "Serial Number                                                      \n",
            "2020177             2020    04/14/2021  Ansonia    323 BEAVER ST   \n",
            "2020225             2020    05/26/2021  Ansonia   152 JACKSON ST   \n",
            "2020348             2020    09/13/2021  Ansonia  230 WAKELEE AVE   \n",
            "2020090             2020    12/14/2020  Ansonia      57 PLATT ST   \n",
            "\n",
            "               Assessed Value  Sale Amount  Sales Ratio Property Type  \\\n",
            "Serial Number                                                           \n",
            "2020177              133000.0     248400.0       0.5354   Residential   \n",
            "2020225              110500.0     239900.0       0.4606   Residential   \n",
            "2020348              150500.0     325000.0       0.4630    Commercial   \n",
            "2020090              127400.0     202500.0       0.6291   Residential   \n",
            "\n",
            "              Residential Type Non Use Code Assessor Remarks  OPM remarks  \\\n",
            "Serial Number                                                               \n",
            "2020177          Single Family          NaN              NaN          NaN   \n",
            "2020225           Three Family          NaN              NaN          NaN   \n",
            "2020348                    NaN          NaN              NaN          NaN   \n",
            "2020090             Two Family          NaN              NaN          NaN   \n",
            "\n",
            "                                 Location  \n",
            "Serial Number                              \n",
            "2020177        POINT (-73.06822 41.35014)  \n",
            "2020225                               NaN  \n",
            "2020348                               NaN  \n",
            "2020090                               NaN  \n"
          ]
        }
      ]
    },
    {
      "cell_type": "code",
      "source": [
        "print(df.loc[(df[\"Residential Type\"] == \"Condo\") & (df[\"Assessed Value\"] < 180500)])\n"
      ],
      "metadata": {
        "colab": {
          "base_uri": "https://localhost:8080/"
        },
        "id": "IMp04gOVFGcV",
        "outputId": "63455cae-ef3b-4a64-cebf-b07a6fa21046"
      },
      "execution_count": 17,
      "outputs": [
        {
          "output_type": "stream",
          "name": "stdout",
          "text": [
            "               List Year Date Recorded          Town  \\\n",
            "Serial Number                                          \n",
            "200016              2020    11/13/2020  Beacon Falls   \n",
            "200305              2020    02/22/2021      Branford   \n",
            "200186              2020    12/11/2020      Branford   \n",
            "201354              2020    09/23/2021       Bristol   \n",
            "200110              2020    01/14/2021      Cromwell   \n",
            "200485              2020    01/13/2021       Danbury   \n",
            "200099              2020    10/20/2020       Danbury   \n",
            "20176               2020    02/03/2021        Darien   \n",
            "200372              2020    04/05/2021    East Haven   \n",
            "200548              2020    05/27/2021       Enfield   \n",
            "200932              2020    09/24/2021       Enfield   \n",
            "20000214            2020    07/13/2021        Granby   \n",
            "201238              2020    06/21/2021      Griswold   \n",
            "200179              2020    12/11/2020        Groton   \n",
            "200175              2020    03/11/2021     Killingly   \n",
            "201015              2020    07/16/2021       Meriden   \n",
            "201123              2020    08/16/2021       Meriden   \n",
            "201166              2020    08/26/2021       Meriden   \n",
            "\n",
            "                                  Address  Assessed Value  Sale Amount  \\\n",
            "Serial Number                                                            \n",
            "200016                       9 AVON COURT         65590.0     100000.0   \n",
            "200305         49 ROSE ST TOWERS UNIT 402         97800.0     147000.0   \n",
            "200186                         3 GROVE CT         43400.0      86501.0   \n",
            "201354                   103 BUTTERNUT LN         61950.0     129900.0   \n",
            "200110                       25 MIDWAY DR        128200.0     208000.0   \n",
            "200485                27 CROWS NEST LA 6A        110300.0     195000.0   \n",
            "200099                   15 SCUPPO RD 803        161400.0     270000.0   \n",
            "20176                      14 GIDEON LANE        114170.0     184499.0   \n",
            "200372                 75 REDWOOD DR #704         89580.0     165000.0   \n",
            "200548                        51 DARTMOOR        180480.0     330000.0   \n",
            "200932                       HAMLET B03UF         88610.0     189900.0   \n",
            "20000214                   15 WINDMILL DR        112350.0     199000.0   \n",
            "201238           33 RUSSEL STREET UNIT 10         47180.0     123800.0   \n",
            "200179                31 THAMES HEIGHT LN        109340.0     160000.0   \n",
            "200175                        62 ATHOL ST         55860.0     102000.0   \n",
            "201015                 209 BLACKSTONE VLG         37240.0     114900.0   \n",
            "201123                       30 LA MIRAGE         74060.0     145000.0   \n",
            "201166              6006 MEETINGHOUSE VLG         59430.0     135000.0   \n",
            "\n",
            "               Sales Ratio Property Type Residential Type Non Use Code  \\\n",
            "Serial Number                                                            \n",
            "200016            0.655900   Residential            Condo          NaN   \n",
            "200305            0.665300   Residential            Condo          NaN   \n",
            "200186            0.501700   Residential            Condo          NaN   \n",
            "201354            0.476900   Residential            Condo          NaN   \n",
            "200110            0.616300   Residential            Condo   25 - Other   \n",
            "200485            0.565600   Residential            Condo          NaN   \n",
            "200099            0.597700   Residential            Condo          NaN   \n",
            "20176             0.618800   Residential            Condo          NaN   \n",
            "200372            0.542900   Residential            Condo          NaN   \n",
            "200548            0.546900   Residential            Condo          NaN   \n",
            "200932            0.466600   Residential            Condo          NaN   \n",
            "20000214          0.564500   Residential            Condo          NaN   \n",
            "201238            0.381099   Residential            Condo          NaN   \n",
            "200179            0.683300   Residential            Condo          NaN   \n",
            "200175            0.547600   Residential            Condo          NaN   \n",
            "201015            0.324100   Residential            Condo          NaN   \n",
            "201123            0.510700   Residential            Condo          NaN   \n",
            "201166            0.440200   Residential            Condo          NaN   \n",
            "\n",
            "              Assessor Remarks  OPM remarks                    Location  \n",
            "Serial Number                                                            \n",
            "200016                     NaN          NaN                         NaN  \n",
            "200305                     NaN          NaN                         NaN  \n",
            "200186                     NaN          NaN                         NaN  \n",
            "201354                     NaN          NaN                         NaN  \n",
            "200110            BAA OVERRIDE          NaN                         NaN  \n",
            "200485               L15008-61          NaN                         NaN  \n",
            "200099              F14068-803          NaN                         NaN  \n",
            "20176                      NaN          NaN                         NaN  \n",
            "200372                     NaN          NaN  POINT (-72.84836 41.32761)  \n",
            "200548                     NaN          NaN                         NaN  \n",
            "200932                     NaN          NaN                         NaN  \n",
            "20000214                   NaN          NaN                         NaN  \n",
            "201238                     NaN          NaN                         NaN  \n",
            "200179                     NaN          NaN                         NaN  \n",
            "200175                     NaN          NaN                         NaN  \n",
            "201015                     NaN          NaN                         NaN  \n",
            "201123                     NaN          NaN                         NaN  \n",
            "201166                     NaN          NaN                         NaN  \n"
          ]
        }
      ]
    },
    {
      "cell_type": "code",
      "source": [
        "print(df.loc[201354, [\"Address\", \"Assessed Value\", \"Sale Amount\", \"Sales Ratio\", \"Property Type\"]])\n"
      ],
      "metadata": {
        "colab": {
          "base_uri": "https://localhost:8080/"
        },
        "id": "UmQFowknFGZy",
        "outputId": "26fa13f2-0c29-4d80-f54c-dd824af4ca9c"
      },
      "execution_count": 16,
      "outputs": [
        {
          "output_type": "stream",
          "name": "stdout",
          "text": [
            "Address           103 BUTTERNUT LN\n",
            "Assessed Value             61950.0\n",
            "Sale Amount               129900.0\n",
            "Sales Ratio                 0.4769\n",
            "Property Type          Residential\n",
            "Name: 201354, dtype: object\n"
          ]
        }
      ]
    },
    {
      "cell_type": "code",
      "source": [
        "print(df.loc[:, \"Date Recorded\":\"Sale Amount\"])\n"
      ],
      "metadata": {
        "colab": {
          "base_uri": "https://localhost:8080/"
        },
        "id": "Iz5ThYQ6FGVy",
        "outputId": "b6be74ad-3b4a-4e5e-ab48-970d36c2b23e"
      },
      "execution_count": 18,
      "outputs": [
        {
          "output_type": "stream",
          "name": "stdout",
          "text": [
            "              Date Recorded        Town                Address  \\\n",
            "Serial Number                                                    \n",
            "2020177          04/14/2021     Ansonia          323 BEAVER ST   \n",
            "2020225          05/26/2021     Ansonia         152 JACKSON ST   \n",
            "2020348          09/13/2021     Ansonia        230 WAKELEE AVE   \n",
            "2020090          12/14/2020     Ansonia            57 PLATT ST   \n",
            "200500           09/07/2021        Avon           245 NEW ROAD   \n",
            "...                     ...         ...                    ...   \n",
            "201166           08/26/2021     Meriden  6006 MEETINGHOUSE VLG   \n",
            "200177           06/09/2021  Middlebury       289 BURR HALL RD   \n",
            "200531           04/05/2021  Middletown         87 WESTWOOD LA   \n",
            "200888           07/29/2021  Middletown            PHEDON PKWY   \n",
            "200092           11/02/2020  Middletown    1692 BARTHOLOMEW RD   \n",
            "\n",
            "               Assessed Value  Sale Amount  \n",
            "Serial Number                               \n",
            "2020177              133000.0     248400.0  \n",
            "2020225              110500.0     239900.0  \n",
            "2020348              150500.0     325000.0  \n",
            "2020090              127400.0     202500.0  \n",
            "200500               217640.0     400000.0  \n",
            "...                       ...          ...  \n",
            "201166                59430.0     135000.0  \n",
            "200177              1144200.0    1676250.0  \n",
            "200531               285040.0     400000.0  \n",
            "200888                49220.0     100000.0  \n",
            "200092               170650.0     325000.0  \n",
            "\n",
            "[142 rows x 5 columns]\n"
          ]
        }
      ]
    },
    {
      "cell_type": "code",
      "source": [
        "print(df.loc[df[\"Residential Type\"] == \"Condo\", \"Date Recorded\":\"Assessed Value\"])\n"
      ],
      "metadata": {
        "colab": {
          "base_uri": "https://localhost:8080/"
        },
        "id": "p5u1I6U3FGR_",
        "outputId": "9bcad7df-1d73-4496-ceb7-7edaa845ab95"
      },
      "execution_count": 19,
      "outputs": [
        {
          "output_type": "stream",
          "name": "stdout",
          "text": [
            "              Date Recorded          Town                     Address  \\\n",
            "Serial Number                                                           \n",
            "200016           11/13/2020  Beacon Falls                9 AVON COURT   \n",
            "20364            06/17/2021        Bethel    1308 LEXINGTON BOULEVARD   \n",
            "200305           02/22/2021      Branford  49 ROSE ST TOWERS UNIT 402   \n",
            "200186           12/11/2020      Branford                  3 GROVE CT   \n",
            "201354           09/23/2021       Bristol            103 BUTTERNUT LN   \n",
            "200110           01/14/2021      Cromwell                25 MIDWAY DR   \n",
            "200081           12/14/2020      Cromwell            11 MYSTIQUE LANE   \n",
            "200485           01/13/2021       Danbury         27 CROWS NEST LA 6A   \n",
            "201402           08/24/2021       Danbury               305 LARSON DR   \n",
            "200099           10/20/2020       Danbury            15 SCUPPO RD 803   \n",
            "20176            02/03/2021        Darien              14 GIDEON LANE   \n",
            "200108           07/14/2021   East Granby       6 SCHOOLHOUSE LANDING   \n",
            "200372           04/05/2021    East Haven          75 REDWOOD DR #704   \n",
            "200548           05/27/2021       Enfield                 51 DARTMOOR   \n",
            "200932           09/24/2021       Enfield                HAMLET B03UF   \n",
            "200086           01/12/2021         Essex                 34 PRATT #A   \n",
            "20000214         07/13/2021        Granby              15 WINDMILL DR   \n",
            "201238           06/21/2021      Griswold    33 RUSSEL STREET UNIT 10   \n",
            "200179           12/11/2020        Groton         31 THAMES HEIGHT LN   \n",
            "200175           03/11/2021     Killingly                 62 ATHOL ST   \n",
            "201015           07/16/2021       Meriden          209 BLACKSTONE VLG   \n",
            "201123           08/16/2021       Meriden                30 LA MIRAGE   \n",
            "201166           08/26/2021       Meriden       6006 MEETINGHOUSE VLG   \n",
            "\n",
            "               Assessed Value  \n",
            "Serial Number                  \n",
            "200016                65590.0  \n",
            "20364                195300.0  \n",
            "200305                97800.0  \n",
            "200186                43400.0  \n",
            "201354                61950.0  \n",
            "200110               128200.0  \n",
            "200081               210350.0  \n",
            "200485               110300.0  \n",
            "201402               188600.0  \n",
            "200099               161400.0  \n",
            "20176                114170.0  \n",
            "200108               211100.0  \n",
            "200372                89580.0  \n",
            "200548               180480.0  \n",
            "200932                88610.0  \n",
            "200086               623900.0  \n",
            "20000214             112350.0  \n",
            "201238                47180.0  \n",
            "200179               109340.0  \n",
            "200175                55860.0  \n",
            "201015                37240.0  \n",
            "201123                74060.0  \n",
            "201166                59430.0  \n"
          ]
        }
      ]
    },
    {
      "cell_type": "code",
      "source": [
        "print(df.iloc[4])\n"
      ],
      "metadata": {
        "colab": {
          "base_uri": "https://localhost:8080/"
        },
        "id": "3wLLRtO9FGPY",
        "outputId": "0fdd38db-cc0b-4589-80c2-567cbb2bdb31"
      },
      "execution_count": 20,
      "outputs": [
        {
          "output_type": "stream",
          "name": "stdout",
          "text": [
            "List Year                    2020\n",
            "Date Recorded          09/07/2021\n",
            "Town                         Avon\n",
            "Address              245 NEW ROAD\n",
            "Assessed Value           217640.0\n",
            "Sale Amount              400000.0\n",
            "Sales Ratio                0.5441\n",
            "Property Type         Residential\n",
            "Residential Type    Single Family\n",
            "Non Use Code                  NaN\n",
            "Assessor Remarks              NaN\n",
            "OPM remarks                   NaN\n",
            "Location                      NaN\n",
            "Name: 200500, dtype: object\n"
          ]
        }
      ]
    },
    {
      "cell_type": "code",
      "source": [
        "print(df.iloc[[6, 8, 14]])\n"
      ],
      "metadata": {
        "colab": {
          "base_uri": "https://localhost:8080/"
        },
        "id": "g-6a6cJVFGMg",
        "outputId": "66f54838-6281-43a0-a4b9-d89f76ecddc8"
      },
      "execution_count": 21,
      "outputs": [
        {
          "output_type": "stream",
          "name": "stdout",
          "text": [
            "               List Year Date Recorded          Town           Address  \\\n",
            "Serial Number                                                            \n",
            "20058               2020    06/01/2021   Barkhamsted  46 RATLUM MTN RD   \n",
            "200016              2020    11/13/2020  Beacon Falls      9 AVON COURT   \n",
            "200008              2020    10/21/2020     Bethlehem  34 HIGHLAND ROAD   \n",
            "\n",
            "               Assessed Value  Sale Amount  Sales Ratio Property Type  \\\n",
            "Serial Number                                                           \n",
            "20058                203530.0     415000.0     0.490434   Residential   \n",
            "200016                65590.0     100000.0     0.655900   Residential   \n",
            "200008                82000.0     106000.0     0.773500   Residential   \n",
            "\n",
            "              Residential Type Non Use Code  \\\n",
            "Serial Number                                 \n",
            "20058            Single Family          NaN   \n",
            "200016                   Condo          NaN   \n",
            "200008           Single Family          NaN   \n",
            "\n",
            "                                Assessor Remarks  OPM remarks Location  \n",
            "Serial Number                                                           \n",
            "20058          2003 COLONIAL, 2140 SFLA, 2.99 AC          NaN      NaN  \n",
            "200016                                       NaN          NaN      NaN  \n",
            "200008                                       NaN          NaN      NaN  \n"
          ]
        }
      ]
    },
    {
      "cell_type": "code",
      "source": [
        "print(df.iloc[4:13])\n"
      ],
      "metadata": {
        "colab": {
          "base_uri": "https://localhost:8080/"
        },
        "id": "9u1bm7q7FGJv",
        "outputId": "4ee25725-8f39-4029-bb80-ec1a989f7401"
      },
      "execution_count": 22,
      "outputs": [
        {
          "output_type": "stream",
          "name": "stdout",
          "text": [
            "               List Year Date Recorded          Town  \\\n",
            "Serial Number                                          \n",
            "200500              2020    09/07/2021          Avon   \n",
            "200121              2020    12/15/2020          Avon   \n",
            "20058               2020    06/01/2021   Barkhamsted   \n",
            "200046              2020    01/25/2021  Beacon Falls   \n",
            "200016              2020    11/13/2020  Beacon Falls   \n",
            "2020360             2020    08/10/2021        Berlin   \n",
            "20281               2020    04/21/2021        Bethel   \n",
            "20364               2020    06/17/2021        Bethel   \n",
            "20423               2020    07/21/2021        Bethel   \n",
            "\n",
            "                                Address  Assessed Value  Sale Amount  \\\n",
            "Serial Number                                                          \n",
            "200500                     245 NEW ROAD        217640.0     400000.0   \n",
            "200121                     63 NORTHGATE        528490.0     775000.0   \n",
            "20058                  46 RATLUM MTN RD        203530.0     415000.0   \n",
            "200046                    34 LASKY ROAD        158030.0     243000.0   \n",
            "200016                     9 AVON COURT         65590.0     100000.0   \n",
            "2020360                 94 PERCIVAL AVE        140600.0     190790.0   \n",
            "20281                  16 OXFORD STREET        170800.0     307000.0   \n",
            "20364          1308 LEXINGTON BOULEVARD        195300.0     365000.0   \n",
            "20423               10 CASTLE HILL ROAD        219870.0     325000.0   \n",
            "\n",
            "               Sales Ratio Property Type Residential Type Non Use Code  \\\n",
            "Serial Number                                                            \n",
            "200500            0.544100   Residential    Single Family          NaN   \n",
            "200121            0.681900   Residential    Single Family          NaN   \n",
            "20058             0.490434   Residential    Single Family          NaN   \n",
            "200046            0.650300   Residential    Single Family          NaN   \n",
            "200016            0.655900   Residential            Condo          NaN   \n",
            "2020360           0.736900   Residential    Single Family          NaN   \n",
            "20281             0.556300   Residential    Single Family          NaN   \n",
            "20364             0.535000   Residential            Condo          NaN   \n",
            "20423             0.676500   Residential    Single Family          NaN   \n",
            "\n",
            "                                Assessor Remarks  OPM remarks  \\\n",
            "Serial Number                                                   \n",
            "200500                                       NaN          NaN   \n",
            "200121                                       NaN          NaN   \n",
            "20058          2003 COLONIAL, 2140 SFLA, 2.99 AC          NaN   \n",
            "200046                                       NaN          NaN   \n",
            "200016                                       NaN          NaN   \n",
            "2020360                                      NaN          NaN   \n",
            "20281                                        NaN          NaN   \n",
            "20364                                        NaN          NaN   \n",
            "20423                                        NaN          NaN   \n",
            "\n",
            "                                 Location  \n",
            "Serial Number                              \n",
            "200500                                NaN  \n",
            "200121         POINT (-72.89675 41.79445)  \n",
            "20058                                 NaN  \n",
            "200046                                NaN  \n",
            "200016                                NaN  \n",
            "2020360                               NaN  \n",
            "20281                                 NaN  \n",
            "20364                                 NaN  \n",
            "20423                                 NaN  \n"
          ]
        }
      ]
    },
    {
      "cell_type": "code",
      "source": [
        "print(df.iloc[:, 2])\n"
      ],
      "metadata": {
        "colab": {
          "base_uri": "https://localhost:8080/"
        },
        "id": "NSHuU4jZFGG2",
        "outputId": "3ec34b82-160a-4e99-cf87-5d3bcaf5aa46"
      },
      "execution_count": 23,
      "outputs": [
        {
          "output_type": "stream",
          "name": "stdout",
          "text": [
            "Serial Number\n",
            "2020177       Ansonia\n",
            "2020225       Ansonia\n",
            "2020348       Ansonia\n",
            "2020090       Ansonia\n",
            "200500           Avon\n",
            "              ...    \n",
            "201166        Meriden\n",
            "200177     Middlebury\n",
            "200531     Middletown\n",
            "200888     Middletown\n",
            "200092     Middletown\n",
            "Name: Town, Length: 142, dtype: object\n"
          ]
        }
      ]
    },
    {
      "cell_type": "code",
      "source": [
        "print(df.iloc[:, 1:5])\n"
      ],
      "metadata": {
        "colab": {
          "base_uri": "https://localhost:8080/"
        },
        "id": "PpWyPPYcFGEB",
        "outputId": "a075b4de-c520-4800-d6f9-70c9a1f4206e"
      },
      "execution_count": 24,
      "outputs": [
        {
          "output_type": "stream",
          "name": "stdout",
          "text": [
            "              Date Recorded        Town                Address  Assessed Value\n",
            "Serial Number                                                                 \n",
            "2020177          04/14/2021     Ansonia          323 BEAVER ST        133000.0\n",
            "2020225          05/26/2021     Ansonia         152 JACKSON ST        110500.0\n",
            "2020348          09/13/2021     Ansonia        230 WAKELEE AVE        150500.0\n",
            "2020090          12/14/2020     Ansonia            57 PLATT ST        127400.0\n",
            "200500           09/07/2021        Avon           245 NEW ROAD        217640.0\n",
            "...                     ...         ...                    ...             ...\n",
            "201166           08/26/2021     Meriden  6006 MEETINGHOUSE VLG         59430.0\n",
            "200177           06/09/2021  Middlebury       289 BURR HALL RD       1144200.0\n",
            "200531           04/05/2021  Middletown         87 WESTWOOD LA        285040.0\n",
            "200888           07/29/2021  Middletown            PHEDON PKWY         49220.0\n",
            "200092           11/02/2020  Middletown    1692 BARTHOLOMEW RD        170650.0\n",
            "\n",
            "[142 rows x 4 columns]\n"
          ]
        }
      ]
    },
    {
      "cell_type": "code",
      "source": [
        "print(df.iloc[[6, 8, 14], [1, 3]])\n"
      ],
      "metadata": {
        "colab": {
          "base_uri": "https://localhost:8080/"
        },
        "id": "Da7veFO6FGBr",
        "outputId": "8c7b9a65-f6e5-4cc0-fad4-71cb0d1053ba"
      },
      "execution_count": 25,
      "outputs": [
        {
          "output_type": "stream",
          "name": "stdout",
          "text": [
            "              Date Recorded           Address\n",
            "Serial Number                                \n",
            "20058            06/01/2021  46 RATLUM MTN RD\n",
            "200016           11/13/2020      9 AVON COURT\n",
            "200008           10/21/2020  34 HIGHLAND ROAD\n"
          ]
        }
      ]
    },
    {
      "cell_type": "code",
      "source": [
        "print(df.iloc[[1, 5], 1:4])\n"
      ],
      "metadata": {
        "colab": {
          "base_uri": "https://localhost:8080/"
        },
        "id": "O4_Zs2iuFF_O",
        "outputId": "ac5f1c18-c39b-4945-875e-76b6bb5efbe2"
      },
      "execution_count": 26,
      "outputs": [
        {
          "output_type": "stream",
          "name": "stdout",
          "text": [
            "              Date Recorded     Town         Address\n",
            "Serial Number                                       \n",
            "2020225          05/26/2021  Ansonia  152 JACKSON ST\n",
            "200121           12/15/2020     Avon    63 NORTHGATE\n"
          ]
        }
      ]
    },
    {
      "cell_type": "code",
      "source": [
        "result = df.query(\"`Assessed Value` < 127400 and `Property Type` == 'Commercial' and `Residential Type` != 'Single Family'\")\n",
        "print(result)\n",
        "\n"
      ],
      "metadata": {
        "colab": {
          "base_uri": "https://localhost:8080/"
        },
        "id": "WNDDYy8lFF8U",
        "outputId": "30a43b4e-b05d-407e-a33b-6edf5a2fa751"
      },
      "execution_count": 31,
      "outputs": [
        {
          "output_type": "stream",
          "name": "stdout",
          "text": [
            "               List Year Date Recorded          Town           Address  \\\n",
            "Serial Number                                                            \n",
            "200114              2020    04/13/2021  East Windsor      12A PASCO DR   \n",
            "200097              2020    12/11/2020     Killingly       106 MAIN ST   \n",
            "200562              2020    03/15/2021       Meriden  302 EAST MAIN ST   \n",
            "\n",
            "               Assessed Value  Sale Amount  Sales Ratio Property Type  \\\n",
            "Serial Number                                                           \n",
            "200114               108920.0     144000.0       0.7563    Commercial   \n",
            "200097                64400.0      66900.0       0.9626    Commercial   \n",
            "200562               111090.0     150000.0       0.7406    Commercial   \n",
            "\n",
            "              Residential Type Non Use Code Assessor Remarks  OPM remarks  \\\n",
            "Serial Number                                                               \n",
            "200114                     NaN          NaN       COMM CONDO          NaN   \n",
            "200097                     NaN          NaN              NaN          NaN   \n",
            "200562                     NaN          NaN              NaN          NaN   \n",
            "\n",
            "              Location  \n",
            "Serial Number           \n",
            "200114             NaN  \n",
            "200097             NaN  \n",
            "200562             NaN  \n"
          ]
        }
      ]
    },
    {
      "cell_type": "code",
      "source": [
        "df = df.drop(index=df.index[2])\n",
        "print(df)\n"
      ],
      "metadata": {
        "colab": {
          "base_uri": "https://localhost:8080/"
        },
        "id": "vz-rzLHjF-ZY",
        "outputId": "0273d684-a6c4-4546-f107-ca5c84ccf2be"
      },
      "execution_count": 34,
      "outputs": [
        {
          "output_type": "stream",
          "name": "stdout",
          "text": [
            "               List Year Date Recorded        Town                Address  \\\n",
            "Serial Number                                                               \n",
            "2020177             2020    04/14/2021     Ansonia          323 BEAVER ST   \n",
            "2020225             2020    05/26/2021     Ansonia         152 JACKSON ST   \n",
            "2020090             2020    12/14/2020     Ansonia            57 PLATT ST   \n",
            "200500              2020    09/07/2021        Avon           245 NEW ROAD   \n",
            "200121              2020    12/15/2020        Avon           63 NORTHGATE   \n",
            "...                  ...           ...         ...                    ...   \n",
            "201166              2020    08/26/2021     Meriden  6006 MEETINGHOUSE VLG   \n",
            "200177              2020    06/09/2021  Middlebury       289 BURR HALL RD   \n",
            "200531              2020    04/05/2021  Middletown         87 WESTWOOD LA   \n",
            "200888              2020    07/29/2021  Middletown            PHEDON PKWY   \n",
            "200092              2020    11/02/2020  Middletown    1692 BARTHOLOMEW RD   \n",
            "\n",
            "               Assessed Value  Sale Amount  Sales Ratio Property Type  \\\n",
            "Serial Number                                                           \n",
            "2020177              133000.0     248400.0     0.535400   Residential   \n",
            "2020225              110500.0     239900.0     0.460600   Residential   \n",
            "2020090              127400.0     202500.0     0.629100   Residential   \n",
            "200500               217640.0     400000.0     0.544100   Residential   \n",
            "200121               528490.0     775000.0     0.681900   Residential   \n",
            "...                       ...          ...          ...           ...   \n",
            "201166                59430.0     135000.0     0.440200   Residential   \n",
            "200177              1144200.0    1676250.0     0.682595   Residential   \n",
            "200531               285040.0     400000.0     0.712600   Residential   \n",
            "200888                49220.0     100000.0     0.492200   Vacant Land   \n",
            "200092               170650.0     325000.0     0.525000   Residential   \n",
            "\n",
            "              Residential Type Non Use Code Assessor Remarks  OPM remarks  \\\n",
            "Serial Number                                                               \n",
            "2020177          Single Family          NaN              NaN          NaN   \n",
            "2020225           Three Family          NaN              NaN          NaN   \n",
            "2020090             Two Family          NaN              NaN          NaN   \n",
            "200500           Single Family          NaN              NaN          NaN   \n",
            "200121           Single Family          NaN              NaN          NaN   \n",
            "...                        ...          ...              ...          ...   \n",
            "201166                   Condo          NaN              NaN          NaN   \n",
            "200177           Single Family          NaN              NaN          NaN   \n",
            "200531           Single Family          NaN              NaN          NaN   \n",
            "200888                     NaN          NaN              NaN          NaN   \n",
            "200092           Single Family          NaN              NaN          NaN   \n",
            "\n",
            "                                 Location  \n",
            "Serial Number                              \n",
            "2020177        POINT (-73.06822 41.35014)  \n",
            "2020225                               NaN  \n",
            "2020090                               NaN  \n",
            "200500                                NaN  \n",
            "200121         POINT (-72.89675 41.79445)  \n",
            "...                                   ...  \n",
            "201166                                NaN  \n",
            "200177                                NaN  \n",
            "200531                                NaN  \n",
            "200888                                NaN  \n",
            "200092                                NaN  \n",
            "\n",
            "[141 rows x 13 columns]\n"
          ]
        }
      ]
    },
    {
      "source": [
        "df = df.drop(index=df.index[4:8])\n",
        "print(df)"
      ],
      "cell_type": "code",
      "metadata": {
        "id": "3ffm6O-wHpvI",
        "outputId": "ff91bea0-74cc-4a4a-c3b7-8eefc8aefc26",
        "colab": {
          "base_uri": "https://localhost:8080/"
        }
      },
      "execution_count": 37,
      "outputs": [
        {
          "output_type": "stream",
          "name": "stdout",
          "text": [
            "               List Year Date Recorded        Town                Address  \\\n",
            "Serial Number                                                               \n",
            "2020177             2020    04/14/2021     Ansonia          323 BEAVER ST   \n",
            "2020225             2020    05/26/2021     Ansonia         152 JACKSON ST   \n",
            "2020090             2020    12/14/2020     Ansonia            57 PLATT ST   \n",
            "200500              2020    09/07/2021        Avon           245 NEW ROAD   \n",
            "20097               2020    11/25/2020      Bethel      8 BLACKMAN AVENUE   \n",
            "...                  ...           ...         ...                    ...   \n",
            "201166              2020    08/26/2021     Meriden  6006 MEETINGHOUSE VLG   \n",
            "200177              2020    06/09/2021  Middlebury       289 BURR HALL RD   \n",
            "200531              2020    04/05/2021  Middletown         87 WESTWOOD LA   \n",
            "200888              2020    07/29/2021  Middletown            PHEDON PKWY   \n",
            "200092              2020    11/02/2020  Middletown    1692 BARTHOLOMEW RD   \n",
            "\n",
            "               Assessed Value  Sale Amount  Sales Ratio Property Type  \\\n",
            "Serial Number                                                           \n",
            "2020177              133000.0     248400.0     0.535400   Residential   \n",
            "2020225              110500.0     239900.0     0.460600   Residential   \n",
            "2020090              127400.0     202500.0     0.629100   Residential   \n",
            "200500               217640.0     400000.0     0.544100   Residential   \n",
            "20097                264040.0     445000.0     0.593300   Residential   \n",
            "...                       ...          ...          ...           ...   \n",
            "201166                59430.0     135000.0     0.440200   Residential   \n",
            "200177              1144200.0    1676250.0     0.682595   Residential   \n",
            "200531               285040.0     400000.0     0.712600   Residential   \n",
            "200888                49220.0     100000.0     0.492200   Vacant Land   \n",
            "200092               170650.0     325000.0     0.525000   Residential   \n",
            "\n",
            "              Residential Type Non Use Code Assessor Remarks  OPM remarks  \\\n",
            "Serial Number                                                               \n",
            "2020177          Single Family          NaN              NaN          NaN   \n",
            "2020225           Three Family          NaN              NaN          NaN   \n",
            "2020090             Two Family          NaN              NaN          NaN   \n",
            "200500           Single Family          NaN              NaN          NaN   \n",
            "20097               Two Family          NaN              NaN          NaN   \n",
            "...                        ...          ...              ...          ...   \n",
            "201166                   Condo          NaN              NaN          NaN   \n",
            "200177           Single Family          NaN              NaN          NaN   \n",
            "200531           Single Family          NaN              NaN          NaN   \n",
            "200888                     NaN          NaN              NaN          NaN   \n",
            "200092           Single Family          NaN              NaN          NaN   \n",
            "\n",
            "                                 Location  \n",
            "Serial Number                              \n",
            "2020177        POINT (-73.06822 41.35014)  \n",
            "2020225                               NaN  \n",
            "2020090                               NaN  \n",
            "200500                                NaN  \n",
            "20097                                 NaN  \n",
            "...                                   ...  \n",
            "201166                                NaN  \n",
            "200177                                NaN  \n",
            "200531                                NaN  \n",
            "200888                                NaN  \n",
            "200092                                NaN  \n",
            "\n",
            "[133 rows x 13 columns]\n"
          ]
        }
      ]
    },
    {
      "cell_type": "code",
      "source": [
        "df = df.drop(columns=\"Residential Type\")\n",
        "print(df)\n"
      ],
      "metadata": {
        "colab": {
          "base_uri": "https://localhost:8080/"
        },
        "id": "tv_8oFLUF-R5",
        "outputId": "a4ef18c6-c1c8-449a-818e-3a71c1b2665b"
      },
      "execution_count": 38,
      "outputs": [
        {
          "output_type": "stream",
          "name": "stdout",
          "text": [
            "               List Year Date Recorded        Town                Address  \\\n",
            "Serial Number                                                               \n",
            "2020177             2020    04/14/2021     Ansonia          323 BEAVER ST   \n",
            "2020225             2020    05/26/2021     Ansonia         152 JACKSON ST   \n",
            "2020090             2020    12/14/2020     Ansonia            57 PLATT ST   \n",
            "200500              2020    09/07/2021        Avon           245 NEW ROAD   \n",
            "20097               2020    11/25/2020      Bethel      8 BLACKMAN AVENUE   \n",
            "...                  ...           ...         ...                    ...   \n",
            "201166              2020    08/26/2021     Meriden  6006 MEETINGHOUSE VLG   \n",
            "200177              2020    06/09/2021  Middlebury       289 BURR HALL RD   \n",
            "200531              2020    04/05/2021  Middletown         87 WESTWOOD LA   \n",
            "200888              2020    07/29/2021  Middletown            PHEDON PKWY   \n",
            "200092              2020    11/02/2020  Middletown    1692 BARTHOLOMEW RD   \n",
            "\n",
            "               Assessed Value  Sale Amount  Sales Ratio Property Type  \\\n",
            "Serial Number                                                           \n",
            "2020177              133000.0     248400.0     0.535400   Residential   \n",
            "2020225              110500.0     239900.0     0.460600   Residential   \n",
            "2020090              127400.0     202500.0     0.629100   Residential   \n",
            "200500               217640.0     400000.0     0.544100   Residential   \n",
            "20097                264040.0     445000.0     0.593300   Residential   \n",
            "...                       ...          ...          ...           ...   \n",
            "201166                59430.0     135000.0     0.440200   Residential   \n",
            "200177              1144200.0    1676250.0     0.682595   Residential   \n",
            "200531               285040.0     400000.0     0.712600   Residential   \n",
            "200888                49220.0     100000.0     0.492200   Vacant Land   \n",
            "200092               170650.0     325000.0     0.525000   Residential   \n",
            "\n",
            "              Non Use Code Assessor Remarks  OPM remarks  \\\n",
            "Serial Number                                              \n",
            "2020177                NaN              NaN          NaN   \n",
            "2020225                NaN              NaN          NaN   \n",
            "2020090                NaN              NaN          NaN   \n",
            "200500                 NaN              NaN          NaN   \n",
            "20097                  NaN              NaN          NaN   \n",
            "...                    ...              ...          ...   \n",
            "201166                 NaN              NaN          NaN   \n",
            "200177                 NaN              NaN          NaN   \n",
            "200531                 NaN              NaN          NaN   \n",
            "200888                 NaN              NaN          NaN   \n",
            "200092                 NaN              NaN          NaN   \n",
            "\n",
            "                                 Location  \n",
            "Serial Number                              \n",
            "2020177        POINT (-73.06822 41.35014)  \n",
            "2020225                               NaN  \n",
            "2020090                               NaN  \n",
            "200500                                NaN  \n",
            "20097                                 NaN  \n",
            "...                                   ...  \n",
            "201166                                NaN  \n",
            "200177                                NaN  \n",
            "200531                                NaN  \n",
            "200888                                NaN  \n",
            "200092                                NaN  \n",
            "\n",
            "[133 rows x 12 columns]\n"
          ]
        }
      ]
    },
    {
      "cell_type": "code",
      "source": [
        "df = df.drop(columns=[\"Assessor Remarks\", \"Location\"])\n",
        "print(df)\n"
      ],
      "metadata": {
        "colab": {
          "base_uri": "https://localhost:8080/"
        },
        "id": "RkFABQZWF-PV",
        "outputId": "9270611e-e5fd-4cec-fdb1-bc7613b3c43c"
      },
      "execution_count": 39,
      "outputs": [
        {
          "output_type": "stream",
          "name": "stdout",
          "text": [
            "               List Year Date Recorded        Town                Address  \\\n",
            "Serial Number                                                               \n",
            "2020177             2020    04/14/2021     Ansonia          323 BEAVER ST   \n",
            "2020225             2020    05/26/2021     Ansonia         152 JACKSON ST   \n",
            "2020090             2020    12/14/2020     Ansonia            57 PLATT ST   \n",
            "200500              2020    09/07/2021        Avon           245 NEW ROAD   \n",
            "20097               2020    11/25/2020      Bethel      8 BLACKMAN AVENUE   \n",
            "...                  ...           ...         ...                    ...   \n",
            "201166              2020    08/26/2021     Meriden  6006 MEETINGHOUSE VLG   \n",
            "200177              2020    06/09/2021  Middlebury       289 BURR HALL RD   \n",
            "200531              2020    04/05/2021  Middletown         87 WESTWOOD LA   \n",
            "200888              2020    07/29/2021  Middletown            PHEDON PKWY   \n",
            "200092              2020    11/02/2020  Middletown    1692 BARTHOLOMEW RD   \n",
            "\n",
            "               Assessed Value  Sale Amount  Sales Ratio Property Type  \\\n",
            "Serial Number                                                           \n",
            "2020177              133000.0     248400.0     0.535400   Residential   \n",
            "2020225              110500.0     239900.0     0.460600   Residential   \n",
            "2020090              127400.0     202500.0     0.629100   Residential   \n",
            "200500               217640.0     400000.0     0.544100   Residential   \n",
            "20097                264040.0     445000.0     0.593300   Residential   \n",
            "...                       ...          ...          ...           ...   \n",
            "201166                59430.0     135000.0     0.440200   Residential   \n",
            "200177              1144200.0    1676250.0     0.682595   Residential   \n",
            "200531               285040.0     400000.0     0.712600   Residential   \n",
            "200888                49220.0     100000.0     0.492200   Vacant Land   \n",
            "200092               170650.0     325000.0     0.525000   Residential   \n",
            "\n",
            "              Non Use Code  OPM remarks  \n",
            "Serial Number                            \n",
            "2020177                NaN          NaN  \n",
            "2020225                NaN          NaN  \n",
            "2020090                NaN          NaN  \n",
            "200500                 NaN          NaN  \n",
            "20097                  NaN          NaN  \n",
            "...                    ...          ...  \n",
            "201166                 NaN          NaN  \n",
            "200177                 NaN          NaN  \n",
            "200531                 NaN          NaN  \n",
            "200888                 NaN          NaN  \n",
            "200092                 NaN          NaN  \n",
            "\n",
            "[133 rows x 10 columns]\n"
          ]
        }
      ]
    },
    {
      "cell_type": "code",
      "source": [
        "df = df.rename(columns={\"List Year\": \"List_Year_Changed\"})\n",
        "print(df)\n"
      ],
      "metadata": {
        "colab": {
          "base_uri": "https://localhost:8080/"
        },
        "id": "VAUC34HeF-M8",
        "outputId": "16e0fa9f-bd14-4dfd-83a4-b0a466bf372f"
      },
      "execution_count": 40,
      "outputs": [
        {
          "output_type": "stream",
          "name": "stdout",
          "text": [
            "               List_Year_Changed Date Recorded        Town  \\\n",
            "Serial Number                                                \n",
            "2020177                     2020    04/14/2021     Ansonia   \n",
            "2020225                     2020    05/26/2021     Ansonia   \n",
            "2020090                     2020    12/14/2020     Ansonia   \n",
            "200500                      2020    09/07/2021        Avon   \n",
            "20097                       2020    11/25/2020      Bethel   \n",
            "...                          ...           ...         ...   \n",
            "201166                      2020    08/26/2021     Meriden   \n",
            "200177                      2020    06/09/2021  Middlebury   \n",
            "200531                      2020    04/05/2021  Middletown   \n",
            "200888                      2020    07/29/2021  Middletown   \n",
            "200092                      2020    11/02/2020  Middletown   \n",
            "\n",
            "                             Address  Assessed Value  Sale Amount  \\\n",
            "Serial Number                                                       \n",
            "2020177                323 BEAVER ST        133000.0     248400.0   \n",
            "2020225               152 JACKSON ST        110500.0     239900.0   \n",
            "2020090                  57 PLATT ST        127400.0     202500.0   \n",
            "200500                  245 NEW ROAD        217640.0     400000.0   \n",
            "20097              8 BLACKMAN AVENUE        264040.0     445000.0   \n",
            "...                              ...             ...          ...   \n",
            "201166         6006 MEETINGHOUSE VLG         59430.0     135000.0   \n",
            "200177              289 BURR HALL RD       1144200.0    1676250.0   \n",
            "200531                87 WESTWOOD LA        285040.0     400000.0   \n",
            "200888                   PHEDON PKWY         49220.0     100000.0   \n",
            "200092           1692 BARTHOLOMEW RD        170650.0     325000.0   \n",
            "\n",
            "               Sales Ratio Property Type Non Use Code  OPM remarks  \n",
            "Serial Number                                                       \n",
            "2020177           0.535400   Residential          NaN          NaN  \n",
            "2020225           0.460600   Residential          NaN          NaN  \n",
            "2020090           0.629100   Residential          NaN          NaN  \n",
            "200500            0.544100   Residential          NaN          NaN  \n",
            "20097             0.593300   Residential          NaN          NaN  \n",
            "...                    ...           ...          ...          ...  \n",
            "201166            0.440200   Residential          NaN          NaN  \n",
            "200177            0.682595   Residential          NaN          NaN  \n",
            "200531            0.712600   Residential          NaN          NaN  \n",
            "200888            0.492200   Vacant Land          NaN          NaN  \n",
            "200092            0.525000   Residential          NaN          NaN  \n",
            "\n",
            "[133 rows x 10 columns]\n"
          ]
        }
      ]
    },
    {
      "cell_type": "code",
      "source": [
        "df = df.replace({\"200400\": \"20040333\"})\n",
        "print(df)\n"
      ],
      "metadata": {
        "colab": {
          "base_uri": "https://localhost:8080/"
        },
        "id": "EGU9w6ccF96K",
        "outputId": "5d6cf2de-8640-46ad-d2af-7c86430e57fb"
      },
      "execution_count": 41,
      "outputs": [
        {
          "output_type": "stream",
          "name": "stdout",
          "text": [
            "               List_Year_Changed Date Recorded        Town  \\\n",
            "Serial Number                                                \n",
            "2020177                     2020    04/14/2021     Ansonia   \n",
            "2020225                     2020    05/26/2021     Ansonia   \n",
            "2020090                     2020    12/14/2020     Ansonia   \n",
            "200500                      2020    09/07/2021        Avon   \n",
            "20097                       2020    11/25/2020      Bethel   \n",
            "...                          ...           ...         ...   \n",
            "201166                      2020    08/26/2021     Meriden   \n",
            "200177                      2020    06/09/2021  Middlebury   \n",
            "200531                      2020    04/05/2021  Middletown   \n",
            "200888                      2020    07/29/2021  Middletown   \n",
            "200092                      2020    11/02/2020  Middletown   \n",
            "\n",
            "                             Address  Assessed Value  Sale Amount  \\\n",
            "Serial Number                                                       \n",
            "2020177                323 BEAVER ST        133000.0     248400.0   \n",
            "2020225               152 JACKSON ST        110500.0     239900.0   \n",
            "2020090                  57 PLATT ST        127400.0     202500.0   \n",
            "200500                  245 NEW ROAD        217640.0     400000.0   \n",
            "20097              8 BLACKMAN AVENUE        264040.0     445000.0   \n",
            "...                              ...             ...          ...   \n",
            "201166         6006 MEETINGHOUSE VLG         59430.0     135000.0   \n",
            "200177              289 BURR HALL RD       1144200.0    1676250.0   \n",
            "200531                87 WESTWOOD LA        285040.0     400000.0   \n",
            "200888                   PHEDON PKWY         49220.0     100000.0   \n",
            "200092           1692 BARTHOLOMEW RD        170650.0     325000.0   \n",
            "\n",
            "               Sales Ratio Property Type Non Use Code  OPM remarks  \n",
            "Serial Number                                                       \n",
            "2020177           0.535400   Residential          NaN          NaN  \n",
            "2020225           0.460600   Residential          NaN          NaN  \n",
            "2020090           0.629100   Residential          NaN          NaN  \n",
            "200500            0.544100   Residential          NaN          NaN  \n",
            "20097             0.593300   Residential          NaN          NaN  \n",
            "...                    ...           ...          ...          ...  \n",
            "201166            0.440200   Residential          NaN          NaN  \n",
            "200177            0.682595   Residential          NaN          NaN  \n",
            "200531            0.712600   Residential          NaN          NaN  \n",
            "200888            0.492200   Vacant Land          NaN          NaN  \n",
            "200092            0.525000   Residential          NaN          NaN  \n",
            "\n",
            "[133 rows x 10 columns]\n"
          ]
        }
      ]
    },
    {
      "source": [
        "result = df.query(\"`Assessed Value` < 127400 and `Property Type` == 'Commercial'\") # Removed the clause that references the dropped column 'Residential Type'\n",
        "print(result)"
      ],
      "cell_type": "code",
      "metadata": {
        "id": "KG2JKU_2IT_a",
        "outputId": "97b94ab4-3cf5-453a-c959-8a90062a01d8",
        "colab": {
          "base_uri": "https://localhost:8080/"
        }
      },
      "execution_count": 43,
      "outputs": [
        {
          "output_type": "stream",
          "name": "stdout",
          "text": [
            "               List_Year_Changed Date Recorded          Town  \\\n",
            "Serial Number                                                  \n",
            "200114                      2020    04/13/2021  East Windsor   \n",
            "200097                      2020    12/11/2020     Killingly   \n",
            "200562                      2020    03/15/2021       Meriden   \n",
            "\n",
            "                        Address  Assessed Value  Sale Amount  Sales Ratio  \\\n",
            "Serial Number                                                               \n",
            "200114             12A PASCO DR        108920.0     144000.0       0.7563   \n",
            "200097              106 MAIN ST         64400.0      66900.0       0.9626   \n",
            "200562         302 EAST MAIN ST        111090.0     150000.0       0.7406   \n",
            "\n",
            "              Property Type Non Use Code  OPM remarks  \n",
            "Serial Number                                          \n",
            "200114           Commercial          NaN          NaN  \n",
            "200097           Commercial          NaN          NaN  \n",
            "200562           Commercial          NaN          NaN  \n"
          ]
        }
      ]
    },
    {
      "cell_type": "code",
      "source": [
        "result = df.groupby(\"Property Type\")[\"Sale Amount\"].sum()\n",
        "print(result)\n"
      ],
      "metadata": {
        "id": "Ev-gfDZGIZLO",
        "outputId": "1a979aea-9d8c-4b7e-e264-7b9e8f93d482",
        "colab": {
          "base_uri": "https://localhost:8080/"
        }
      },
      "execution_count": 44,
      "outputs": [
        {
          "output_type": "stream",
          "name": "stdout",
          "text": [
            "Property Type\n",
            "Apartments          565000.0\n",
            "Commercial         1958900.0\n",
            "Public Utility      315000.0\n",
            "Residential       47296901.0\n",
            "Vacant Land        1539150.0\n",
            "Name: Sale Amount, dtype: float64\n"
          ]
        }
      ]
    },
    {
      "cell_type": "code",
      "source": [
        "df = df.dropna()\n",
        "print(df)\n"
      ],
      "metadata": {
        "id": "TxSIUd2SIY_A",
        "outputId": "bb51283b-2a4c-44c5-9610-c968d0967f61",
        "colab": {
          "base_uri": "https://localhost:8080/"
        }
      },
      "execution_count": 45,
      "outputs": [
        {
          "output_type": "stream",
          "name": "stdout",
          "text": [
            "Empty DataFrame\n",
            "Columns: [List_Year_Changed, Date Recorded, Town, Address, Assessed Value, Sale Amount, Sales Ratio, Property Type, Non Use Code, OPM remarks]\n",
            "Index: []\n"
          ]
        }
      ]
    },
    {
      "cell_type": "code",
      "source": [
        "df = df.fillna(0)\n",
        "print(df)\n"
      ],
      "metadata": {
        "id": "eb3QhDfiIYzJ",
        "outputId": "26750edf-2874-4cff-eb5f-06fbacae6260",
        "colab": {
          "base_uri": "https://localhost:8080/"
        }
      },
      "execution_count": 46,
      "outputs": [
        {
          "output_type": "stream",
          "name": "stdout",
          "text": [
            "Empty DataFrame\n",
            "Columns: [List_Year_Changed, Date Recorded, Town, Address, Assessed Value, Sale Amount, Sales Ratio, Property Type, Non Use Code, OPM remarks]\n",
            "Index: []\n"
          ]
        }
      ]
    }
  ]
}